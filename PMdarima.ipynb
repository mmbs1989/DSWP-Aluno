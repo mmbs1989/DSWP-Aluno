{
  "nbformat": 4,
  "nbformat_minor": 0,
  "metadata": {
    "colab": {
      "name": "Untitled1.ipynb",
      "provenance": [],
      "authorship_tag": "ABX9TyPJLjE8kOqoMjAMA3zboPqp",
      "include_colab_link": true
    },
    "kernelspec": {
      "name": "python3",
      "display_name": "Python 3"
    }
  },
  "cells": [
    {
      "cell_type": "markdown",
      "metadata": {
        "id": "view-in-github",
        "colab_type": "text"
      },
      "source": [
        "<a href=\"https://colab.research.google.com/github/mmbs1989/DSWP-Aluno/blob/main/PMdarima.ipynb\" target=\"_parent\"><img src=\"https://colab.research.google.com/assets/colab-badge.svg\" alt=\"Open In Colab\"/></a>"
      ]
    },
    {
      "cell_type": "code",
      "metadata": {
        "colab": {
          "base_uri": "https://localhost:8080/"
        },
        "id": "B8ktOwRQLiGX",
        "outputId": "6743f402-43ea-4442-8b74-ffb5f3ce0d61"
      },
      "source": [
        "pip install pmdarima"
      ],
      "execution_count": 1,
      "outputs": [
        {
          "output_type": "stream",
          "text": [
            "Collecting pmdarima\n",
            "\u001b[?25l  Downloading https://files.pythonhosted.org/packages/c9/d7/61af1897449638822f97c8b43ef0c2fce2ec68a6cda9a43ebbbdd12b967c/pmdarima-1.8.0-cp36-cp36m-manylinux1_x86_64.whl (1.5MB)\n",
            "\r\u001b[K     |▎                               | 10kB 21.0MB/s eta 0:00:01\r\u001b[K     |▌                               | 20kB 14.7MB/s eta 0:00:01\r\u001b[K     |▊                               | 30kB 12.3MB/s eta 0:00:01\r\u001b[K     |█                               | 40kB 11.8MB/s eta 0:00:01\r\u001b[K     |█▏                              | 51kB 7.8MB/s eta 0:00:01\r\u001b[K     |█▍                              | 61kB 7.2MB/s eta 0:00:01\r\u001b[K     |█▋                              | 71kB 8.2MB/s eta 0:00:01\r\u001b[K     |█▉                              | 81kB 9.0MB/s eta 0:00:01\r\u001b[K     |██                              | 92kB 8.4MB/s eta 0:00:01\r\u001b[K     |██▎                             | 102kB 8.6MB/s eta 0:00:01\r\u001b[K     |██▌                             | 112kB 8.6MB/s eta 0:00:01\r\u001b[K     |██▊                             | 122kB 8.6MB/s eta 0:00:01\r\u001b[K     |███                             | 133kB 8.6MB/s eta 0:00:01\r\u001b[K     |███▏                            | 143kB 8.6MB/s eta 0:00:01\r\u001b[K     |███▍                            | 153kB 8.6MB/s eta 0:00:01\r\u001b[K     |███▋                            | 163kB 8.6MB/s eta 0:00:01\r\u001b[K     |███▉                            | 174kB 8.6MB/s eta 0:00:01\r\u001b[K     |████                            | 184kB 8.6MB/s eta 0:00:01\r\u001b[K     |████▎                           | 194kB 8.6MB/s eta 0:00:01\r\u001b[K     |████▌                           | 204kB 8.6MB/s eta 0:00:01\r\u001b[K     |████▊                           | 215kB 8.6MB/s eta 0:00:01\r\u001b[K     |█████                           | 225kB 8.6MB/s eta 0:00:01\r\u001b[K     |█████▏                          | 235kB 8.6MB/s eta 0:00:01\r\u001b[K     |█████▍                          | 245kB 8.6MB/s eta 0:00:01\r\u001b[K     |█████▋                          | 256kB 8.6MB/s eta 0:00:01\r\u001b[K     |█████▉                          | 266kB 8.6MB/s eta 0:00:01\r\u001b[K     |██████                          | 276kB 8.6MB/s eta 0:00:01\r\u001b[K     |██████▎                         | 286kB 8.6MB/s eta 0:00:01\r\u001b[K     |██████▌                         | 296kB 8.6MB/s eta 0:00:01\r\u001b[K     |██████▊                         | 307kB 8.6MB/s eta 0:00:01\r\u001b[K     |███████                         | 317kB 8.6MB/s eta 0:00:01\r\u001b[K     |███████▏                        | 327kB 8.6MB/s eta 0:00:01\r\u001b[K     |███████▍                        | 337kB 8.6MB/s eta 0:00:01\r\u001b[K     |███████▋                        | 348kB 8.6MB/s eta 0:00:01\r\u001b[K     |███████▉                        | 358kB 8.6MB/s eta 0:00:01\r\u001b[K     |████████                        | 368kB 8.6MB/s eta 0:00:01\r\u001b[K     |████████▎                       | 378kB 8.6MB/s eta 0:00:01\r\u001b[K     |████████▌                       | 389kB 8.6MB/s eta 0:00:01\r\u001b[K     |████████▊                       | 399kB 8.6MB/s eta 0:00:01\r\u001b[K     |█████████                       | 409kB 8.6MB/s eta 0:00:01\r\u001b[K     |█████████▏                      | 419kB 8.6MB/s eta 0:00:01\r\u001b[K     |█████████▍                      | 430kB 8.6MB/s eta 0:00:01\r\u001b[K     |█████████▋                      | 440kB 8.6MB/s eta 0:00:01\r\u001b[K     |█████████▉                      | 450kB 8.6MB/s eta 0:00:01\r\u001b[K     |██████████                      | 460kB 8.6MB/s eta 0:00:01\r\u001b[K     |██████████▎                     | 471kB 8.6MB/s eta 0:00:01\r\u001b[K     |██████████▌                     | 481kB 8.6MB/s eta 0:00:01\r\u001b[K     |██████████▊                     | 491kB 8.6MB/s eta 0:00:01\r\u001b[K     |███████████                     | 501kB 8.6MB/s eta 0:00:01\r\u001b[K     |███████████▏                    | 512kB 8.6MB/s eta 0:00:01\r\u001b[K     |███████████▍                    | 522kB 8.6MB/s eta 0:00:01\r\u001b[K     |███████████▋                    | 532kB 8.6MB/s eta 0:00:01\r\u001b[K     |███████████▉                    | 542kB 8.6MB/s eta 0:00:01\r\u001b[K     |████████████                    | 552kB 8.6MB/s eta 0:00:01\r\u001b[K     |████████████▎                   | 563kB 8.6MB/s eta 0:00:01\r\u001b[K     |████████████▌                   | 573kB 8.6MB/s eta 0:00:01\r\u001b[K     |████████████▊                   | 583kB 8.6MB/s eta 0:00:01\r\u001b[K     |█████████████                   | 593kB 8.6MB/s eta 0:00:01\r\u001b[K     |█████████████▏                  | 604kB 8.6MB/s eta 0:00:01\r\u001b[K     |█████████████▍                  | 614kB 8.6MB/s eta 0:00:01\r\u001b[K     |█████████████▋                  | 624kB 8.6MB/s eta 0:00:01\r\u001b[K     |█████████████▉                  | 634kB 8.6MB/s eta 0:00:01\r\u001b[K     |██████████████                  | 645kB 8.6MB/s eta 0:00:01\r\u001b[K     |██████████████▎                 | 655kB 8.6MB/s eta 0:00:01\r\u001b[K     |██████████████▌                 | 665kB 8.6MB/s eta 0:00:01\r\u001b[K     |██████████████▊                 | 675kB 8.6MB/s eta 0:00:01\r\u001b[K     |███████████████                 | 686kB 8.6MB/s eta 0:00:01\r\u001b[K     |███████████████▏                | 696kB 8.6MB/s eta 0:00:01\r\u001b[K     |███████████████▍                | 706kB 8.6MB/s eta 0:00:01\r\u001b[K     |███████████████▋                | 716kB 8.6MB/s eta 0:00:01\r\u001b[K     |███████████████▉                | 727kB 8.6MB/s eta 0:00:01\r\u001b[K     |████████████████                | 737kB 8.6MB/s eta 0:00:01\r\u001b[K     |████████████████▎               | 747kB 8.6MB/s eta 0:00:01\r\u001b[K     |████████████████▌               | 757kB 8.6MB/s eta 0:00:01\r\u001b[K     |████████████████▊               | 768kB 8.6MB/s eta 0:00:01\r\u001b[K     |█████████████████               | 778kB 8.6MB/s eta 0:00:01\r\u001b[K     |█████████████████▏              | 788kB 8.6MB/s eta 0:00:01\r\u001b[K     |█████████████████▍              | 798kB 8.6MB/s eta 0:00:01\r\u001b[K     |█████████████████▋              | 808kB 8.6MB/s eta 0:00:01\r\u001b[K     |█████████████████▉              | 819kB 8.6MB/s eta 0:00:01\r\u001b[K     |██████████████████▏             | 829kB 8.6MB/s eta 0:00:01\r\u001b[K     |██████████████████▍             | 839kB 8.6MB/s eta 0:00:01\r\u001b[K     |██████████████████▋             | 849kB 8.6MB/s eta 0:00:01\r\u001b[K     |██████████████████▉             | 860kB 8.6MB/s eta 0:00:01\r\u001b[K     |███████████████████             | 870kB 8.6MB/s eta 0:00:01\r\u001b[K     |███████████████████▎            | 880kB 8.6MB/s eta 0:00:01\r\u001b[K     |███████████████████▌            | 890kB 8.6MB/s eta 0:00:01\r\u001b[K     |███████████████████▊            | 901kB 8.6MB/s eta 0:00:01\r\u001b[K     |████████████████████            | 911kB 8.6MB/s eta 0:00:01\r\u001b[K     |████████████████████▏           | 921kB 8.6MB/s eta 0:00:01\r\u001b[K     |████████████████████▍           | 931kB 8.6MB/s eta 0:00:01\r\u001b[K     |████████████████████▋           | 942kB 8.6MB/s eta 0:00:01\r\u001b[K     |████████████████████▉           | 952kB 8.6MB/s eta 0:00:01\r\u001b[K     |█████████████████████           | 962kB 8.6MB/s eta 0:00:01\r\u001b[K     |█████████████████████▎          | 972kB 8.6MB/s eta 0:00:01\r\u001b[K     |█████████████████████▌          | 983kB 8.6MB/s eta 0:00:01\r\u001b[K     |█████████████████████▊          | 993kB 8.6MB/s eta 0:00:01\r\u001b[K     |██████████████████████          | 1.0MB 8.6MB/s eta 0:00:01\r\u001b[K     |██████████████████████▏         | 1.0MB 8.6MB/s eta 0:00:01\r\u001b[K     |██████████████████████▍         | 1.0MB 8.6MB/s eta 0:00:01\r\u001b[K     |██████████████████████▋         | 1.0MB 8.6MB/s eta 0:00:01\r\u001b[K     |██████████████████████▉         | 1.0MB 8.6MB/s eta 0:00:01\r\u001b[K     |███████████████████████         | 1.1MB 8.6MB/s eta 0:00:01\r\u001b[K     |███████████████████████▎        | 1.1MB 8.6MB/s eta 0:00:01\r\u001b[K     |███████████████████████▌        | 1.1MB 8.6MB/s eta 0:00:01\r\u001b[K     |███████████████████████▊        | 1.1MB 8.6MB/s eta 0:00:01\r\u001b[K     |████████████████████████        | 1.1MB 8.6MB/s eta 0:00:01\r\u001b[K     |████████████████████████▏       | 1.1MB 8.6MB/s eta 0:00:01\r\u001b[K     |████████████████████████▍       | 1.1MB 8.6MB/s eta 0:00:01\r\u001b[K     |████████████████████████▋       | 1.1MB 8.6MB/s eta 0:00:01\r\u001b[K     |████████████████████████▉       | 1.1MB 8.6MB/s eta 0:00:01\r\u001b[K     |█████████████████████████       | 1.1MB 8.6MB/s eta 0:00:01\r\u001b[K     |█████████████████████████▎      | 1.2MB 8.6MB/s eta 0:00:01\r\u001b[K     |█████████████████████████▌      | 1.2MB 8.6MB/s eta 0:00:01\r\u001b[K     |█████████████████████████▊      | 1.2MB 8.6MB/s eta 0:00:01\r\u001b[K     |██████████████████████████      | 1.2MB 8.6MB/s eta 0:00:01\r\u001b[K     |██████████████████████████▏     | 1.2MB 8.6MB/s eta 0:00:01\r\u001b[K     |██████████████████████████▍     | 1.2MB 8.6MB/s eta 0:00:01\r\u001b[K     |██████████████████████████▋     | 1.2MB 8.6MB/s eta 0:00:01\r\u001b[K     |██████████████████████████▉     | 1.2MB 8.6MB/s eta 0:00:01\r\u001b[K     |███████████████████████████     | 1.2MB 8.6MB/s eta 0:00:01\r\u001b[K     |███████████████████████████▎    | 1.2MB 8.6MB/s eta 0:00:01\r\u001b[K     |███████████████████████████▌    | 1.3MB 8.6MB/s eta 0:00:01\r\u001b[K     |███████████████████████████▊    | 1.3MB 8.6MB/s eta 0:00:01\r\u001b[K     |████████████████████████████    | 1.3MB 8.6MB/s eta 0:00:01\r\u001b[K     |████████████████████████████▏   | 1.3MB 8.6MB/s eta 0:00:01\r\u001b[K     |████████████████████████████▍   | 1.3MB 8.6MB/s eta 0:00:01\r\u001b[K     |████████████████████████████▋   | 1.3MB 8.6MB/s eta 0:00:01\r\u001b[K     |████████████████████████████▉   | 1.3MB 8.6MB/s eta 0:00:01\r\u001b[K     |█████████████████████████████   | 1.3MB 8.6MB/s eta 0:00:01\r\u001b[K     |█████████████████████████████▎  | 1.3MB 8.6MB/s eta 0:00:01\r\u001b[K     |█████████████████████████████▌  | 1.4MB 8.6MB/s eta 0:00:01\r\u001b[K     |█████████████████████████████▊  | 1.4MB 8.6MB/s eta 0:00:01\r\u001b[K     |██████████████████████████████  | 1.4MB 8.6MB/s eta 0:00:01\r\u001b[K     |██████████████████████████████▏ | 1.4MB 8.6MB/s eta 0:00:01\r\u001b[K     |██████████████████████████████▍ | 1.4MB 8.6MB/s eta 0:00:01\r\u001b[K     |██████████████████████████████▋ | 1.4MB 8.6MB/s eta 0:00:01\r\u001b[K     |██████████████████████████████▉ | 1.4MB 8.6MB/s eta 0:00:01\r\u001b[K     |███████████████████████████████ | 1.4MB 8.6MB/s eta 0:00:01\r\u001b[K     |███████████████████████████████▎| 1.4MB 8.6MB/s eta 0:00:01\r\u001b[K     |███████████████████████████████▌| 1.4MB 8.6MB/s eta 0:00:01\r\u001b[K     |███████████████████████████████▊| 1.5MB 8.6MB/s eta 0:00:01\r\u001b[K     |████████████████████████████████| 1.5MB 8.6MB/s eta 0:00:01\r\u001b[K     |████████████████████████████████| 1.5MB 8.6MB/s \n",
            "\u001b[?25hRequirement already satisfied: numpy>=1.17.3 in /usr/local/lib/python3.6/dist-packages (from pmdarima) (1.19.5)\n",
            "Requirement already satisfied: urllib3 in /usr/local/lib/python3.6/dist-packages (from pmdarima) (1.24.3)\n",
            "Requirement already satisfied: pandas>=0.19 in /usr/local/lib/python3.6/dist-packages (from pmdarima) (1.1.5)\n",
            "Requirement already satisfied: setuptools!=50.0.0,>=38.6.0 in /usr/local/lib/python3.6/dist-packages (from pmdarima) (53.0.0)\n",
            "Requirement already satisfied: joblib>=0.11 in /usr/local/lib/python3.6/dist-packages (from pmdarima) (1.0.0)\n",
            "Collecting statsmodels!=0.12.0,>=0.11\n",
            "\u001b[?25l  Downloading https://files.pythonhosted.org/packages/0d/7b/c17815648dc31396af865b9c6627cc3f95705954e30f61106795361c39ee/statsmodels-0.12.2-cp36-cp36m-manylinux1_x86_64.whl (9.5MB)\n",
            "\u001b[K     |████████████████████████████████| 9.5MB 22.7MB/s \n",
            "\u001b[?25hRequirement already satisfied: scikit-learn>=0.22 in /usr/local/lib/python3.6/dist-packages (from pmdarima) (0.22.2.post1)\n",
            "Collecting Cython<0.29.18,>=0.29\n",
            "\u001b[?25l  Downloading https://files.pythonhosted.org/packages/e7/d7/510ddef0248f3e1e91f9cc7e31c0f35f8954d0af92c5c3fd4c853e859ebe/Cython-0.29.17-cp36-cp36m-manylinux1_x86_64.whl (2.1MB)\n",
            "\u001b[K     |████████████████████████████████| 2.1MB 59.2MB/s \n",
            "\u001b[?25hRequirement already satisfied: scipy>=1.3.2 in /usr/local/lib/python3.6/dist-packages (from pmdarima) (1.4.1)\n",
            "Requirement already satisfied: pytz>=2017.2 in /usr/local/lib/python3.6/dist-packages (from pandas>=0.19->pmdarima) (2018.9)\n",
            "Requirement already satisfied: python-dateutil>=2.7.3 in /usr/local/lib/python3.6/dist-packages (from pandas>=0.19->pmdarima) (2.8.1)\n",
            "Requirement already satisfied: patsy>=0.5 in /usr/local/lib/python3.6/dist-packages (from statsmodels!=0.12.0,>=0.11->pmdarima) (0.5.1)\n",
            "Requirement already satisfied: six>=1.5 in /usr/local/lib/python3.6/dist-packages (from python-dateutil>=2.7.3->pandas>=0.19->pmdarima) (1.15.0)\n",
            "Installing collected packages: statsmodels, Cython, pmdarima\n",
            "  Found existing installation: statsmodels 0.10.2\n",
            "    Uninstalling statsmodels-0.10.2:\n",
            "      Successfully uninstalled statsmodels-0.10.2\n",
            "  Found existing installation: Cython 0.29.21\n",
            "    Uninstalling Cython-0.29.21:\n",
            "      Successfully uninstalled Cython-0.29.21\n",
            "Successfully installed Cython-0.29.17 pmdarima-1.8.0 statsmodels-0.12.2\n"
          ],
          "name": "stdout"
        }
      ]
    },
    {
      "cell_type": "code",
      "metadata": {
        "id": "IzFYu6oULsee"
      },
      "source": [
        "import pmdarima as pm\r\n",
        "from pmdarima.arima import auto_arima\r\n",
        "import pandas as pd\r\n",
        "import numpy as np\r\n",
        "from matplotlib import pyplot as plt\r\n",
        "from sklearn.metrics import mean_squared_error"
      ],
      "execution_count": 13,
      "outputs": []
    },
    {
      "cell_type": "code",
      "metadata": {
        "id": "8VSNka2wL4tc"
      },
      "source": [
        "df = pd.read_csv(\"https://raw.githubusercontent.com/mmbs1989/DSWP-Aluno/main/dadostccdata.csv\")\r\n",
        "dfa = pd.read_csv(\"https://raw.githubusercontent.com/mmbs1989/DSWP-Aluno/main/dadostcca.csv\")\r\n",
        "df = df.drop(df.index[314:])\r\n",
        "dfa = dfa.drop(dfa.index[314:])\r\n",
        "df['a'] = dfa['a']\r\n",
        "df['a'] = pd.to_numeric(df['a'])\r\n",
        "df.columns = ['ds', 'y']\r\n",
        "df['ds'] = pd.to_datetime(df['ds'])\r\n",
        "df.set_index('ds', inplace=True)"
      ],
      "execution_count": 3,
      "outputs": []
    },
    {
      "cell_type": "code",
      "metadata": {
        "colab": {
          "base_uri": "https://localhost:8080/",
          "height": 296
        },
        "id": "Vq6hvpsHMIEe",
        "outputId": "94ec6214-b81a-4742-a79c-b60c601280d1"
      },
      "source": [
        "df.plot()"
      ],
      "execution_count": 4,
      "outputs": [
        {
          "output_type": "execute_result",
          "data": {
            "text/plain": [
              "<matplotlib.axes._subplots.AxesSubplot at 0x7f82ae680240>"
            ]
          },
          "metadata": {
            "tags": []
          },
          "execution_count": 4
        },
        {
          "output_type": "display_data",
          "data": {
            "image/png": "[encoded data removed]",
            "text/plain": [
              "<Figure size 432x288 with 1 Axes>"
            ]
          },
          "metadata": {
            "tags": [],
            "needs_background": "light"
          }
        }
      ]
    },
    {
      "cell_type": "code",
      "metadata": {
        "colab": {
          "base_uri": "https://localhost:8080/"
        },
        "id": "WV2U2uYOMTr_",
        "outputId": "e57f2a0f-bed1-410c-a824-de6850209b2a"
      },
      "source": [
        "from pmdarima.arima import ADFTest\r\n",
        "adf_test = ADFTest(alpha = 0.05)\r\n",
        "adf_test.should_diff(df)"
      ],
      "execution_count": null,
      "outputs": [
        {
          "output_type": "execute_result",
          "data": {
            "text/plain": [
              "(0.09233356415736649, True)"
            ]
          },
          "metadata": {
            "tags": []
          },
          "execution_count": 8
        }
      ]
    },
    {
      "cell_type": "code",
      "metadata": {
        "colab": {
          "base_uri": "https://localhost:8080/",
          "height": 282
        },
        "id": "YHTvwG6FNHqU",
        "outputId": "c2b335d5-f670-422c-ec1a-026c4eca2588"
      },
      "source": [
        "train = df.iloc[:-12].copy()  \r\n",
        "test =  df.iloc[-12:].copy() \r\n",
        "plt.plot(train) \r\n",
        "plt.plot(test)"
      ],
      "execution_count": 5,
      "outputs": [
        {
          "output_type": "execute_result",
          "data": {
            "text/plain": [
              "[<matplotlib.lines.Line2D at 0x7f82ae533748>]"
            ]
          },
          "metadata": {
            "tags": []
          },
          "execution_count": 5
        },
        {
          "output_type": "display_data",
          "data": {
            "image/png": "[encoded data removed]",
            "text/plain": [
              "<Figure size 432x288 with 1 Axes>"
            ]
          },
          "metadata": {
            "tags": [],
            "needs_background": "light"
          }
        }
      ]
    },
    {
      "cell_type": "code",
      "metadata": {
        "colab": {
          "base_uri": "https://localhost:8080/"
        },
        "id": "X5t0l6JcNicc",
        "outputId": "c9251451-aa72-42ce-bdf0-c8c52546c77b"
      },
      "source": [
        "model = pm.auto_arima(train, start_p=0, d=1, start_q=0, max_p=5, max_q=5, max_d=5, start_P=0, D=1, start_Q=0, max_P=5, \r\n",
        "                      max_Q=5, max_D=5, seasonal= True, m= 12, error_action = 'warn', trace = True, supress_warnings=True, stepwise=True, \r\n",
        "                      random_state = 20, n_fits = 50)"
      ],
      "execution_count": 6,
      "outputs": [
        {
          "output_type": "stream",
          "text": [
            "Performing stepwise search to minimize aic\n",
            " ARIMA(0,1,0)(0,1,0)[12]             : AIC=5962.590, Time=0.07 sec\n",
            " ARIMA(1,1,0)(1,1,0)[12]             : AIC=5824.565, Time=0.23 sec\n",
            " ARIMA(0,1,1)(0,1,1)[12]             : AIC=5739.133, Time=0.91 sec\n",
            " ARIMA(0,1,1)(0,1,0)[12]             : AIC=5820.556, Time=0.12 sec\n",
            " ARIMA(0,1,1)(1,1,1)[12]             : AIC=5739.762, Time=1.37 sec\n",
            " ARIMA(0,1,1)(0,1,2)[12]             : AIC=5758.648, Time=0.99 sec\n",
            " ARIMA(0,1,1)(1,1,0)[12]             : AIC=5759.663, Time=0.86 sec\n",
            " ARIMA(0,1,1)(1,1,2)[12]             : AIC=5733.419, Time=7.54 sec\n",
            " ARIMA(0,1,1)(2,1,2)[12]             : AIC=inf, Time=6.01 sec\n",
            " ARIMA(0,1,1)(1,1,3)[12]             : AIC=inf, Time=10.84 sec\n",
            " ARIMA(0,1,1)(0,1,3)[12]             : AIC=5756.308, Time=2.06 sec\n",
            " ARIMA(0,1,1)(2,1,1)[12]             : AIC=5758.940, Time=1.10 sec\n",
            " ARIMA(0,1,1)(2,1,3)[12]             : AIC=5759.136, Time=8.56 sec\n",
            " ARIMA(0,1,0)(1,1,2)[12]             : AIC=5891.847, Time=1.73 sec\n",
            " ARIMA(1,1,1)(1,1,2)[12]             : AIC=inf, Time=7.54 sec\n",
            " ARIMA(0,1,2)(1,1,2)[12]             : AIC=5753.281, Time=3.53 sec\n",
            " ARIMA(1,1,0)(1,1,2)[12]             : AIC=5789.987, Time=4.56 sec\n",
            " ARIMA(1,1,2)(1,1,2)[12]             : AIC=5752.306, Time=6.94 sec\n",
            " ARIMA(0,1,1)(1,1,2)[12] intercept   : AIC=5755.533, Time=6.30 sec\n",
            "\n",
            "Best model:  ARIMA(0,1,1)(1,1,2)[12]          \n",
            "Total fit time: 71.296 seconds\n"
          ],
          "name": "stdout"
        }
      ]
    },
    {
      "cell_type": "code",
      "metadata": {
        "colab": {
          "base_uri": "https://localhost:8080/",
          "height": 482
        },
        "id": "wLOL2AygPwpk",
        "outputId": "cc52be7f-4918-4d6f-b729-e8e7891de9b9"
      },
      "source": [
        "model.summary()"
      ],
      "execution_count": 7,
      "outputs": [
        {
          "output_type": "execute_result",
          "data": {
            "text/html": [
              "<table class=\"simpletable\">\n",
              "<caption>SARIMAX Results</caption>\n",
              "<tr>\n",
              "  <th>Dep. Variable:</th>                    <td>y</td>                  <th>  No. Observations:  </th>    <td>302</td>   \n",
              "</tr>\n",
              "<tr>\n",
              "  <th>Model:</th>           <td>SARIMAX(0, 1, 1)x(1, 1, [1, 2], 12)</td> <th>  Log Likelihood     </th> <td>-2861.709</td>\n",
              "</tr>\n",
              "<tr>\n",
              "  <th>Date:</th>                     <td>Tue, 02 Feb 2021</td>           <th>  AIC                </th> <td>5733.419</td> \n",
              "</tr>\n",
              "<tr>\n",
              "  <th>Time:</th>                         <td>18:13:17</td>               <th>  BIC                </th> <td>5751.751</td> \n",
              "</tr>\n",
              "<tr>\n",
              "  <th>Sample:</th>                           <td>0</td>                  <th>  HQIC               </th> <td>5740.764</td> \n",
              "</tr>\n",
              "<tr>\n",
              "  <th></th>                               <td> - 302</td>                <th>                     </th>     <td> </td>    \n",
              "</tr>\n",
              "<tr>\n",
              "  <th>Covariance Type:</th>                 <td>opg</td>                 <th>                     </th>     <td> </td>    \n",
              "</tr>\n",
              "</table>\n",
              "<table class=\"simpletable\">\n",
              "<tr>\n",
              "      <td></td>        <th>coef</th>     <th>std err</th>      <th>z</th>      <th>P>|z|</th>  <th>[0.025</th>    <th>0.975]</th>  \n",
              "</tr>\n",
              "<tr>\n",
              "  <th>ma.L1</th>    <td>   -0.8182</td> <td>    0.030</td> <td>  -27.561</td> <td> 0.000</td> <td>   -0.876</td> <td>   -0.760</td>\n",
              "</tr>\n",
              "<tr>\n",
              "  <th>ar.S.L12</th> <td>    0.9284</td> <td>    0.091</td> <td>   10.210</td> <td> 0.000</td> <td>    0.750</td> <td>    1.107</td>\n",
              "</tr>\n",
              "<tr>\n",
              "  <th>ma.S.L12</th> <td>   -1.5626</td> <td>    0.084</td> <td>  -18.511</td> <td> 0.000</td> <td>   -1.728</td> <td>   -1.397</td>\n",
              "</tr>\n",
              "<tr>\n",
              "  <th>ma.S.L24</th> <td>    0.6225</td> <td>    0.046</td> <td>   13.495</td> <td> 0.000</td> <td>    0.532</td> <td>    0.713</td>\n",
              "</tr>\n",
              "<tr>\n",
              "  <th>sigma2</th>   <td> 2.201e+07</td> <td> 1.56e-08</td> <td> 1.41e+15</td> <td> 0.000</td> <td>  2.2e+07</td> <td>  2.2e+07</td>\n",
              "</tr>\n",
              "</table>\n",
              "<table class=\"simpletable\">\n",
              "<tr>\n",
              "  <th>Ljung-Box (L1) (Q):</th>     <td>0.17</td>  <th>  Jarque-Bera (JB):  </th> <td>3667.85</td>\n",
              "</tr>\n",
              "<tr>\n",
              "  <th>Prob(Q):</th>                <td>0.68</td>  <th>  Prob(JB):          </th>  <td>0.00</td>  \n",
              "</tr>\n",
              "<tr>\n",
              "  <th>Heteroskedasticity (H):</th> <td>16.41</td> <th>  Skew:              </th>  <td>2.62</td>  \n",
              "</tr>\n",
              "<tr>\n",
              "  <th>Prob(H) (two-sided):</th>    <td>0.00</td>  <th>  Kurtosis:          </th>  <td>19.65</td> \n",
              "</tr>\n",
              "</table><br/><br/>Warnings:<br/>[1] Covariance matrix calculated using the outer product of gradients (complex-step).<br/>[2] Covariance matrix is singular or near-singular, with condition number  2e+30. Standard errors may be unstable."
            ],
            "text/plain": [
              "<class 'statsmodels.iolib.summary.Summary'>\n",
              "\"\"\"\n",
              "                                        SARIMAX Results                                        \n",
              "===============================================================================================\n",
              "Dep. Variable:                                       y   No. Observations:                  302\n",
              "Model:             SARIMAX(0, 1, 1)x(1, 1, [1, 2], 12)   Log Likelihood               -2861.709\n",
              "Date:                                 Tue, 02 Feb 2021   AIC                           5733.419\n",
              "Time:                                         18:13:17   BIC                           5751.751\n",
              "Sample:                                              0   HQIC                          5740.764\n",
              "                                                 - 302                                         \n",
              "Covariance Type:                                   opg                                         \n",
              "==============================================================================\n",
              "                 coef    std err          z      P>|z|      [0.025      0.975]\n",
              "------------------------------------------------------------------------------\n",
              "ma.L1         -0.8182      0.030    -27.561      0.000      -0.876      -0.760\n",
              "ar.S.L12       0.9284      0.091     10.210      0.000       0.750       1.107\n",
              "ma.S.L12      -1.5626      0.084    -18.511      0.000      -1.728      -1.397\n",
              "ma.S.L24       0.6225      0.046     13.495      0.000       0.532       0.713\n",
              "sigma2      2.201e+07   1.56e-08   1.41e+15      0.000     2.2e+07     2.2e+07\n",
              "===================================================================================\n",
              "Ljung-Box (L1) (Q):                   0.17   Jarque-Bera (JB):              3667.85\n",
              "Prob(Q):                              0.68   Prob(JB):                         0.00\n",
              "Heteroskedasticity (H):              16.41   Skew:                             2.62\n",
              "Prob(H) (two-sided):                  0.00   Kurtosis:                        19.65\n",
              "===================================================================================\n",
              "\n",
              "Warnings:\n",
              "[1] Covariance matrix calculated using the outer product of gradients (complex-step).\n",
              "[2] Covariance matrix is singular or near-singular, with condition number  2e+30. Standard errors may be unstable.\n",
              "\"\"\""
            ]
          },
          "metadata": {
            "tags": []
          },
          "execution_count": 7
        }
      ]
    },
    {
      "cell_type": "code",
      "metadata": {
        "colab": {
          "base_uri": "https://localhost:8080/",
          "height": 452
        },
        "id": "dpz6xyRMP_9E",
        "outputId": "93996849-8a34-40d3-d554-084f454cb97b"
      },
      "source": [
        "prediction = pd.DataFrame(model.predict(n_periods = 12), index = test.index)\r\n",
        "prediction"
      ],
      "execution_count": 9,
      "outputs": [
        {
          "output_type": "execute_result",
          "data": {
            "text/html": [
              "<div>\n",
              "<style scoped>\n",
              "    .dataframe tbody tr th:only-of-type {\n",
              "        vertical-align: middle;\n",
              "    }\n",
              "\n",
              "    .dataframe tbody tr th {\n",
              "        vertical-align: top;\n",
              "    }\n",
              "\n",
              "    .dataframe thead th {\n",
              "        text-align: right;\n",
              "    }\n",
              "</style>\n",
              "<table border=\"1\" class=\"dataframe\">\n",
              "  <thead>\n",
              "    <tr style=\"text-align: right;\">\n",
              "      <th></th>\n",
              "      <th>0</th>\n",
              "    </tr>\n",
              "    <tr>\n",
              "      <th>ds</th>\n",
              "      <th></th>\n",
              "    </tr>\n",
              "  </thead>\n",
              "  <tbody>\n",
              "    <tr>\n",
              "      <th>2019-03-01</th>\n",
              "      <td>114294.154753</td>\n",
              "    </tr>\n",
              "    <tr>\n",
              "      <th>2019-04-01</th>\n",
              "      <td>135748.017119</td>\n",
              "    </tr>\n",
              "    <tr>\n",
              "      <th>2019-05-01</th>\n",
              "      <td>114159.379529</td>\n",
              "    </tr>\n",
              "    <tr>\n",
              "      <th>2019-06-01</th>\n",
              "      <td>118812.396675</td>\n",
              "    </tr>\n",
              "    <tr>\n",
              "      <th>2019-07-01</th>\n",
              "      <td>131068.700063</td>\n",
              "    </tr>\n",
              "    <tr>\n",
              "      <th>2019-08-01</th>\n",
              "      <td>116623.553546</td>\n",
              "    </tr>\n",
              "    <tr>\n",
              "      <th>2019-09-01</th>\n",
              "      <td>117983.110154</td>\n",
              "    </tr>\n",
              "    <tr>\n",
              "      <th>2019-10-01</th>\n",
              "      <td>142961.746865</td>\n",
              "    </tr>\n",
              "    <tr>\n",
              "      <th>2019-11-01</th>\n",
              "      <td>127809.998198</td>\n",
              "    </tr>\n",
              "    <tr>\n",
              "      <th>2019-12-01</th>\n",
              "      <td>150947.416984</td>\n",
              "    </tr>\n",
              "    <tr>\n",
              "      <th>2020-01-01</th>\n",
              "      <td>167265.087521</td>\n",
              "    </tr>\n",
              "    <tr>\n",
              "      <th>2020-02-01</th>\n",
              "      <td>118150.073962</td>\n",
              "    </tr>\n",
              "  </tbody>\n",
              "</table>\n",
              "</div>"
            ],
            "text/plain": [
              "                        0\n",
              "ds                       \n",
              "2019-03-01  114294.154753\n",
              "2019-04-01  135748.017119\n",
              "2019-05-01  114159.379529\n",
              "2019-06-01  118812.396675\n",
              "2019-07-01  131068.700063\n",
              "2019-08-01  116623.553546\n",
              "2019-09-01  117983.110154\n",
              "2019-10-01  142961.746865\n",
              "2019-11-01  127809.998198\n",
              "2019-12-01  150947.416984\n",
              "2020-01-01  167265.087521\n",
              "2020-02-01  118150.073962"
            ]
          },
          "metadata": {
            "tags": []
          },
          "execution_count": 9
        }
      ]
    },
    {
      "cell_type": "code",
      "metadata": {
        "colab": {
          "base_uri": "https://localhost:8080/",
          "height": 320
        },
        "id": "Fn5m4dODQ6qM",
        "outputId": "f8773ae2-43f8-43d5-a98f-06c9dd3da430"
      },
      "source": [
        "plt.figure(figsize=(15,5))\r\n",
        "plt.plot(train, label= \"Train\")\r\n",
        "plt.plot(test, label= 'Test')\r\n",
        "plt.plot(prediction, label = 'Previsão')\r\n",
        "plt.show()"
      ],
      "execution_count": 10,
      "outputs": [
        {
          "output_type": "display_data",
          "data": {
            "image/png": "[encoded data removed]",
            "text/plain": [
              "<Figure size 1080x360 with 1 Axes>"
            ]
          },
          "metadata": {
            "tags": [],
            "needs_background": "light"
          }
        }
      ]
    },
    {
      "cell_type": "code",
      "metadata": {
        "colab": {
          "base_uri": "https://localhost:8080/"
        },
        "id": "36_oqpWyRV1N",
        "outputId": "99c9fe75-f601-4373-8aa8-2a6b73c40b7d"
      },
      "source": [
        "from sklearn.metrics import r2_score\r\n",
        "test['0'] = prediction\r\n",
        "r2_score(test['y'], test['0'])"
      ],
      "execution_count": 22,
      "outputs": [
        {
          "output_type": "execute_result",
          "data": {
            "text/plain": [
              "0.9360151188752727"
            ]
          },
          "metadata": {
            "tags": []
          },
          "execution_count": 22
        }
      ]
    },
    {
      "cell_type": "code",
      "metadata": {
        "id": "RE5Ks7TjExZQ",
        "outputId": "92395b75-6637-4ded-890b-a13e87ca7aef",
        "colab": {
          "base_uri": "https://localhost:8080/",
          "height": 452
        }
      },
      "source": [
        "test = test.drop(columns=['0'])\r\n",
        "test"
      ],
      "execution_count": 24,
      "outputs": [
        {
          "output_type": "execute_result",
          "data": {
            "text/html": [
              "<div>\n",
              "<style scoped>\n",
              "    .dataframe tbody tr th:only-of-type {\n",
              "        vertical-align: middle;\n",
              "    }\n",
              "\n",
              "    .dataframe tbody tr th {\n",
              "        vertical-align: top;\n",
              "    }\n",
              "\n",
              "    .dataframe thead th {\n",
              "        text-align: right;\n",
              "    }\n",
              "</style>\n",
              "<table border=\"1\" class=\"dataframe\">\n",
              "  <thead>\n",
              "    <tr style=\"text-align: right;\">\n",
              "      <th></th>\n",
              "      <th>y</th>\n",
              "    </tr>\n",
              "    <tr>\n",
              "      <th>ds</th>\n",
              "      <th></th>\n",
              "    </tr>\n",
              "  </thead>\n",
              "  <tbody>\n",
              "    <tr>\n",
              "      <th>2019-03-01</th>\n",
              "      <td>109854</td>\n",
              "    </tr>\n",
              "    <tr>\n",
              "      <th>2019-04-01</th>\n",
              "      <td>139030</td>\n",
              "    </tr>\n",
              "    <tr>\n",
              "      <th>2019-05-01</th>\n",
              "      <td>113278</td>\n",
              "    </tr>\n",
              "    <tr>\n",
              "      <th>2019-06-01</th>\n",
              "      <td>119946</td>\n",
              "    </tr>\n",
              "    <tr>\n",
              "      <th>2019-07-01</th>\n",
              "      <td>137735</td>\n",
              "    </tr>\n",
              "    <tr>\n",
              "      <th>2019-08-01</th>\n",
              "      <td>119951</td>\n",
              "    </tr>\n",
              "    <tr>\n",
              "      <th>2019-09-01</th>\n",
              "      <td>113933</td>\n",
              "    </tr>\n",
              "    <tr>\n",
              "      <th>2019-10-01</th>\n",
              "      <td>135202</td>\n",
              "    </tr>\n",
              "    <tr>\n",
              "      <th>2019-11-01</th>\n",
              "      <td>125161</td>\n",
              "    </tr>\n",
              "    <tr>\n",
              "      <th>2019-12-01</th>\n",
              "      <td>147501</td>\n",
              "    </tr>\n",
              "    <tr>\n",
              "      <th>2020-01-01</th>\n",
              "      <td>174991</td>\n",
              "    </tr>\n",
              "    <tr>\n",
              "      <th>2020-02-01</th>\n",
              "      <td>116430</td>\n",
              "    </tr>\n",
              "  </tbody>\n",
              "</table>\n",
              "</div>"
            ],
            "text/plain": [
              "                 y\n",
              "ds                \n",
              "2019-03-01  109854\n",
              "2019-04-01  139030\n",
              "2019-05-01  113278\n",
              "2019-06-01  119946\n",
              "2019-07-01  137735\n",
              "2019-08-01  119951\n",
              "2019-09-01  113933\n",
              "2019-10-01  135202\n",
              "2019-11-01  125161\n",
              "2019-12-01  147501\n",
              "2020-01-01  174991\n",
              "2020-02-01  116430"
            ]
          },
          "metadata": {
            "tags": []
          },
          "execution_count": 24
        }
      ]
    },
    {
      "cell_type": "code",
      "metadata": {
        "colab": {
          "base_uri": "https://localhost:8080/"
        },
        "id": "snk0Kdeo_4FA",
        "outputId": "f7d3bf9c-0597-4e9c-c80a-980ccfcb4c23"
      },
      "source": [
        "print(f'RMSE= {mean_squared_error(test, prediction)}')"
      ],
      "execution_count": 25,
      "outputs": [
        {
          "output_type": "stream",
          "text": [
            "RMSE= 20518345.85028929\n"
          ],
          "name": "stdout"
        }
      ]
    }
  ]
}