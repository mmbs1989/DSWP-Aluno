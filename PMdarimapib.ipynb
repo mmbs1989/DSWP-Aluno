{
  "nbformat": 4,
  "nbformat_minor": 0,
  "metadata": {
    "colab": {
      "name": "Untitled1.ipynb",
      "provenance": [],
      "authorship_tag": "ABX9TyOCO7nh2dmfZNVvdJnuLhL0",
      "include_colab_link": true
    },
    "kernelspec": {
      "name": "python3",
      "display_name": "Python 3"
    }
  },
  "cells": [
    {
      "cell_type": "markdown",
      "metadata": {
        "id": "view-in-github",
        "colab_type": "text"
      },
      "source": [
        "<a href=\"https://colab.research.google.com/github/mmbs1989/DSWP-Aluno/blob/main/PMdarimapib.ipynb\" target=\"_parent\"><img src=\"https://colab.research.google.com/assets/colab-badge.svg\" alt=\"Open In Colab\"/></a>"
      ]
    },
    {
      "cell_type": "code",
      "metadata": {
        "colab": {
          "base_uri": "https://localhost:8080/"
        },
        "id": "B8ktOwRQLiGX",
        "outputId": "6743f402-43ea-4442-8b74-ffb5f3ce0d61"
      },
      "source": [
        "pip install pmdarima"
      ],
      "execution_count": 1,
      "outputs": [
        {
          "output_type": "stream",
          "text": [
            "Collecting pmdarima\n",
            "\u001b[?25l  Downloading https://files.pythonhosted.org/packages/c9/d7/61af1897449638822f97c8b43ef0c2fce2ec68a6cda9a43ebbbdd12b967c/pmdarima-1.8.0-cp36-cp36m-manylinux1_x86_64.whl (1.5MB)\n",
            "\r\u001b[K     |▎                               | 10kB 21.0MB/s eta 0:00:01\r\u001b[K     |▌                               | 20kB 14.7MB/s eta 0:00:01\r\u001b[K     |▊                               | 30kB 12.3MB/s eta 0:00:01\r\u001b[K     |█                               | 40kB 11.8MB/s eta 0:00:01\r\u001b[K     |█▏                              | 51kB 7.8MB/s eta 0:00:01\r\u001b[K     |█▍                              | 61kB 7.2MB/s eta 0:00:01\r\u001b[K     |█▋                              | 71kB 8.2MB/s eta 0:00:01\r\u001b[K     |█▉                              | 81kB 9.0MB/s eta 0:00:01\r\u001b[K     |██                              | 92kB 8.4MB/s eta 0:00:01\r\u001b[K     |██▎                             | 102kB 8.6MB/s eta 0:00:01\r\u001b[K     |██▌                             | 112kB 8.6MB/s eta 0:00:01\r\u001b[K     |██▊                             | 122kB 8.6MB/s eta 0:00:01\r\u001b[K     |███                             | 133kB 8.6MB/s eta 0:00:01\r\u001b[K     |███▏                            | 143kB 8.6MB/s eta 0:00:01\r\u001b[K     |███▍                            | 153kB 8.6MB/s eta 0:00:01\r\u001b[K     |███▋                            | 163kB 8.6MB/s eta 0:00:01\r\u001b[K     |███▉                            | 174kB 8.6MB/s eta 0:00:01\r\u001b[K     |████                            | 184kB 8.6MB/s eta 0:00:01\r\u001b[K     |████▎                           | 194kB 8.6MB/s eta 0:00:01\r\u001b[K     |████▌                           | 204kB 8.6MB/s eta 0:00:01\r\u001b[K     |████▊                           | 215kB 8.6MB/s eta 0:00:01\r\u001b[K     |█████                           | 225kB 8.6MB/s eta 0:00:01\r\u001b[K     |█████▏                          | 235kB 8.6MB/s eta 0:00:01\r\u001b[K     |█████▍                          | 245kB 8.6MB/s eta 0:00:01\r\u001b[K     |█████▋                          | 256kB 8.6MB/s eta 0:00:01\r\u001b[K     |█████▉                          | 266kB 8.6MB/s eta 0:00:01\r\u001b[K     |██████                          | 276kB 8.6MB/s eta 0:00:01\r\u001b[K     |██████▎                         | 286kB 8.6MB/s eta 0:00:01\r\u001b[K     |██████▌                         | 296kB 8.6MB/s eta 0:00:01\r\u001b[K     |██████▊                         | 307kB 8.6MB/s eta 0:00:01\r\u001b[K     |███████                         | 317kB 8.6MB/s eta 0:00:01\r\u001b[K     |███████▏                        | 327kB 8.6MB/s eta 0:00:01\r\u001b[K     |███████▍                        | 337kB 8.6MB/s eta 0:00:01\r\u001b[K     |███████▋                        | 348kB 8.6MB/s eta 0:00:01\r\u001b[K     |███████▉                        | 358kB 8.6MB/s eta 0:00:01\r\u001b[K     |████████                        | 368kB 8.6MB/s eta 0:00:01\r\u001b[K     |████████▎                       | 378kB 8.6MB/s eta 0:00:01\r\u001b[K     |████████▌                       | 389kB 8.6MB/s eta 0:00:01\r\u001b[K     |████████▊                       | 399kB 8.6MB/s eta 0:00:01\r\u001b[K     |█████████                       | 409kB 8.6MB/s eta 0:00:01\r\u001b[K     |█████████▏                      | 419kB 8.6MB/s eta 0:00:01\r\u001b[K     |█████████▍                      | 430kB 8.6MB/s eta 0:00:01\r\u001b[K     |█████████▋                      | 440kB 8.6MB/s eta 0:00:01\r\u001b[K     |█████████▉                      | 450kB 8.6MB/s eta 0:00:01\r\u001b[K     |██████████                      | 460kB 8.6MB/s eta 0:00:01\r\u001b[K     |██████████▎                     | 471kB 8.6MB/s eta 0:00:01\r\u001b[K     |██████████▌                     | 481kB 8.6MB/s eta 0:00:01\r\u001b[K     |██████████▊                     | 491kB 8.6MB/s eta 0:00:01\r\u001b[K     |███████████                     | 501kB 8.6MB/s eta 0:00:01\r\u001b[K     |███████████▏                    | 512kB 8.6MB/s eta 0:00:01\r\u001b[K     |███████████▍                    | 522kB 8.6MB/s eta 0:00:01\r\u001b[K     |███████████▋                    | 532kB 8.6MB/s eta 0:00:01\r\u001b[K     |███████████▉                    | 542kB 8.6MB/s eta 0:00:01\r\u001b[K     |████████████                    | 552kB 8.6MB/s eta 0:00:01\r\u001b[K     |████████████▎                   | 563kB 8.6MB/s eta 0:00:01\r\u001b[K     |████████████▌                   | 573kB 8.6MB/s eta 0:00:01\r\u001b[K     |████████████▊                   | 583kB 8.6MB/s eta 0:00:01\r\u001b[K     |█████████████                   | 593kB 8.6MB/s eta 0:00:01\r\u001b[K     |█████████████▏                  | 604kB 8.6MB/s eta 0:00:01\r\u001b[K     |█████████████▍                  | 614kB 8.6MB/s eta 0:00:01\r\u001b[K     |█████████████▋                  | 624kB 8.6MB/s eta 0:00:01\r\u001b[K     |█████████████▉                  | 634kB 8.6MB/s eta 0:00:01\r\u001b[K     |██████████████                  | 645kB 8.6MB/s eta 0:00:01\r\u001b[K     |██████████████▎                 | 655kB 8.6MB/s eta 0:00:01\r\u001b[K     |██████████████▌                 | 665kB 8.6MB/s eta 0:00:01\r\u001b[K     |██████████████▊                 | 675kB 8.6MB/s eta 0:00:01\r\u001b[K     |███████████████                 | 686kB 8.6MB/s eta 0:00:01\r\u001b[K     |███████████████▏                | 696kB 8.6MB/s eta 0:00:01\r\u001b[K     |███████████████▍                | 706kB 8.6MB/s eta 0:00:01\r\u001b[K     |███████████████▋                | 716kB 8.6MB/s eta 0:00:01\r\u001b[K     |███████████████▉                | 727kB 8.6MB/s eta 0:00:01\r\u001b[K     |████████████████                | 737kB 8.6MB/s eta 0:00:01\r\u001b[K     |████████████████▎               | 747kB 8.6MB/s eta 0:00:01\r\u001b[K     |████████████████▌               | 757kB 8.6MB/s eta 0:00:01\r\u001b[K     |████████████████▊               | 768kB 8.6MB/s eta 0:00:01\r\u001b[K     |█████████████████               | 778kB 8.6MB/s eta 0:00:01\r\u001b[K     |█████████████████▏              | 788kB 8.6MB/s eta 0:00:01\r\u001b[K     |█████████████████▍              | 798kB 8.6MB/s eta 0:00:01\r\u001b[K     |█████████████████▋              | 808kB 8.6MB/s eta 0:00:01\r\u001b[K     |█████████████████▉              | 819kB 8.6MB/s eta 0:00:01\r\u001b[K     |██████████████████▏             | 829kB 8.6MB/s eta 0:00:01\r\u001b[K     |██████████████████▍             | 839kB 8.6MB/s eta 0:00:01\r\u001b[K     |██████████████████▋             | 849kB 8.6MB/s eta 0:00:01\r\u001b[K     |██████████████████▉             | 860kB 8.6MB/s eta 0:00:01\r\u001b[K     |███████████████████             | 870kB 8.6MB/s eta 0:00:01\r\u001b[K     |███████████████████▎            | 880kB 8.6MB/s eta 0:00:01\r\u001b[K     |███████████████████▌            | 890kB 8.6MB/s eta 0:00:01\r\u001b[K     |███████████████████▊            | 901kB 8.6MB/s eta 0:00:01\r\u001b[K     |████████████████████            | 911kB 8.6MB/s eta 0:00:01\r\u001b[K     |████████████████████▏           | 921kB 8.6MB/s eta 0:00:01\r\u001b[K     |████████████████████▍           | 931kB 8.6MB/s eta 0:00:01\r\u001b[K     |████████████████████▋           | 942kB 8.6MB/s eta 0:00:01\r\u001b[K     |████████████████████▉           | 952kB 8.6MB/s eta 0:00:01\r\u001b[K     |█████████████████████           | 962kB 8.6MB/s eta 0:00:01\r\u001b[K     |█████████████████████▎          | 972kB 8.6MB/s eta 0:00:01\r\u001b[K     |█████████████████████▌          | 983kB 8.6MB/s eta 0:00:01\r\u001b[K     |█████████████████████▊          | 993kB 8.6MB/s eta 0:00:01\r\u001b[K     |██████████████████████          | 1.0MB 8.6MB/s eta 0:00:01\r\u001b[K     |██████████████████████▏         | 1.0MB 8.6MB/s eta 0:00:01\r\u001b[K     |██████████████████████▍         | 1.0MB 8.6MB/s eta 0:00:01\r\u001b[K     |██████████████████████▋         | 1.0MB 8.6MB/s eta 0:00:01\r\u001b[K     |██████████████████████▉         | 1.0MB 8.6MB/s eta 0:00:01\r\u001b[K     |███████████████████████         | 1.1MB 8.6MB/s eta 0:00:01\r\u001b[K     |███████████████████████▎        | 1.1MB 8.6MB/s eta 0:00:01\r\u001b[K     |███████████████████████▌        | 1.1MB 8.6MB/s eta 0:00:01\r\u001b[K     |███████████████████████▊        | 1.1MB 8.6MB/s eta 0:00:01\r\u001b[K     |████████████████████████        | 1.1MB 8.6MB/s eta 0:00:01\r\u001b[K     |████████████████████████▏       | 1.1MB 8.6MB/s eta 0:00:01\r\u001b[K     |████████████████████████▍       | 1.1MB 8.6MB/s eta 0:00:01\r\u001b[K     |████████████████████████▋       | 1.1MB 8.6MB/s eta 0:00:01\r\u001b[K     |████████████████████████▉       | 1.1MB 8.6MB/s eta 0:00:01\r\u001b[K     |█████████████████████████       | 1.1MB 8.6MB/s eta 0:00:01\r\u001b[K     |█████████████████████████▎      | 1.2MB 8.6MB/s eta 0:00:01\r\u001b[K     |█████████████████████████▌      | 1.2MB 8.6MB/s eta 0:00:01\r\u001b[K     |█████████████████████████▊      | 1.2MB 8.6MB/s eta 0:00:01\r\u001b[K     |██████████████████████████      | 1.2MB 8.6MB/s eta 0:00:01\r\u001b[K     |██████████████████████████▏     | 1.2MB 8.6MB/s eta 0:00:01\r\u001b[K     |██████████████████████████▍     | 1.2MB 8.6MB/s eta 0:00:01\r\u001b[K     |██████████████████████████▋     | 1.2MB 8.6MB/s eta 0:00:01\r\u001b[K     |██████████████████████████▉     | 1.2MB 8.6MB/s eta 0:00:01\r\u001b[K     |███████████████████████████     | 1.2MB 8.6MB/s eta 0:00:01\r\u001b[K     |███████████████████████████▎    | 1.2MB 8.6MB/s eta 0:00:01\r\u001b[K     |███████████████████████████▌    | 1.3MB 8.6MB/s eta 0:00:01\r\u001b[K     |███████████████████████████▊    | 1.3MB 8.6MB/s eta 0:00:01\r\u001b[K     |████████████████████████████    | 1.3MB 8.6MB/s eta 0:00:01\r\u001b[K     |████████████████████████████▏   | 1.3MB 8.6MB/s eta 0:00:01\r\u001b[K     |████████████████████████████▍   | 1.3MB 8.6MB/s eta 0:00:01\r\u001b[K     |████████████████████████████▋   | 1.3MB 8.6MB/s eta 0:00:01\r\u001b[K     |████████████████████████████▉   | 1.3MB 8.6MB/s eta 0:00:01\r\u001b[K     |█████████████████████████████   | 1.3MB 8.6MB/s eta 0:00:01\r\u001b[K     |█████████████████████████████▎  | 1.3MB 8.6MB/s eta 0:00:01\r\u001b[K     |█████████████████████████████▌  | 1.4MB 8.6MB/s eta 0:00:01\r\u001b[K     |█████████████████████████████▊  | 1.4MB 8.6MB/s eta 0:00:01\r\u001b[K     |██████████████████████████████  | 1.4MB 8.6MB/s eta 0:00:01\r\u001b[K     |██████████████████████████████▏ | 1.4MB 8.6MB/s eta 0:00:01\r\u001b[K     |██████████████████████████████▍ | 1.4MB 8.6MB/s eta 0:00:01\r\u001b[K     |██████████████████████████████▋ | 1.4MB 8.6MB/s eta 0:00:01\r\u001b[K     |██████████████████████████████▉ | 1.4MB 8.6MB/s eta 0:00:01\r\u001b[K     |███████████████████████████████ | 1.4MB 8.6MB/s eta 0:00:01\r\u001b[K     |███████████████████████████████▎| 1.4MB 8.6MB/s eta 0:00:01\r\u001b[K     |███████████████████████████████▌| 1.4MB 8.6MB/s eta 0:00:01\r\u001b[K     |███████████████████████████████▊| 1.5MB 8.6MB/s eta 0:00:01\r\u001b[K     |████████████████████████████████| 1.5MB 8.6MB/s eta 0:00:01\r\u001b[K     |████████████████████████████████| 1.5MB 8.6MB/s \n",
            "\u001b[?25hRequirement already satisfied: numpy>=1.17.3 in /usr/local/lib/python3.6/dist-packages (from pmdarima) (1.19.5)\n",
            "Requirement already satisfied: urllib3 in /usr/local/lib/python3.6/dist-packages (from pmdarima) (1.24.3)\n",
            "Requirement already satisfied: pandas>=0.19 in /usr/local/lib/python3.6/dist-packages (from pmdarima) (1.1.5)\n",
            "Requirement already satisfied: setuptools!=50.0.0,>=38.6.0 in /usr/local/lib/python3.6/dist-packages (from pmdarima) (53.0.0)\n",
            "Requirement already satisfied: joblib>=0.11 in /usr/local/lib/python3.6/dist-packages (from pmdarima) (1.0.0)\n",
            "Collecting statsmodels!=0.12.0,>=0.11\n",
            "\u001b[?25l  Downloading https://files.pythonhosted.org/packages/0d/7b/c17815648dc31396af865b9c6627cc3f95705954e30f61106795361c39ee/statsmodels-0.12.2-cp36-cp36m-manylinux1_x86_64.whl (9.5MB)\n",
            "\u001b[K     |████████████████████████████████| 9.5MB 22.7MB/s \n",
            "\u001b[?25hRequirement already satisfied: scikit-learn>=0.22 in /usr/local/lib/python3.6/dist-packages (from pmdarima) (0.22.2.post1)\n",
            "Collecting Cython<0.29.18,>=0.29\n",
            "\u001b[?25l  Downloading https://files.pythonhosted.org/packages/e7/d7/510ddef0248f3e1e91f9cc7e31c0f35f8954d0af92c5c3fd4c853e859ebe/Cython-0.29.17-cp36-cp36m-manylinux1_x86_64.whl (2.1MB)\n",
            "\u001b[K     |████████████████████████████████| 2.1MB 59.2MB/s \n",
            "\u001b[?25hRequirement already satisfied: scipy>=1.3.2 in /usr/local/lib/python3.6/dist-packages (from pmdarima) (1.4.1)\n",
            "Requirement already satisfied: pytz>=2017.2 in /usr/local/lib/python3.6/dist-packages (from pandas>=0.19->pmdarima) (2018.9)\n",
            "Requirement already satisfied: python-dateutil>=2.7.3 in /usr/local/lib/python3.6/dist-packages (from pandas>=0.19->pmdarima) (2.8.1)\n",
            "Requirement already satisfied: patsy>=0.5 in /usr/local/lib/python3.6/dist-packages (from statsmodels!=0.12.0,>=0.11->pmdarima) (0.5.1)\n",
            "Requirement already satisfied: six>=1.5 in /usr/local/lib/python3.6/dist-packages (from python-dateutil>=2.7.3->pandas>=0.19->pmdarima) (1.15.0)\n",
            "Installing collected packages: statsmodels, Cython, pmdarima\n",
            "  Found existing installation: statsmodels 0.10.2\n",
            "    Uninstalling statsmodels-0.10.2:\n",
            "      Successfully uninstalled statsmodels-0.10.2\n",
            "  Found existing installation: Cython 0.29.21\n",
            "    Uninstalling Cython-0.29.21:\n",
            "      Successfully uninstalled Cython-0.29.21\n",
            "Successfully installed Cython-0.29.17 pmdarima-1.8.0 statsmodels-0.12.2\n"
          ],
          "name": "stdout"
        }
      ]
    },
    {
      "cell_type": "code",
      "metadata": {
        "id": "IzFYu6oULsee"
      },
      "source": [
        "import pmdarima as pm\r\n",
        "from pmdarima.arima import auto_arima\r\n",
        "import pandas as pd\r\n",
        "import numpy as np\r\n",
        "from matplotlib import pyplot as plt\r\n",
        "from sklearn.metrics import mean_squared_error"
      ],
      "execution_count": 13,
      "outputs": []
    },
    {
      "cell_type": "code",
      "metadata": {
        "id": "8VSNka2wL4tc"
      },
      "source": [
        "df = pd.read_csv(\"https://raw.githubusercontent.com/mmbs1989/DSWP-Aluno/main/dadostccdata.csv\")\r\n",
        "dfa = pd.read_csv(\"https://raw.githubusercontent.com/mmbs1989/DSWP-Aluno/main/dadostccpib.csv\")\r\n",
        "df = df.drop(df.index[314:])\r\n",
        "dfa = dfa.drop(dfa.index[314:])\r\n",
        "df['pib'] = dfa['pib']\r\n",
        "df['pib'] = pd.to_numeric(df['pib'])\r\n",
        "df.columns = ['ds', 'y']\r\n",
        "df['ds'] = pd.to_datetime(df['ds'])\r\n",
        "df.set_index('ds', inplace=True)"
      ],
      "execution_count": 48,
      "outputs": []
    },
    {
      "cell_type": "code",
      "metadata": {
        "colab": {
          "base_uri": "https://localhost:8080/",
          "height": 296
        },
        "id": "Vq6hvpsHMIEe",
        "outputId": "b1f9b9f1-5fe4-4447-c28d-34cd370efbbf"
      },
      "source": [
        "df.plot()"
      ],
      "execution_count": 49,
      "outputs": [
        {
          "output_type": "execute_result",
          "data": {
            "text/plain": [
              "<matplotlib.axes._subplots.AxesSubplot at 0x7f829b68d6d8>"
            ]
          },
          "metadata": {
            "tags": []
          },
          "execution_count": 49
        },
        {
          "output_type": "display_data",
          "data": {
            "image/png": "[encoded data removed]",
            "text/plain": [
              "<Figure size 432x288 with 1 Axes>"
            ]
          },
          "metadata": {
            "tags": [],
            "needs_background": "light"
          }
        }
      ]
    },
    {
      "cell_type": "code",
      "metadata": {
        "colab": {
          "base_uri": "https://localhost:8080/"
        },
        "id": "WV2U2uYOMTr_",
        "outputId": "d7298c06-c1c2-44fb-fa5c-fd7ddcde4ab1"
      },
      "source": [
        "from pmdarima.arima import ADFTest\r\n",
        "adf_test = ADFTest(alpha = 0.05)\r\n",
        "adf_test.should_diff(df)"
      ],
      "execution_count": 50,
      "outputs": [
        {
          "output_type": "execute_result",
          "data": {
            "text/plain": [
              "(0.9375150711205867, True)"
            ]
          },
          "metadata": {
            "tags": []
          },
          "execution_count": 50
        }
      ]
    },
    {
      "cell_type": "code",
      "metadata": {
        "colab": {
          "base_uri": "https://localhost:8080/",
          "height": 282
        },
        "id": "YHTvwG6FNHqU",
        "outputId": "413003fd-d12f-479d-8fd7-b8aacffe2c77"
      },
      "source": [
        "train = df.iloc[:-12].copy()  \r\n",
        "test =  df.iloc[-12:].copy() \r\n",
        "plt.plot(train) \r\n",
        "plt.plot(test)"
      ],
      "execution_count": 51,
      "outputs": [
        {
          "output_type": "execute_result",
          "data": {
            "text/plain": [
              "[<matplotlib.lines.Line2D at 0x7f829b824048>]"
            ]
          },
          "metadata": {
            "tags": []
          },
          "execution_count": 51
        },
        {
          "output_type": "display_data",
          "data": {
            "image/png": "[encoded data removed]",
            "text/plain": [
              "<Figure size 432x288 with 1 Axes>"
            ]
          },
          "metadata": {
            "tags": [],
            "needs_background": "light"
          }
        }
      ]
    },
    {
      "cell_type": "code",
      "metadata": {
        "colab": {
          "base_uri": "https://localhost:8080/"
        },
        "id": "X5t0l6JcNicc",
        "outputId": "d766cb0a-3861-4f4c-908b-06e703df2ce4"
      },
      "source": [
        "model = pm.auto_arima(train, start_p=0, d=1, start_q=0, max_p=5, max_q=5, max_d=5, start_P=0, D=1, start_Q=0, max_P=5, \r\n",
        "                      max_Q=5, max_D=5, seasonal= True, m= 12, error_action = 'warn', trace = True, supress_warnings=True, stepwise=True, \r\n",
        "                      random_state = 20, n_fits = 50)"
      ],
      "execution_count": 52,
      "outputs": [
        {
          "output_type": "stream",
          "text": [
            "Performing stepwise search to minimize aic\n",
            " ARIMA(0,1,0)(0,1,0)[12]             : AIC=6009.736, Time=0.02 sec\n",
            " ARIMA(1,1,0)(1,1,0)[12]             : AIC=5947.725, Time=0.23 sec\n",
            " ARIMA(0,1,1)(0,1,1)[12]             : AIC=5894.543, Time=0.27 sec\n",
            " ARIMA(0,1,1)(0,1,0)[12]             : AIC=5952.594, Time=0.08 sec\n",
            " ARIMA(0,1,1)(1,1,1)[12]             : AIC=5894.009, Time=0.46 sec\n",
            " ARIMA(0,1,1)(1,1,0)[12]             : AIC=5922.621, Time=0.23 sec\n",
            " ARIMA(0,1,1)(2,1,1)[12]             : AIC=5893.685, Time=1.24 sec\n",
            " ARIMA(0,1,1)(2,1,0)[12]             : AIC=5903.870, Time=0.71 sec\n",
            " ARIMA(0,1,1)(3,1,1)[12]             : AIC=5894.703, Time=2.68 sec\n",
            " ARIMA(0,1,1)(2,1,2)[12]             : AIC=5895.826, Time=2.10 sec\n",
            " ARIMA(0,1,1)(1,1,2)[12]             : AIC=5893.857, Time=1.49 sec\n",
            " ARIMA(0,1,1)(3,1,0)[12]             : AIC=5900.745, Time=1.31 sec\n",
            " ARIMA(0,1,1)(3,1,2)[12]             : AIC=5897.504, Time=4.49 sec\n",
            " ARIMA(0,1,0)(2,1,1)[12]             : AIC=5946.873, Time=0.94 sec\n",
            " ARIMA(1,1,1)(2,1,1)[12]             : AIC=5894.224, Time=1.64 sec\n",
            " ARIMA(0,1,2)(2,1,1)[12]             : AIC=5889.814, Time=1.62 sec\n",
            " ARIMA(0,1,2)(1,1,1)[12]             : AIC=5889.580, Time=0.56 sec\n",
            " ARIMA(0,1,2)(0,1,1)[12]             : AIC=5889.811, Time=0.38 sec\n",
            " ARIMA(0,1,2)(1,1,0)[12]             : AIC=5918.266, Time=0.31 sec\n",
            " ARIMA(0,1,2)(1,1,2)[12]             : AIC=5889.406, Time=1.62 sec\n",
            " ARIMA(0,1,2)(0,1,2)[12]             : AIC=5888.978, Time=0.87 sec\n",
            " ARIMA(0,1,2)(0,1,3)[12]             : AIC=5889.309, Time=1.93 sec\n",
            " ARIMA(0,1,2)(1,1,3)[12]             : AIC=5891.401, Time=3.82 sec\n",
            " ARIMA(0,1,1)(0,1,2)[12]             : AIC=5893.192, Time=0.89 sec\n",
            " ARIMA(1,1,2)(0,1,2)[12]             : AIC=5888.012, Time=2.48 sec\n",
            " ARIMA(1,1,2)(0,1,1)[12]             : AIC=5887.856, Time=0.79 sec\n",
            " ARIMA(1,1,2)(0,1,0)[12]             : AIC=5947.350, Time=0.43 sec\n",
            " ARIMA(1,1,2)(1,1,1)[12]             : AIC=5888.401, Time=1.38 sec\n",
            " ARIMA(1,1,2)(1,1,0)[12]             : AIC=5914.334, Time=0.94 sec\n",
            " ARIMA(1,1,2)(1,1,2)[12]             : AIC=5888.937, Time=3.61 sec\n",
            " ARIMA(1,1,1)(0,1,1)[12]             : AIC=5894.325, Time=0.44 sec\n",
            " ARIMA(2,1,2)(0,1,1)[12]             : AIC=5889.685, Time=1.07 sec\n",
            " ARIMA(1,1,3)(0,1,1)[12]             : AIC=5890.822, Time=1.17 sec\n",
            " ARIMA(0,1,3)(0,1,1)[12]             : AIC=5890.647, Time=0.53 sec\n",
            " ARIMA(2,1,1)(0,1,1)[12]             : AIC=5893.528, Time=0.93 sec\n",
            " ARIMA(2,1,3)(0,1,1)[12]             : AIC=5890.366, Time=2.37 sec\n",
            " ARIMA(1,1,2)(0,1,1)[12] intercept   : AIC=5889.745, Time=0.91 sec\n",
            "\n",
            "Best model:  ARIMA(1,1,2)(0,1,1)[12]          \n",
            "Total fit time: 46.980 seconds\n"
          ],
          "name": "stdout"
        }
      ]
    },
    {
      "cell_type": "code",
      "metadata": {
        "colab": {
          "base_uri": "https://localhost:8080/",
          "height": 482
        },
        "id": "wLOL2AygPwpk",
        "outputId": "0f30e769-a351-4f7a-bd82-5155d32b6562"
      },
      "source": [
        "model.summary()"
      ],
      "execution_count": 53,
      "outputs": [
        {
          "output_type": "execute_result",
          "data": {
            "text/html": [
              "<table class=\"simpletable\">\n",
              "<caption>SARIMAX Results</caption>\n",
              "<tr>\n",
              "  <th>Dep. Variable:</th>                   <td>y</td>                <th>  No. Observations:  </th>    <td>302</td>   \n",
              "</tr>\n",
              "<tr>\n",
              "  <th>Model:</th>           <td>SARIMAX(1, 1, 2)x(0, 1, [1], 12)</td> <th>  Log Likelihood     </th> <td>-2938.928</td>\n",
              "</tr>\n",
              "<tr>\n",
              "  <th>Date:</th>                    <td>Tue, 02 Feb 2021</td>         <th>  AIC                </th> <td>5887.856</td> \n",
              "</tr>\n",
              "<tr>\n",
              "  <th>Time:</th>                        <td>19:12:59</td>             <th>  BIC                </th> <td>5906.188</td> \n",
              "</tr>\n",
              "<tr>\n",
              "  <th>Sample:</th>                          <td>0</td>                <th>  HQIC               </th> <td>5895.202</td> \n",
              "</tr>\n",
              "<tr>\n",
              "  <th></th>                              <td> - 302</td>              <th>                     </th>     <td> </td>    \n",
              "</tr>\n",
              "<tr>\n",
              "  <th>Covariance Type:</th>                <td>opg</td>               <th>                     </th>     <td> </td>    \n",
              "</tr>\n",
              "</table>\n",
              "<table class=\"simpletable\">\n",
              "<tr>\n",
              "      <td></td>        <th>coef</th>     <th>std err</th>      <th>z</th>      <th>P>|z|</th>  <th>[0.025</th>    <th>0.975]</th>  \n",
              "</tr>\n",
              "<tr>\n",
              "  <th>ar.L1</th>    <td>   -0.6374</td> <td>    0.171</td> <td>   -3.732</td> <td> 0.000</td> <td>   -0.972</td> <td>   -0.303</td>\n",
              "</tr>\n",
              "<tr>\n",
              "  <th>ma.L1</th>    <td>    0.1743</td> <td>    0.156</td> <td>    1.118</td> <td> 0.264</td> <td>   -0.131</td> <td>    0.480</td>\n",
              "</tr>\n",
              "<tr>\n",
              "  <th>ma.L2</th>    <td>   -0.4752</td> <td>    0.083</td> <td>   -5.735</td> <td> 0.000</td> <td>   -0.638</td> <td>   -0.313</td>\n",
              "</tr>\n",
              "<tr>\n",
              "  <th>ma.S.L12</th> <td>   -0.6116</td> <td>    0.055</td> <td>  -11.075</td> <td> 0.000</td> <td>   -0.720</td> <td>   -0.503</td>\n",
              "</tr>\n",
              "<tr>\n",
              "  <th>sigma2</th>   <td> 4.921e+07</td> <td> 3.53e-09</td> <td> 1.39e+16</td> <td> 0.000</td> <td> 4.92e+07</td> <td> 4.92e+07</td>\n",
              "</tr>\n",
              "</table>\n",
              "<table class=\"simpletable\">\n",
              "<tr>\n",
              "  <th>Ljung-Box (L1) (Q):</th>     <td>0.01</td> <th>  Jarque-Bera (JB):  </th> <td>45.21</td>\n",
              "</tr>\n",
              "<tr>\n",
              "  <th>Prob(Q):</th>                <td>0.92</td> <th>  Prob(JB):          </th> <td>0.00</td> \n",
              "</tr>\n",
              "<tr>\n",
              "  <th>Heteroskedasticity (H):</th> <td>7.12</td> <th>  Skew:              </th> <td>0.06</td> \n",
              "</tr>\n",
              "<tr>\n",
              "  <th>Prob(H) (two-sided):</th>    <td>0.00</td> <th>  Kurtosis:          </th> <td>4.93</td> \n",
              "</tr>\n",
              "</table><br/><br/>Warnings:<br/>[1] Covariance matrix calculated using the outer product of gradients (complex-step).<br/>[2] Covariance matrix is singular or near-singular, with condition number 1.06e+33. Standard errors may be unstable."
            ],
            "text/plain": [
              "<class 'statsmodels.iolib.summary.Summary'>\n",
              "\"\"\"\n",
              "                                      SARIMAX Results                                       \n",
              "============================================================================================\n",
              "Dep. Variable:                                    y   No. Observations:                  302\n",
              "Model:             SARIMAX(1, 1, 2)x(0, 1, [1], 12)   Log Likelihood               -2938.928\n",
              "Date:                              Tue, 02 Feb 2021   AIC                           5887.856\n",
              "Time:                                      19:12:59   BIC                           5906.188\n",
              "Sample:                                           0   HQIC                          5895.202\n",
              "                                              - 302                                         \n",
              "Covariance Type:                                opg                                         \n",
              "==============================================================================\n",
              "                 coef    std err          z      P>|z|      [0.025      0.975]\n",
              "------------------------------------------------------------------------------\n",
              "ar.L1         -0.6374      0.171     -3.732      0.000      -0.972      -0.303\n",
              "ma.L1          0.1743      0.156      1.118      0.264      -0.131       0.480\n",
              "ma.L2         -0.4752      0.083     -5.735      0.000      -0.638      -0.313\n",
              "ma.S.L12      -0.6116      0.055    -11.075      0.000      -0.720      -0.503\n",
              "sigma2      4.921e+07   3.53e-09   1.39e+16      0.000    4.92e+07    4.92e+07\n",
              "===================================================================================\n",
              "Ljung-Box (L1) (Q):                   0.01   Jarque-Bera (JB):                45.21\n",
              "Prob(Q):                              0.92   Prob(JB):                         0.00\n",
              "Heteroskedasticity (H):               7.12   Skew:                             0.06\n",
              "Prob(H) (two-sided):                  0.00   Kurtosis:                         4.93\n",
              "===================================================================================\n",
              "\n",
              "Warnings:\n",
              "[1] Covariance matrix calculated using the outer product of gradients (complex-step).\n",
              "[2] Covariance matrix is singular or near-singular, with condition number 1.06e+33. Standard errors may be unstable.\n",
              "\"\"\""
            ]
          },
          "metadata": {
            "tags": []
          },
          "execution_count": 53
        }
      ]
    },
    {
      "cell_type": "code",
      "metadata": {
        "colab": {
          "base_uri": "https://localhost:8080/",
          "height": 452
        },
        "id": "dpz6xyRMP_9E",
        "outputId": "3d5c2c60-1b1e-4411-8410-e51442a052a5"
      },
      "source": [
        "prediction = pd.DataFrame(model.predict(n_periods = 12), index = test.index)\r\n",
        "prediction"
      ],
      "execution_count": 54,
      "outputs": [
        {
          "output_type": "execute_result",
          "data": {
            "text/html": [
              "<div>\n",
              "<style scoped>\n",
              "    .dataframe tbody tr th:only-of-type {\n",
              "        vertical-align: middle;\n",
              "    }\n",
              "\n",
              "    .dataframe tbody tr th {\n",
              "        vertical-align: top;\n",
              "    }\n",
              "\n",
              "    .dataframe thead th {\n",
              "        text-align: right;\n",
              "    }\n",
              "</style>\n",
              "<table border=\"1\" class=\"dataframe\">\n",
              "  <thead>\n",
              "    <tr style=\"text-align: right;\">\n",
              "      <th></th>\n",
              "      <th>0</th>\n",
              "    </tr>\n",
              "    <tr>\n",
              "      <th>ds</th>\n",
              "      <th></th>\n",
              "    </tr>\n",
              "  </thead>\n",
              "  <tbody>\n",
              "    <tr>\n",
              "      <th>2019-03-01</th>\n",
              "      <td>595257.650365</td>\n",
              "    </tr>\n",
              "    <tr>\n",
              "      <th>2019-04-01</th>\n",
              "      <td>586421.885604</td>\n",
              "    </tr>\n",
              "    <tr>\n",
              "      <th>2019-05-01</th>\n",
              "      <td>589893.283385</td>\n",
              "    </tr>\n",
              "    <tr>\n",
              "      <th>2019-06-01</th>\n",
              "      <td>607229.265826</td>\n",
              "    </tr>\n",
              "    <tr>\n",
              "      <th>2019-07-01</th>\n",
              "      <td>611999.705066</td>\n",
              "    </tr>\n",
              "    <tr>\n",
              "      <th>2019-08-01</th>\n",
              "      <td>610213.850030</td>\n",
              "    </tr>\n",
              "    <tr>\n",
              "      <th>2019-09-01</th>\n",
              "      <td>589388.324584</td>\n",
              "    </tr>\n",
              "    <tr>\n",
              "      <th>2019-10-01</th>\n",
              "      <td>614943.746860</td>\n",
              "    </tr>\n",
              "    <tr>\n",
              "      <th>2019-11-01</th>\n",
              "      <td>621752.179470</td>\n",
              "    </tr>\n",
              "    <tr>\n",
              "      <th>2019-12-01</th>\n",
              "      <td>635773.935611</td>\n",
              "    </tr>\n",
              "    <tr>\n",
              "      <th>2020-01-01</th>\n",
              "      <td>606903.699320</td>\n",
              "    </tr>\n",
              "    <tr>\n",
              "      <th>2020-02-01</th>\n",
              "      <td>593487.023310</td>\n",
              "    </tr>\n",
              "  </tbody>\n",
              "</table>\n",
              "</div>"
            ],
            "text/plain": [
              "                        0\n",
              "ds                       \n",
              "2019-03-01  595257.650365\n",
              "2019-04-01  586421.885604\n",
              "2019-05-01  589893.283385\n",
              "2019-06-01  607229.265826\n",
              "2019-07-01  611999.705066\n",
              "2019-08-01  610213.850030\n",
              "2019-09-01  589388.324584\n",
              "2019-10-01  614943.746860\n",
              "2019-11-01  621752.179470\n",
              "2019-12-01  635773.935611\n",
              "2020-01-01  606903.699320\n",
              "2020-02-01  593487.023310"
            ]
          },
          "metadata": {
            "tags": []
          },
          "execution_count": 54
        }
      ]
    },
    {
      "cell_type": "code",
      "metadata": {
        "colab": {
          "base_uri": "https://localhost:8080/",
          "height": 320
        },
        "id": "Fn5m4dODQ6qM",
        "outputId": "69063150-374a-4e39-d549-aba22497b82b"
      },
      "source": [
        "plt.figure(figsize=(15,5))\r\n",
        "plt.plot(train, label= \"Train\")\r\n",
        "plt.plot(test, label= 'Test')\r\n",
        "plt.plot(prediction, label = 'Previsão')\r\n",
        "plt.show()"
      ],
      "execution_count": 55,
      "outputs": [
        {
          "output_type": "display_data",
          "data": {
            "image/png": "[encoded data removed]",
            "text/plain": [
              "<Figure size 1080x360 with 1 Axes>"
            ]
          },
          "metadata": {
            "tags": [],
            "needs_background": "light"
          }
        }
      ]
    },
    {
      "cell_type": "code",
      "metadata": {
        "colab": {
          "base_uri": "https://localhost:8080/"
        },
        "id": "36_oqpWyRV1N",
        "outputId": "54e2d078-f6b3-4ee2-a4fb-5aa17709369a"
      },
      "source": [
        "from sklearn.metrics import r2_score\r\n",
        "test['0'] = prediction\r\n",
        "r2_score(test['y'], test['0'])"
      ],
      "execution_count": 56,
      "outputs": [
        {
          "output_type": "execute_result",
          "data": {
            "text/plain": [
              "0.36437232972921807"
            ]
          },
          "metadata": {
            "tags": []
          },
          "execution_count": 56
        }
      ]
    },
    {
      "cell_type": "code",
      "metadata": {
        "colab": {
          "base_uri": "https://localhost:8080/",
          "height": 452
        },
        "id": "RE5Ks7TjExZQ",
        "outputId": "835a831d-19dc-4524-f808-be265e4497d7"
      },
      "source": [
        "test = test.drop(columns=['0'])\r\n",
        "test"
      ],
      "execution_count": 57,
      "outputs": [
        {
          "output_type": "execute_result",
          "data": {
            "text/html": [
              "<div>\n",
              "<style scoped>\n",
              "    .dataframe tbody tr th:only-of-type {\n",
              "        vertical-align: middle;\n",
              "    }\n",
              "\n",
              "    .dataframe tbody tr th {\n",
              "        vertical-align: top;\n",
              "    }\n",
              "\n",
              "    .dataframe thead th {\n",
              "        text-align: right;\n",
              "    }\n",
              "</style>\n",
              "<table border=\"1\" class=\"dataframe\">\n",
              "  <thead>\n",
              "    <tr style=\"text-align: right;\">\n",
              "      <th></th>\n",
              "      <th>y</th>\n",
              "    </tr>\n",
              "    <tr>\n",
              "      <th>ds</th>\n",
              "      <th></th>\n",
              "    </tr>\n",
              "  </thead>\n",
              "  <tbody>\n",
              "    <tr>\n",
              "      <th>2019-03-01</th>\n",
              "      <td>579173</td>\n",
              "    </tr>\n",
              "    <tr>\n",
              "      <th>2019-04-01</th>\n",
              "      <td>592916</td>\n",
              "    </tr>\n",
              "    <tr>\n",
              "      <th>2019-05-01</th>\n",
              "      <td>604607</td>\n",
              "    </tr>\n",
              "    <tr>\n",
              "      <th>2019-06-01</th>\n",
              "      <td>598283</td>\n",
              "    </tr>\n",
              "    <tr>\n",
              "      <th>2019-07-01</th>\n",
              "      <td>627050</td>\n",
              "    </tr>\n",
              "    <tr>\n",
              "      <th>2019-08-01</th>\n",
              "      <td>616158</td>\n",
              "    </tr>\n",
              "    <tr>\n",
              "      <th>2019-09-01</th>\n",
              "      <td>614188</td>\n",
              "    </tr>\n",
              "    <tr>\n",
              "      <th>2019-10-01</th>\n",
              "      <td>640907</td>\n",
              "    </tr>\n",
              "    <tr>\n",
              "      <th>2019-11-01</th>\n",
              "      <td>634654</td>\n",
              "    </tr>\n",
              "    <tr>\n",
              "      <th>2019-12-01</th>\n",
              "      <td>647460</td>\n",
              "    </tr>\n",
              "    <tr>\n",
              "      <th>2020-01-01</th>\n",
              "      <td>619785</td>\n",
              "    </tr>\n",
              "    <tr>\n",
              "      <th>2020-02-01</th>\n",
              "      <td>608644</td>\n",
              "    </tr>\n",
              "  </tbody>\n",
              "</table>\n",
              "</div>"
            ],
            "text/plain": [
              "                 y\n",
              "ds                \n",
              "2019-03-01  579173\n",
              "2019-04-01  592916\n",
              "2019-05-01  604607\n",
              "2019-06-01  598283\n",
              "2019-07-01  627050\n",
              "2019-08-01  616158\n",
              "2019-09-01  614188\n",
              "2019-10-01  640907\n",
              "2019-11-01  634654\n",
              "2019-12-01  647460\n",
              "2020-01-01  619785\n",
              "2020-02-01  608644"
            ]
          },
          "metadata": {
            "tags": []
          },
          "execution_count": 57
        }
      ]
    },
    {
      "cell_type": "code",
      "metadata": {
        "colab": {
          "base_uri": "https://localhost:8080/"
        },
        "id": "snk0Kdeo_4FA",
        "outputId": "fd045c2d-e065-4bef-f7da-20389db73a05"
      },
      "source": [
        "print(f'RMSE= {mean_squared_error(test, prediction)}')"
      ],
      "execution_count": 58,
      "outputs": [
        {
          "output_type": "stream",
          "text": [
            "RMSE= 237255021.85900554\n"
          ],
          "name": "stdout"
        }
      ]
    }
  ]
}