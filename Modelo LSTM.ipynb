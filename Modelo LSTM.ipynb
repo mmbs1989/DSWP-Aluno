{
  "nbformat": 4,
  "nbformat_minor": 0,
  "metadata": {
    "colab": {
      "name": "AV Blogathon.ipynb",
      "provenance": [],
      "include_colab_link": true
    },
    "kernelspec": {
      "name": "python3",
      "display_name": "Python 3"
    }
  },
  "cells": [
    {
      "cell_type": "markdown",
      "metadata": {
        "id": "view-in-github",
        "colab_type": "text"
      },
      "source": [
        "<a href=\"https://colab.research.google.com/github/mmbs1989/DSWP-Aluno/blob/main/Modelo%20LSTM.ipynb\" target=\"_parent\"><img src=\"https://colab.research.google.com/assets/colab-badge.svg\" alt=\"Open In Colab\"/></a>"
      ]
    },
    {
      "cell_type": "markdown",
      "metadata": {
        "id": "zs6BAr1Q7-fc"
      },
      "source": [
        "### Multivariate Multistep Time Series Forecasting using Stacked LSTM sequence to sequence Autoencoder in Tensorflow 2.0 / Keras "
      ]
    },
    {
      "cell_type": "code",
      "metadata": {
        "id": "cgtE_Cnzhf7s"
      },
      "source": [
        "import pandas as pd\n",
        "import numpy as np\n",
        "from sklearn.preprocessing import MinMaxScaler\n",
        "import matplotlib.pyplot as plt\n",
        "import tensorflow as tf\n",
        "import os"
      ],
      "execution_count": null,
      "outputs": []
    },
    {
      "cell_type": "markdown",
      "metadata": {
        "id": "w_cOXmiWj_Az"
      },
      "source": [
        "Downloading the dataset"
      ]
    },
    {
      "cell_type": "code",
      "metadata": {
        "id": "edgZZr8fjKoj",
        "colab": {
          "base_uri": "https://localhost:8080/",
          "height": 222
        },
        "outputId": "01094c96-24ec-49ad-d83b-64fab031daf9"
      },
      "source": [
        "!wget https://archive.ics.uci.edu/ml/machine-learning-databases/00235/household_power_consumption.zip"
      ],
      "execution_count": null,
      "outputs": [
        {
          "output_type": "stream",
          "text": [
            "--2020-10-28 13:55:46--  https://archive.ics.uci.edu/ml/machine-learning-databases/00235/household_power_consumption.zip\n",
            "Resolving archive.ics.uci.edu (archive.ics.uci.edu)... 128.195.10.252\n",
            "Connecting to archive.ics.uci.edu (archive.ics.uci.edu)|128.195.10.252|:443... connected.\n",
            "HTTP request sent, awaiting response... 200 OK\n",
            "Length: 20640916 (20M) [application/x-httpd-php]\n",
            "Saving to: ‘household_power_consumption.zip.1’\n",
            "\n",
            "household_power_con 100%[===================>]  19.68M  28.3MB/s    in 0.7s    \n",
            "\n",
            "2020-10-28 13:55:47 (28.3 MB/s) - ‘household_power_consumption.zip.1’ saved [20640916/20640916]\n",
            "\n"
          ],
          "name": "stdout"
        }
      ]
    },
    {
      "cell_type": "code",
      "metadata": {
        "id": "BvrQC1fiju0o",
        "colab": {
          "base_uri": "https://localhost:8080/",
          "height": 67
        },
        "outputId": "af06a815-f5bb-4738-94fe-478c78db2f71"
      },
      "source": [
        "!unzip household_power_consumption.zip  "
      ],
      "execution_count": null,
      "outputs": [
        {
          "output_type": "stream",
          "text": [
            "Archive:  household_power_consumption.zip\n",
            "replace household_power_consumption.txt? [y]es, [n]o, [A]ll, [N]one, [r]ename: yes\n",
            "  inflating: household_power_consumption.txt  \n"
          ],
          "name": "stdout"
        }
      ]
    },
    {
      "cell_type": "markdown",
      "metadata": {
        "id": "nGNBcAH7kGri"
      },
      "source": [
        "**Text to CSV**"
      ]
    },
    {
      "cell_type": "code",
      "metadata": {
        "id": "xZ-E82TBhrpu",
        "colab": {
          "base_uri": "https://localhost:8080/",
          "height": 413
        },
        "outputId": "0fc8ecbb-dd7b-487a-d4da-9d1992fa6887"
      },
      "source": [
        "df=pd.read_csv(r'household_power_consumption.txt', sep=';', header=0, low_memory=False, infer_datetime_format=True, parse_dates={'datetime':[0,1]}, index_col=['datetime'])\n",
        "df.head()"
      ],
      "execution_count": null,
      "outputs": [
        {
          "output_type": "execute_result",
          "data": {
            "text/html": [
              "<div>\n",
              "<style scoped>\n",
              "    .dataframe tbody tr th:only-of-type {\n",
              "        vertical-align: middle;\n",
              "    }\n",
              "\n",
              "    .dataframe tbody tr th {\n",
              "        vertical-align: top;\n",
              "    }\n",
              "\n",
              "    .dataframe thead th {\n",
              "        text-align: right;\n",
              "    }\n",
              "</style>\n",
              "<table border=\"1\" class=\"dataframe\">\n",
              "  <thead>\n",
              "    <tr style=\"text-align: right;\">\n",
              "      <th></th>\n",
              "      <th>Global_active_power</th>\n",
              "      <th>Global_reactive_power</th>\n",
              "      <th>Voltage</th>\n",
              "      <th>Global_intensity</th>\n",
              "      <th>Sub_metering_1</th>\n",
              "      <th>Sub_metering_2</th>\n",
              "      <th>Sub_metering_3</th>\n",
              "    </tr>\n",
              "    <tr>\n",
              "      <th>datetime</th>\n",
              "      <th></th>\n",
              "      <th></th>\n",
              "      <th></th>\n",
              "      <th></th>\n",
              "      <th></th>\n",
              "      <th></th>\n",
              "      <th></th>\n",
              "    </tr>\n",
              "  </thead>\n",
              "  <tbody>\n",
              "    <tr>\n",
              "      <th>2006-12-16 17:24:00</th>\n",
              "      <td>4.216</td>\n",
              "      <td>0.418</td>\n",
              "      <td>234.840</td>\n",
              "      <td>18.400</td>\n",
              "      <td>0.000</td>\n",
              "      <td>1.000</td>\n",
              "      <td>17.0</td>\n",
              "    </tr>\n",
              "    <tr>\n",
              "      <th>2006-12-16 17:25:00</th>\n",
              "      <td>5.360</td>\n",
              "      <td>0.436</td>\n",
              "      <td>233.630</td>\n",
              "      <td>23.000</td>\n",
              "      <td>0.000</td>\n",
              "      <td>1.000</td>\n",
              "      <td>16.0</td>\n",
              "    </tr>\n",
              "    <tr>\n",
              "      <th>2006-12-16 17:26:00</th>\n",
              "      <td>5.374</td>\n",
              "      <td>0.498</td>\n",
              "      <td>233.290</td>\n",
              "      <td>23.000</td>\n",
              "      <td>0.000</td>\n",
              "      <td>2.000</td>\n",
              "      <td>17.0</td>\n",
              "    </tr>\n",
              "    <tr>\n",
              "      <th>2006-12-16 17:27:00</th>\n",
              "      <td>5.388</td>\n",
              "      <td>0.502</td>\n",
              "      <td>233.740</td>\n",
              "      <td>23.000</td>\n",
              "      <td>0.000</td>\n",
              "      <td>1.000</td>\n",
              "      <td>17.0</td>\n",
              "    </tr>\n",
              "    <tr>\n",
              "      <th>2006-12-16 17:28:00</th>\n",
              "      <td>3.666</td>\n",
              "      <td>0.528</td>\n",
              "      <td>235.680</td>\n",
              "      <td>15.800</td>\n",
              "      <td>0.000</td>\n",
              "      <td>1.000</td>\n",
              "      <td>17.0</td>\n",
              "    </tr>\n",
              "  </tbody>\n",
              "</table>\n",
              "</div>"
            ],
            "text/plain": [
              "                    Global_active_power  ... Sub_metering_3\n",
              "datetime                                 ...               \n",
              "2006-12-16 17:24:00               4.216  ...           17.0\n",
              "2006-12-16 17:25:00               5.360  ...           16.0\n",
              "2006-12-16 17:26:00               5.374  ...           17.0\n",
              "2006-12-16 17:27:00               5.388  ...           17.0\n",
              "2006-12-16 17:28:00               3.666  ...           17.0\n",
              "\n",
              "[5 rows x 7 columns]"
            ]
          },
          "metadata": {
            "tags": []
          },
          "execution_count": 93
        }
      ]
    },
    {
      "cell_type": "markdown",
      "metadata": {
        "id": "SvyCW64ikKLR"
      },
      "source": [
        "**Imputing Null values**"
      ]
    },
    {
      "cell_type": "code",
      "metadata": {
        "id": "ta7NOb8Ys5lq",
        "colab": {
          "base_uri": "https://localhost:8080/",
          "height": 151
        },
        "outputId": "0b29eac7-d48f-487b-a1c0-c18218adecec"
      },
      "source": [
        "df = df.replace('?', np.nan)\n",
        "df.isnull().sum()"
      ],
      "execution_count": null,
      "outputs": [
        {
          "output_type": "execute_result",
          "data": {
            "text/plain": [
              "Global_active_power      25979\n",
              "Global_reactive_power    25979\n",
              "Voltage                  25979\n",
              "Global_intensity         25979\n",
              "Sub_metering_1           25979\n",
              "Sub_metering_2           25979\n",
              "Sub_metering_3           25979\n",
              "dtype: int64"
            ]
          },
          "metadata": {
            "tags": []
          },
          "execution_count": 94
        }
      ]
    },
    {
      "cell_type": "code",
      "metadata": {
        "id": "thVNmee83im9",
        "colab": {
          "base_uri": "https://localhost:8080/",
          "height": 151
        },
        "outputId": "c29e1cbc-8078-4238-9458-2fa385b72017"
      },
      "source": [
        "def fill_missing(values):\n",
        "    one_day = 60*24\n",
        "    for row in range(df.shape[0]):\n",
        "        for col in range(df.shape[1]):\n",
        "            if np.isnan(values[row][col]):\n",
        "                values[row,col] = values[row-one_day,col]\n",
        "df = df.astype('float32')\n",
        "fill_missing(df.values)\n",
        "df.isnull().sum()"
      ],
      "execution_count": null,
      "outputs": [
        {
          "output_type": "execute_result",
          "data": {
            "text/plain": [
              "Global_active_power      0\n",
              "Global_reactive_power    0\n",
              "Voltage                  0\n",
              "Global_intensity         0\n",
              "Sub_metering_1           0\n",
              "Sub_metering_2           0\n",
              "Sub_metering_3           0\n",
              "dtype: int64"
            ]
          },
          "metadata": {
            "tags": []
          },
          "execution_count": 95
        }
      ]
    },
    {
      "cell_type": "markdown",
      "metadata": {
        "id": "BuM8UGy5lJu2"
      },
      "source": [
        "Downsampling of Data from minutes to Days "
      ]
    },
    {
      "cell_type": "code",
      "metadata": {
        "id": "lQ7OyJYY31fz"
      },
      "source": [
        "daily_df = df.resample('D').sum()\n",
        "daily_df.head()"
      ],
      "execution_count": null,
      "outputs": []
    },
    {
      "cell_type": "code",
      "metadata": {
        "id": "htPIRoIqfjcm",
        "colab": {
          "base_uri": "https://localhost:8080/",
          "height": 329
        },
        "outputId": "78053100-7d16-4615-ddf4-748b3d156632"
      },
      "source": [
        "daily_df.head()"
      ],
      "execution_count": null,
      "outputs": [
        {
          "output_type": "execute_result",
          "data": {
            "text/html": [
              "<div>\n",
              "<style scoped>\n",
              "    .dataframe tbody tr th:only-of-type {\n",
              "        vertical-align: middle;\n",
              "    }\n",
              "\n",
              "    .dataframe tbody tr th {\n",
              "        vertical-align: top;\n",
              "    }\n",
              "\n",
              "    .dataframe thead th {\n",
              "        text-align: right;\n",
              "    }\n",
              "</style>\n",
              "<table border=\"1\" class=\"dataframe\">\n",
              "  <thead>\n",
              "    <tr style=\"text-align: right;\">\n",
              "      <th></th>\n",
              "      <th>Global_active_power</th>\n",
              "      <th>Global_reactive_power</th>\n",
              "      <th>Voltage</th>\n",
              "      <th>Global_intensity</th>\n",
              "      <th>Sub_metering_1</th>\n",
              "      <th>Sub_metering_2</th>\n",
              "      <th>Sub_metering_3</th>\n",
              "    </tr>\n",
              "    <tr>\n",
              "      <th>datetime</th>\n",
              "      <th></th>\n",
              "      <th></th>\n",
              "      <th></th>\n",
              "      <th></th>\n",
              "      <th></th>\n",
              "      <th></th>\n",
              "      <th></th>\n",
              "    </tr>\n",
              "  </thead>\n",
              "  <tbody>\n",
              "    <tr>\n",
              "      <th>2006-12-16</th>\n",
              "      <td>1209.176025</td>\n",
              "      <td>34.922001</td>\n",
              "      <td>93552.53125</td>\n",
              "      <td>5180.799805</td>\n",
              "      <td>0.0</td>\n",
              "      <td>546.0</td>\n",
              "      <td>4926.0</td>\n",
              "    </tr>\n",
              "    <tr>\n",
              "      <th>2006-12-17</th>\n",
              "      <td>3390.459961</td>\n",
              "      <td>226.005997</td>\n",
              "      <td>345725.31250</td>\n",
              "      <td>14398.599609</td>\n",
              "      <td>2033.0</td>\n",
              "      <td>4187.0</td>\n",
              "      <td>13341.0</td>\n",
              "    </tr>\n",
              "    <tr>\n",
              "      <th>2006-12-18</th>\n",
              "      <td>2203.825928</td>\n",
              "      <td>161.792007</td>\n",
              "      <td>347373.62500</td>\n",
              "      <td>9247.200195</td>\n",
              "      <td>1063.0</td>\n",
              "      <td>2621.0</td>\n",
              "      <td>14018.0</td>\n",
              "    </tr>\n",
              "    <tr>\n",
              "      <th>2006-12-19</th>\n",
              "      <td>1666.193970</td>\n",
              "      <td>150.942001</td>\n",
              "      <td>348479.00000</td>\n",
              "      <td>7094.000000</td>\n",
              "      <td>839.0</td>\n",
              "      <td>7602.0</td>\n",
              "      <td>6197.0</td>\n",
              "    </tr>\n",
              "    <tr>\n",
              "      <th>2006-12-20</th>\n",
              "      <td>2225.748047</td>\n",
              "      <td>160.998001</td>\n",
              "      <td>348923.62500</td>\n",
              "      <td>9313.000000</td>\n",
              "      <td>0.0</td>\n",
              "      <td>2648.0</td>\n",
              "      <td>14063.0</td>\n",
              "    </tr>\n",
              "  </tbody>\n",
              "</table>\n",
              "</div>"
            ],
            "text/plain": [
              "            Global_active_power  ...  Sub_metering_3\n",
              "datetime                         ...                \n",
              "2006-12-16          1209.176025  ...          4926.0\n",
              "2006-12-17          3390.459961  ...         13341.0\n",
              "2006-12-18          2203.825928  ...         14018.0\n",
              "2006-12-19          1666.193970  ...          6197.0\n",
              "2006-12-20          2225.748047  ...         14063.0\n",
              "\n",
              "[5 rows x 7 columns]"
            ]
          },
          "metadata": {
            "tags": []
          },
          "execution_count": 97
        }
      ]
    },
    {
      "cell_type": "code",
      "metadata": {
        "id": "TVpTkdJm5Myh",
        "colab": {
          "base_uri": "https://localhost:8080/",
          "height": 34
        },
        "outputId": "a77629b7-a4fb-4f73-dba8-af07ab04b0ce"
      },
      "source": [
        "daily_df.shape, df.shape"
      ],
      "execution_count": null,
      "outputs": [
        {
          "output_type": "execute_result",
          "data": {
            "text/plain": [
              "((1442, 7), (2075259, 7))"
            ]
          },
          "metadata": {
            "tags": []
          },
          "execution_count": 98
        }
      ]
    },
    {
      "cell_type": "code",
      "metadata": {
        "id": "95DRaJDAiAzj"
      },
      "source": [
        "# For this case, let's assume that\n",
        "# Given past 10 days observation, forecast the next 5 days observations. \n",
        "n_past = 10\n",
        "n_future = 5 \n",
        "n_features = 7"
      ],
      "execution_count": null,
      "outputs": []
    },
    {
      "cell_type": "markdown",
      "metadata": {
        "id": "2KGQDB93mjqy"
      },
      "source": [
        "Train - Test Split"
      ]
    },
    {
      "cell_type": "code",
      "metadata": {
        "id": "2iHDBSbu8tVu",
        "colab": {
          "base_uri": "https://localhost:8080/",
          "height": 34
        },
        "outputId": "2bb457d0-2bf2-49f6-8a60-20dd8376359e"
      },
      "source": [
        "train_df,test_df = daily_df[1:1081], daily_df[1081:]  # 75% and 25%\n",
        "train_df.shape,test_df.shape"
      ],
      "execution_count": null,
      "outputs": [
        {
          "output_type": "execute_result",
          "data": {
            "text/plain": [
              "((1080, 7), (361, 7))"
            ]
          },
          "metadata": {
            "tags": []
          },
          "execution_count": 100
        }
      ]
    },
    {
      "cell_type": "markdown",
      "metadata": {
        "id": "lk2FYkUcmtDc"
      },
      "source": [
        "Scaling the values for faster training of the models."
      ]
    },
    {
      "cell_type": "code",
      "metadata": {
        "id": "cIVnPiBaB9pG",
        "colab": {
          "base_uri": "https://localhost:8080/",
          "height": 1000
        },
        "outputId": "acdaad3d-4f60-4c62-a62c-3f4e41f70685"
      },
      "source": [
        "train = train_df\n",
        "scalers={}\n",
        "\n",
        "for i in train_df.columns:\n",
        "    scaler = MinMaxScaler(feature_range=(-1,1))\n",
        "    s_s = scaler.fit_transform(train[i].values.reshape(-1,1))\n",
        "    s_s=np.reshape(s_s,len(s_s))\n",
        "    scalers['scaler_'+ i] = scaler\n",
        "    train[i]=s_s\n",
        "\n",
        "test = test_df\n",
        "for i in train_df.columns:\n",
        "    scaler = scalers['scaler_'+i]\n",
        "    s_s = scaler.transform(test[i].values.reshape(-1,1))\n",
        "    s_s=np.reshape(s_s,len(s_s))\n",
        "    scalers['scaler_'+i] = scaler\n",
        "    test[i]=s_s"
      ],
      "execution_count": null,
      "outputs": [
        {
          "output_type": "stream",
          "text": [
            "/usr/local/lib/python3.6/dist-packages/ipykernel_launcher.py:9: SettingWithCopyWarning: \n",
            "A value is trying to be set on a copy of a slice from a DataFrame.\n",
            "Try using .loc[row_indexer,col_indexer] = value instead\n",
            "\n",
            "See the caveats in the documentation: https://pandas.pydata.org/pandas-docs/stable/user_guide/indexing.html#returning-a-view-versus-a-copy\n",
            "  if __name__ == '__main__':\n",
            "/usr/local/lib/python3.6/dist-packages/ipykernel_launcher.py:9: SettingWithCopyWarning: \n",
            "A value is trying to be set on a copy of a slice from a DataFrame.\n",
            "Try using .loc[row_indexer,col_indexer] = value instead\n",
            "\n",
            "See the caveats in the documentation: https://pandas.pydata.org/pandas-docs/stable/user_guide/indexing.html#returning-a-view-versus-a-copy\n",
            "  if __name__ == '__main__':\n",
            "/usr/local/lib/python3.6/dist-packages/ipykernel_launcher.py:9: SettingWithCopyWarning: \n",
            "A value is trying to be set on a copy of a slice from a DataFrame.\n",
            "Try using .loc[row_indexer,col_indexer] = value instead\n",
            "\n",
            "See the caveats in the documentation: https://pandas.pydata.org/pandas-docs/stable/user_guide/indexing.html#returning-a-view-versus-a-copy\n",
            "  if __name__ == '__main__':\n",
            "/usr/local/lib/python3.6/dist-packages/ipykernel_launcher.py:9: SettingWithCopyWarning: \n",
            "A value is trying to be set on a copy of a slice from a DataFrame.\n",
            "Try using .loc[row_indexer,col_indexer] = value instead\n",
            "\n",
            "See the caveats in the documentation: https://pandas.pydata.org/pandas-docs/stable/user_guide/indexing.html#returning-a-view-versus-a-copy\n",
            "  if __name__ == '__main__':\n",
            "/usr/local/lib/python3.6/dist-packages/ipykernel_launcher.py:9: SettingWithCopyWarning: \n",
            "A value is trying to be set on a copy of a slice from a DataFrame.\n",
            "Try using .loc[row_indexer,col_indexer] = value instead\n",
            "\n",
            "See the caveats in the documentation: https://pandas.pydata.org/pandas-docs/stable/user_guide/indexing.html#returning-a-view-versus-a-copy\n",
            "  if __name__ == '__main__':\n",
            "/usr/local/lib/python3.6/dist-packages/ipykernel_launcher.py:9: SettingWithCopyWarning: \n",
            "A value is trying to be set on a copy of a slice from a DataFrame.\n",
            "Try using .loc[row_indexer,col_indexer] = value instead\n",
            "\n",
            "See the caveats in the documentation: https://pandas.pydata.org/pandas-docs/stable/user_guide/indexing.html#returning-a-view-versus-a-copy\n",
            "  if __name__ == '__main__':\n",
            "/usr/local/lib/python3.6/dist-packages/ipykernel_launcher.py:9: SettingWithCopyWarning: \n",
            "A value is trying to be set on a copy of a slice from a DataFrame.\n",
            "Try using .loc[row_indexer,col_indexer] = value instead\n",
            "\n",
            "See the caveats in the documentation: https://pandas.pydata.org/pandas-docs/stable/user_guide/indexing.html#returning-a-view-versus-a-copy\n",
            "  if __name__ == '__main__':\n",
            "/usr/local/lib/python3.6/dist-packages/ipykernel_launcher.py:17: SettingWithCopyWarning: \n",
            "A value is trying to be set on a copy of a slice from a DataFrame.\n",
            "Try using .loc[row_indexer,col_indexer] = value instead\n",
            "\n",
            "See the caveats in the documentation: https://pandas.pydata.org/pandas-docs/stable/user_guide/indexing.html#returning-a-view-versus-a-copy\n",
            "/usr/local/lib/python3.6/dist-packages/ipykernel_launcher.py:17: SettingWithCopyWarning: \n",
            "A value is trying to be set on a copy of a slice from a DataFrame.\n",
            "Try using .loc[row_indexer,col_indexer] = value instead\n",
            "\n",
            "See the caveats in the documentation: https://pandas.pydata.org/pandas-docs/stable/user_guide/indexing.html#returning-a-view-versus-a-copy\n",
            "/usr/local/lib/python3.6/dist-packages/ipykernel_launcher.py:17: SettingWithCopyWarning: \n",
            "A value is trying to be set on a copy of a slice from a DataFrame.\n",
            "Try using .loc[row_indexer,col_indexer] = value instead\n",
            "\n",
            "See the caveats in the documentation: https://pandas.pydata.org/pandas-docs/stable/user_guide/indexing.html#returning-a-view-versus-a-copy\n",
            "/usr/local/lib/python3.6/dist-packages/ipykernel_launcher.py:17: SettingWithCopyWarning: \n",
            "A value is trying to be set on a copy of a slice from a DataFrame.\n",
            "Try using .loc[row_indexer,col_indexer] = value instead\n",
            "\n",
            "See the caveats in the documentation: https://pandas.pydata.org/pandas-docs/stable/user_guide/indexing.html#returning-a-view-versus-a-copy\n",
            "/usr/local/lib/python3.6/dist-packages/ipykernel_launcher.py:17: SettingWithCopyWarning: \n",
            "A value is trying to be set on a copy of a slice from a DataFrame.\n",
            "Try using .loc[row_indexer,col_indexer] = value instead\n",
            "\n",
            "See the caveats in the documentation: https://pandas.pydata.org/pandas-docs/stable/user_guide/indexing.html#returning-a-view-versus-a-copy\n",
            "/usr/local/lib/python3.6/dist-packages/ipykernel_launcher.py:17: SettingWithCopyWarning: \n",
            "A value is trying to be set on a copy of a slice from a DataFrame.\n",
            "Try using .loc[row_indexer,col_indexer] = value instead\n",
            "\n",
            "See the caveats in the documentation: https://pandas.pydata.org/pandas-docs/stable/user_guide/indexing.html#returning-a-view-versus-a-copy\n",
            "/usr/local/lib/python3.6/dist-packages/ipykernel_launcher.py:17: SettingWithCopyWarning: \n",
            "A value is trying to be set on a copy of a slice from a DataFrame.\n",
            "Try using .loc[row_indexer,col_indexer] = value instead\n",
            "\n",
            "See the caveats in the documentation: https://pandas.pydata.org/pandas-docs/stable/user_guide/indexing.html#returning-a-view-versus-a-copy\n"
          ],
          "name": "stderr"
        }
      ]
    },
    {
      "cell_type": "markdown",
      "metadata": {
        "id": "OqWTUZGHm1tm"
      },
      "source": [
        "**Converting the series to samples for supervised learning**"
      ]
    },
    {
      "cell_type": "code",
      "metadata": {
        "id": "6axUcusZhvzK"
      },
      "source": [
        "def split_series(series, n_past, n_future):\n",
        "  #\n",
        "  # n_past ==> no of past observations\n",
        "  #\n",
        "  # n_future ==> no of future observations \n",
        "  #\n",
        "  X, y = list(), list()\n",
        "  for window_start in range(len(series)):\n",
        "    past_end = window_start + n_past\n",
        "    future_end = past_end + n_future\n",
        "    if future_end > len(series):\n",
        "      break\n",
        "    # slicing the past and future parts of the window\n",
        "    past, future = series[window_start:past_end, :], series[past_end:future_end, :]\n",
        "    X.append(past)\n",
        "    y.append(future)\n",
        "  return np.array(X), np.array(y)"
      ],
      "execution_count": null,
      "outputs": []
    },
    {
      "cell_type": "code",
      "metadata": {
        "id": "BOHlFWgVidl_"
      },
      "source": [
        "X_train, y_train = split_series(train.values,n_past, n_future)\n",
        "X_train = X_train.reshape((X_train.shape[0], X_train.shape[1],n_features))\n",
        "y_train = y_train.reshape((y_train.shape[0], y_train.shape[1], n_features))\n",
        "\n",
        "X_test, y_test = split_series(test.values,n_past, n_future)\n",
        "X_test = X_test.reshape((X_test.shape[0], X_test.shape[1],n_features))\n",
        "y_test = y_test.reshape((y_test.shape[0], y_test.shape[1], n_features))"
      ],
      "execution_count": null,
      "outputs": []
    },
    {
      "cell_type": "code",
      "metadata": {
        "id": "Bzav_OzQh_Dx",
        "colab": {
          "base_uri": "https://localhost:8080/",
          "height": 34
        },
        "outputId": "d0b5bdd7-f372-4c2f-c8c6-01fe94d48eb4"
      },
      "source": [
        "X_test.shape"
      ],
      "execution_count": null,
      "outputs": [
        {
          "output_type": "execute_result",
          "data": {
            "text/plain": [
              "(347, 10, 7)"
            ]
          },
          "metadata": {
            "tags": []
          },
          "execution_count": 104
        }
      ]
    },
    {
      "cell_type": "markdown",
      "metadata": {
        "id": "X2rRUBjbnJij"
      },
      "source": [
        "**Model Architecture**\n",
        "\n",
        "E1D1 ==> Sequence to Sequence Model with one encoder layer and one decoder layer. \n",
        "\n",
        "E2D2 ==> Sequence to Sequence Model with two encoder layers and two decoder layers. "
      ]
    },
    {
      "cell_type": "code",
      "metadata": {
        "id": "sMYwUsJ8HAtu",
        "colab": {
          "base_uri": "https://localhost:8080/",
          "height": 373
        },
        "outputId": "6b534f7b-9fc2-46a6-e54d-10af75b3cc11"
      },
      "source": [
        "# E1D1\n",
        "# n_features ==> no of features at each timestep in the data.\n",
        "#\n",
        "encoder_inputs = tf.keras.layers.Input(shape=(n_past, n_features))\n",
        "encoder_l1 = tf.keras.layers.LSTM(100, return_state=True)\n",
        "encoder_outputs1 = encoder_l1(encoder_inputs)\n",
        "encoder_states1 = encoder_outputs1[1:]\n",
        "#\n",
        "decoder_inputs = tf.keras.layers.RepeatVector(n_future)(encoder_outputs1[0])\n",
        "#\n",
        "decoder_l1 = tf.keras.layers.LSTM(100, return_sequences=True)(decoder_inputs,initial_state = encoder_states1)\n",
        "decoder_outputs1 = tf.keras.layers.TimeDistributed(tf.keras.layers.Dense(n_features))(decoder_l1)\n",
        "#\n",
        "model_e1d1 = tf.keras.models.Model(encoder_inputs,decoder_outputs1)\n",
        "#\n",
        "model_e1d1.summary()"
      ],
      "execution_count": null,
      "outputs": [
        {
          "output_type": "stream",
          "text": [
            "Model: \"functional_11\"\n",
            "__________________________________________________________________________________________________\n",
            "Layer (type)                    Output Shape         Param #     Connected to                     \n",
            "==================================================================================================\n",
            "input_7 (InputLayer)            [(None, 10, 7)]      0                                            \n",
            "__________________________________________________________________________________________________\n",
            "lstm_17 (LSTM)                  [(None, 100), (None, 43200       input_7[0][0]                    \n",
            "__________________________________________________________________________________________________\n",
            "repeat_vector_6 (RepeatVector)  (None, 5, 100)       0           lstm_17[0][0]                    \n",
            "__________________________________________________________________________________________________\n",
            "lstm_18 (LSTM)                  (None, 5, 100)       80400       repeat_vector_6[0][0]            \n",
            "                                                                 lstm_17[0][1]                    \n",
            "                                                                 lstm_17[0][2]                    \n",
            "__________________________________________________________________________________________________\n",
            "time_distributed_5 (TimeDistrib (None, 5, 7)         707         lstm_18[0][0]                    \n",
            "==================================================================================================\n",
            "Total params: 124,307\n",
            "Trainable params: 124,307\n",
            "Non-trainable params: 0\n",
            "__________________________________________________________________________________________________\n"
          ],
          "name": "stdout"
        }
      ]
    },
    {
      "cell_type": "code",
      "metadata": {
        "id": "ze7iac48h1JV",
        "colab": {
          "base_uri": "https://localhost:8080/",
          "height": 474
        },
        "outputId": "0bd65cde-5030-43bc-8904-2f4cef396158"
      },
      "source": [
        "# E2D2\n",
        "# n_features ==> no of features at each timestep in the data.\n",
        "#\n",
        "encoder_inputs = tf.keras.layers.Input(shape=(n_past, n_features))\n",
        "encoder_l1 = tf.keras.layers.LSTM(100,return_sequences = True, return_state=True)\n",
        "encoder_outputs1 = encoder_l1(encoder_inputs)\n",
        "encoder_states1 = encoder_outputs1[1:]\n",
        "encoder_l2 = tf.keras.layers.LSTM(100, return_state=True)\n",
        "encoder_outputs2 = encoder_l2(encoder_outputs1[0])\n",
        "encoder_states2 = encoder_outputs2[1:]\n",
        "#\n",
        "decoder_inputs = tf.keras.layers.RepeatVector(n_future)(encoder_outputs2[0])\n",
        "#\n",
        "decoder_l1 = tf.keras.layers.LSTM(100, return_sequences=True)(decoder_inputs,initial_state = encoder_states1)\n",
        "decoder_l2 = tf.keras.layers.LSTM(100, return_sequences=True)(decoder_l1,initial_state = encoder_states2)\n",
        "decoder_outputs2 = tf.keras.layers.TimeDistributed(tf.keras.layers.Dense(n_features))(decoder_l2)\n",
        "#\n",
        "model_e2d2 = tf.keras.models.Model(encoder_inputs,decoder_outputs2)\n",
        "#\n",
        "model_e2d2.summary()"
      ],
      "execution_count": null,
      "outputs": [
        {
          "output_type": "stream",
          "text": [
            "Model: \"functional_13\"\n",
            "__________________________________________________________________________________________________\n",
            "Layer (type)                    Output Shape         Param #     Connected to                     \n",
            "==================================================================================================\n",
            "input_8 (InputLayer)            [(None, 10, 7)]      0                                            \n",
            "__________________________________________________________________________________________________\n",
            "lstm_19 (LSTM)                  [(None, 10, 100), (N 43200       input_8[0][0]                    \n",
            "__________________________________________________________________________________________________\n",
            "lstm_20 (LSTM)                  [(None, 100), (None, 80400       lstm_19[0][0]                    \n",
            "__________________________________________________________________________________________________\n",
            "repeat_vector_7 (RepeatVector)  (None, 5, 100)       0           lstm_20[0][0]                    \n",
            "__________________________________________________________________________________________________\n",
            "lstm_21 (LSTM)                  (None, 5, 100)       80400       repeat_vector_7[0][0]            \n",
            "                                                                 lstm_19[0][1]                    \n",
            "                                                                 lstm_19[0][2]                    \n",
            "__________________________________________________________________________________________________\n",
            "lstm_22 (LSTM)                  (None, 5, 100)       80400       lstm_21[0][0]                    \n",
            "                                                                 lstm_20[0][1]                    \n",
            "                                                                 lstm_20[0][2]                    \n",
            "__________________________________________________________________________________________________\n",
            "time_distributed_6 (TimeDistrib (None, 5, 7)         707         lstm_22[0][0]                    \n",
            "==================================================================================================\n",
            "Total params: 285,107\n",
            "Trainable params: 285,107\n",
            "Non-trainable params: 0\n",
            "__________________________________________________________________________________________________\n"
          ],
          "name": "stdout"
        }
      ]
    },
    {
      "cell_type": "markdown",
      "metadata": {
        "id": "1Q0prbvcnq6W"
      },
      "source": [
        " **Training the models**\n"
      ]
    },
    {
      "cell_type": "code",
      "metadata": {
        "id": "L4Ee4kb5HuzM"
      },
      "source": [
        "reduce_lr = tf.keras.callbacks.LearningRateScheduler(lambda x: 1e-3 * 0.90 ** x)\n",
        "\n",
        "model_e1d1.compile(optimizer=tf.keras.optimizers.Adam(), loss=tf.keras.losses.Huber())\n",
        "history_e1d1=model_e1d1.fit(X_train,y_train,epochs=25,validation_data=(X_test,y_test),batch_size=32,verbose=0,callbacks=[reduce_lr])\n",
        "\n",
        "model_e2d2.compile(optimizer=tf.keras.optimizers.Adam(), loss=tf.keras.losses.Huber())\n",
        "history_e2d2=model_e2d2.fit(X_train,y_train,epochs=25,validation_data=(X_test,y_test),batch_size=32,verbose=0,callbacks=[reduce_lr])"
      ],
      "execution_count": null,
      "outputs": []
    },
    {
      "cell_type": "code",
      "metadata": {
        "id": "K9OV_pVhlKsw",
        "colab": {
          "base_uri": "https://localhost:8080/",
          "height": 295
        },
        "outputId": "4d2acafa-ce0d-492a-e9b8-3a8c4dbdab5e"
      },
      "source": [
        "plt.plot(history_e1d1.history['loss'])\n",
        "plt.plot(history_e1d1.history['val_loss'])\n",
        "plt.title(\"E1D1 Model Loss\")\n",
        "plt.xlabel('Epochs')\n",
        "plt.ylabel('Loss')\n",
        "plt.legend(['Train', 'Valid'])\n",
        "plt.show()"
      ],
      "execution_count": null,
      "outputs": [
        {
          "output_type": "display_data",
          "data": {
            "image/png": "[encoded data removed]",
            "text/plain": [
              "<Figure size 432x288 with 1 Axes>"
            ]
          },
          "metadata": {
            "tags": [],
            "needs_background": "light"
          }
        }
      ]
    },
    {
      "cell_type": "code",
      "metadata": {
        "id": "At-5JNsJI2lJ",
        "colab": {
          "base_uri": "https://localhost:8080/",
          "height": 295
        },
        "outputId": "ed265658-c8c8-459e-9702-d243cc944282"
      },
      "source": [
        "plt.plot(history_e2d2.history['loss'])\n",
        "plt.plot(history_e2d2.history['val_loss'])\n",
        "plt.title(\"E2D2 Model Loss\")\n",
        "plt.xlabel('Epochs')\n",
        "plt.ylabel('Loss')\n",
        "plt.legend(['Train', 'Valid'])\n",
        "plt.show()"
      ],
      "execution_count": null,
      "outputs": [
        {
          "output_type": "display_data",
          "data": {
            "image/png": "[encoded data removed]",
            "text/plain": [
              "<Figure size 432x288 with 1 Axes>"
            ]
          },
          "metadata": {
            "tags": [],
            "needs_background": "light"
          }
        }
      ]
    },
    {
      "cell_type": "markdown",
      "metadata": {
        "id": "QisYSkLCoJuC"
      },
      "source": [
        "Prediction on validation set"
      ]
    },
    {
      "cell_type": "code",
      "metadata": {
        "id": "TeRz6saSJASa"
      },
      "source": [
        "pred1_e1d1=model_e1d1.predict(X_test)\n",
        "pred1_e2d2=model_e2d2.predict(X_test)\n",
        "\n",
        "pred_e1d1=model_e1d1.predict(X_train)\n",
        "pred_e2d2=model_e2d2.predict(X_train)"
      ],
      "execution_count": null,
      "outputs": []
    },
    {
      "cell_type": "markdown",
      "metadata": {
        "id": "yuL-6375oNuu"
      },
      "source": [
        "Inverse Scaling of the predicted values"
      ]
    },
    {
      "cell_type": "code",
      "metadata": {
        "id": "kka5WrCVKAFx"
      },
      "source": [
        "for index,i in enumerate(train_df.columns):\n",
        "    scaler = scalers['scaler_'+i]\n",
        "    pred1_e1d1[:,:,index]=scaler.inverse_transform(pred1_e1d1[:,:,index])\n",
        "    pred_e1d1[:,:,index]=scaler.inverse_transform(pred_e1d1[:,:,index])\n",
        "    \n",
        "    pred1_e2d2[:,:,index]=scaler.inverse_transform(pred1_e2d2[:,:,index])\n",
        "    pred_e2d2[:,:,index]=scaler.inverse_transform(pred_e2d2[:,:,index])\n",
        "    \n",
        "    y_train[:,:,index]=scaler.inverse_transform(y_train[:,:,index])\n",
        "    y_test[:,:,index]=scaler.inverse_transform(y_test[:,:,index])"
      ],
      "execution_count": null,
      "outputs": []
    },
    {
      "cell_type": "markdown",
      "metadata": {
        "id": "m-w0gYG-oep8"
      },
      "source": [
        "**Checking Error** "
      ]
    },
    {
      "cell_type": "code",
      "metadata": {
        "id": "CWzFMl63djI3",
        "colab": {
          "base_uri": "https://localhost:8080/",
          "height": 1000
        },
        "outputId": "bbd65f60-df07-4de2-bfd8-01515e479769"
      },
      "source": [
        "from sklearn.metrics import mean_absolute_error\n",
        " \n",
        "for index,i in enumerate(train_df.columns):\n",
        "  print(i)\n",
        "  for j in range(1,6):\n",
        "    print(\"Day \",j,\":\")\n",
        "    print(\"MAE-E1D1 : \",mean_absolute_error(y_test[:,j-1,index],pred1_e1d1[:,j-1,index]),end=\", \")\n",
        "    print(\"MAE-E2D2 : \",mean_absolute_error(y_test[:,j-1,index],pred1_e2d2[:,j-1,index]))\n",
        "  print()\n",
        "  print()\n",
        "  "
      ],
      "execution_count": null,
      "outputs": [
        {
          "output_type": "stream",
          "text": [
            "Global_active_power\n",
            "Day  1 :\n",
            "MAE-E1D1 :  245.144, MAE-E2D2 :  246.96542\n",
            "Day  2 :\n",
            "MAE-E1D1 :  254.47997, MAE-E2D2 :  254.06583\n",
            "Day  3 :\n",
            "MAE-E1D1 :  265.41327, MAE-E2D2 :  263.6255\n",
            "Day  4 :\n",
            "MAE-E1D1 :  270.93033, MAE-E2D2 :  267.44333\n",
            "Day  5 :\n",
            "MAE-E1D1 :  275.34634, MAE-E2D2 :  271.52216\n",
            "\n",
            "\n",
            "Global_reactive_power\n",
            "Day  1 :\n",
            "MAE-E1D1 :  29.344177, MAE-E2D2 :  30.285513\n",
            "Day  2 :\n",
            "MAE-E1D1 :  30.913105, MAE-E2D2 :  31.700102\n",
            "Day  3 :\n",
            "MAE-E1D1 :  31.400846, MAE-E2D2 :  32.305515\n",
            "Day  4 :\n",
            "MAE-E1D1 :  31.784075, MAE-E2D2 :  32.66762\n",
            "Day  5 :\n",
            "MAE-E1D1 :  32.24717, MAE-E2D2 :  32.91339\n",
            "\n",
            "\n",
            "Voltage\n",
            "Day  1 :\n",
            "MAE-E1D1 :  1212.7615, MAE-E2D2 :  1278.4253\n",
            "Day  2 :\n",
            "MAE-E1D1 :  1310.1516, MAE-E2D2 :  1365.6832\n",
            "Day  3 :\n",
            "MAE-E1D1 :  1412.4586, MAE-E2D2 :  1457.0273\n",
            "Day  4 :\n",
            "MAE-E1D1 :  1504.0503, MAE-E2D2 :  1528.3538\n",
            "Day  5 :\n",
            "MAE-E1D1 :  1698.9247, MAE-E2D2 :  1713.8732\n",
            "\n",
            "\n",
            "Global_intensity\n",
            "Day  1 :\n",
            "MAE-E1D1 :  1019.7884, MAE-E2D2 :  1040.5126\n",
            "Day  2 :\n",
            "MAE-E1D1 :  1066.2053, MAE-E2D2 :  1071.6217\n",
            "Day  3 :\n",
            "MAE-E1D1 :  1104.7466, MAE-E2D2 :  1108.3403\n",
            "Day  4 :\n",
            "MAE-E1D1 :  1122.6079, MAE-E2D2 :  1120.8357\n",
            "Day  5 :\n",
            "MAE-E1D1 :  1142.2292, MAE-E2D2 :  1133.9883\n",
            "\n",
            "\n",
            "Sub_metering_1\n",
            "Day  1 :\n",
            "MAE-E1D1 :  988.3511, MAE-E2D2 :  989.24115\n",
            "Day  2 :\n",
            "MAE-E1D1 :  995.65717, MAE-E2D2 :  992.0322\n",
            "Day  3 :\n",
            "MAE-E1D1 :  1006.8807, MAE-E2D2 :  998.0422\n",
            "Day  4 :\n",
            "MAE-E1D1 :  1009.4843, MAE-E2D2 :  999.31995\n",
            "Day  5 :\n",
            "MAE-E1D1 :  1002.4121, MAE-E2D2 :  998.0301\n",
            "\n",
            "\n",
            "Sub_metering_2\n",
            "Day  1 :\n",
            "MAE-E1D1 :  1359.6823, MAE-E2D2 :  1368.2466\n",
            "Day  2 :\n",
            "MAE-E1D1 :  1357.5417, MAE-E2D2 :  1381.7601\n",
            "Day  3 :\n",
            "MAE-E1D1 :  1364.7601, MAE-E2D2 :  1379.1177\n",
            "Day  4 :\n",
            "MAE-E1D1 :  1382.58, MAE-E2D2 :  1385.741\n",
            "Day  5 :\n",
            "MAE-E1D1 :  1379.5914, MAE-E2D2 :  1385.2428\n",
            "\n",
            "\n",
            "Sub_metering_3\n",
            "Day  1 :\n",
            "MAE-E1D1 :  2347.898, MAE-E2D2 :  2363.7788\n",
            "Day  2 :\n",
            "MAE-E1D1 :  2413.4797, MAE-E2D2 :  2392.0771\n",
            "Day  3 :\n",
            "MAE-E1D1 :  2523.262, MAE-E2D2 :  2478.8274\n",
            "Day  4 :\n",
            "MAE-E1D1 :  2586.5386, MAE-E2D2 :  2535.9233\n",
            "Day  5 :\n",
            "MAE-E1D1 :  2632.6184, MAE-E2D2 :  2590.004\n",
            "\n",
            "\n"
          ],
          "name": "stdout"
        }
      ]
    },
    {
      "cell_type": "markdown",
      "metadata": {
        "id": "Jcim8gUeomHl"
      },
      "source": [
        "From the above output we can observe that in some cases E2D2 model has \n",
        "performed better than E1D1 model with less error. Training different models with different number of stacked layers and creating an ensemble model also performs well. \n",
        "\n",
        "Note: The results vary with respect to the dataset. If we stack more layers it may also lead to overfitting. So the no of layers to be stackes acts as a hyper parameter. "
      ]
    },
    {
      "cell_type": "code",
      "metadata": {
        "id": "tOzSoUGoqvpv"
      },
      "source": [
        ""
      ],
      "execution_count": null,
      "outputs": []
    }
  ]
}