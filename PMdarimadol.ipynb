{
  "nbformat": 4,
  "nbformat_minor": 0,
  "metadata": {
    "colab": {
      "name": "Untitled1.ipynb",
      "provenance": [],
      "authorship_tag": "ABX9TyMk51Vw1szq+ks6HXL0bS9x",
      "include_colab_link": true
    },
    "kernelspec": {
      "name": "python3",
      "display_name": "Python 3"
    }
  },
  "cells": [
    {
      "cell_type": "markdown",
      "metadata": {
        "id": "view-in-github",
        "colab_type": "text"
      },
      "source": [
        "<a href=\"https://colab.research.google.com/github/mmbs1989/DSWP-Aluno/blob/main/PMdarimadol.ipynb\" target=\"_parent\"><img src=\"https://colab.research.google.com/assets/colab-badge.svg\" alt=\"Open In Colab\"/></a>"
      ]
    },
    {
      "cell_type": "code",
      "metadata": {
        "colab": {
          "base_uri": "https://localhost:8080/"
        },
        "id": "B8ktOwRQLiGX",
        "outputId": "6743f402-43ea-4442-8b74-ffb5f3ce0d61"
      },
      "source": [
        "pip install pmdarima"
      ],
      "execution_count": 1,
      "outputs": [
        {
          "output_type": "stream",
          "text": [
            "Collecting pmdarima\n",
            "\u001b[?25l  Downloading https://files.pythonhosted.org/packages/c9/d7/61af1897449638822f97c8b43ef0c2fce2ec68a6cda9a43ebbbdd12b967c/pmdarima-1.8.0-cp36-cp36m-manylinux1_x86_64.whl (1.5MB)\n",
            "\r\u001b[K     |▎                               | 10kB 21.0MB/s eta 0:00:01\r\u001b[K     |▌                               | 20kB 14.7MB/s eta 0:00:01\r\u001b[K     |▊                               | 30kB 12.3MB/s eta 0:00:01\r\u001b[K     |█                               | 40kB 11.8MB/s eta 0:00:01\r\u001b[K     |█▏                              | 51kB 7.8MB/s eta 0:00:01\r\u001b[K     |█▍                              | 61kB 7.2MB/s eta 0:00:01\r\u001b[K     |█▋                              | 71kB 8.2MB/s eta 0:00:01\r\u001b[K     |█▉                              | 81kB 9.0MB/s eta 0:00:01\r\u001b[K     |██                              | 92kB 8.4MB/s eta 0:00:01\r\u001b[K     |██▎                             | 102kB 8.6MB/s eta 0:00:01\r\u001b[K     |██▌                             | 112kB 8.6MB/s eta 0:00:01\r\u001b[K     |██▊                             | 122kB 8.6MB/s eta 0:00:01\r\u001b[K     |███                             | 133kB 8.6MB/s eta 0:00:01\r\u001b[K     |███▏                            | 143kB 8.6MB/s eta 0:00:01\r\u001b[K     |███▍                            | 153kB 8.6MB/s eta 0:00:01\r\u001b[K     |███▋                            | 163kB 8.6MB/s eta 0:00:01\r\u001b[K     |███▉                            | 174kB 8.6MB/s eta 0:00:01\r\u001b[K     |████                            | 184kB 8.6MB/s eta 0:00:01\r\u001b[K     |████▎                           | 194kB 8.6MB/s eta 0:00:01\r\u001b[K     |████▌                           | 204kB 8.6MB/s eta 0:00:01\r\u001b[K     |████▊                           | 215kB 8.6MB/s eta 0:00:01\r\u001b[K     |█████                           | 225kB 8.6MB/s eta 0:00:01\r\u001b[K     |█████▏                          | 235kB 8.6MB/s eta 0:00:01\r\u001b[K     |█████▍                          | 245kB 8.6MB/s eta 0:00:01\r\u001b[K     |█████▋                          | 256kB 8.6MB/s eta 0:00:01\r\u001b[K     |█████▉                          | 266kB 8.6MB/s eta 0:00:01\r\u001b[K     |██████                          | 276kB 8.6MB/s eta 0:00:01\r\u001b[K     |██████▎                         | 286kB 8.6MB/s eta 0:00:01\r\u001b[K     |██████▌                         | 296kB 8.6MB/s eta 0:00:01\r\u001b[K     |██████▊                         | 307kB 8.6MB/s eta 0:00:01\r\u001b[K     |███████                         | 317kB 8.6MB/s eta 0:00:01\r\u001b[K     |███████▏                        | 327kB 8.6MB/s eta 0:00:01\r\u001b[K     |███████▍                        | 337kB 8.6MB/s eta 0:00:01\r\u001b[K     |███████▋                        | 348kB 8.6MB/s eta 0:00:01\r\u001b[K     |███████▉                        | 358kB 8.6MB/s eta 0:00:01\r\u001b[K     |████████                        | 368kB 8.6MB/s eta 0:00:01\r\u001b[K     |████████▎                       | 378kB 8.6MB/s eta 0:00:01\r\u001b[K     |████████▌                       | 389kB 8.6MB/s eta 0:00:01\r\u001b[K     |████████▊                       | 399kB 8.6MB/s eta 0:00:01\r\u001b[K     |█████████                       | 409kB 8.6MB/s eta 0:00:01\r\u001b[K     |█████████▏                      | 419kB 8.6MB/s eta 0:00:01\r\u001b[K     |█████████▍                      | 430kB 8.6MB/s eta 0:00:01\r\u001b[K     |█████████▋                      | 440kB 8.6MB/s eta 0:00:01\r\u001b[K     |█████████▉                      | 450kB 8.6MB/s eta 0:00:01\r\u001b[K     |██████████                      | 460kB 8.6MB/s eta 0:00:01\r\u001b[K     |██████████▎                     | 471kB 8.6MB/s eta 0:00:01\r\u001b[K     |██████████▌                     | 481kB 8.6MB/s eta 0:00:01\r\u001b[K     |██████████▊                     | 491kB 8.6MB/s eta 0:00:01\r\u001b[K     |███████████                     | 501kB 8.6MB/s eta 0:00:01\r\u001b[K     |███████████▏                    | 512kB 8.6MB/s eta 0:00:01\r\u001b[K     |███████████▍                    | 522kB 8.6MB/s eta 0:00:01\r\u001b[K     |███████████▋                    | 532kB 8.6MB/s eta 0:00:01\r\u001b[K     |███████████▉                    | 542kB 8.6MB/s eta 0:00:01\r\u001b[K     |████████████                    | 552kB 8.6MB/s eta 0:00:01\r\u001b[K     |████████████▎                   | 563kB 8.6MB/s eta 0:00:01\r\u001b[K     |████████████▌                   | 573kB 8.6MB/s eta 0:00:01\r\u001b[K     |████████████▊                   | 583kB 8.6MB/s eta 0:00:01\r\u001b[K     |█████████████                   | 593kB 8.6MB/s eta 0:00:01\r\u001b[K     |█████████████▏                  | 604kB 8.6MB/s eta 0:00:01\r\u001b[K     |█████████████▍                  | 614kB 8.6MB/s eta 0:00:01\r\u001b[K     |█████████████▋                  | 624kB 8.6MB/s eta 0:00:01\r\u001b[K     |█████████████▉                  | 634kB 8.6MB/s eta 0:00:01\r\u001b[K     |██████████████                  | 645kB 8.6MB/s eta 0:00:01\r\u001b[K     |██████████████▎                 | 655kB 8.6MB/s eta 0:00:01\r\u001b[K     |██████████████▌                 | 665kB 8.6MB/s eta 0:00:01\r\u001b[K     |██████████████▊                 | 675kB 8.6MB/s eta 0:00:01\r\u001b[K     |███████████████                 | 686kB 8.6MB/s eta 0:00:01\r\u001b[K     |███████████████▏                | 696kB 8.6MB/s eta 0:00:01\r\u001b[K     |███████████████▍                | 706kB 8.6MB/s eta 0:00:01\r\u001b[K     |███████████████▋                | 716kB 8.6MB/s eta 0:00:01\r\u001b[K     |███████████████▉                | 727kB 8.6MB/s eta 0:00:01\r\u001b[K     |████████████████                | 737kB 8.6MB/s eta 0:00:01\r\u001b[K     |████████████████▎               | 747kB 8.6MB/s eta 0:00:01\r\u001b[K     |████████████████▌               | 757kB 8.6MB/s eta 0:00:01\r\u001b[K     |████████████████▊               | 768kB 8.6MB/s eta 0:00:01\r\u001b[K     |█████████████████               | 778kB 8.6MB/s eta 0:00:01\r\u001b[K     |█████████████████▏              | 788kB 8.6MB/s eta 0:00:01\r\u001b[K     |█████████████████▍              | 798kB 8.6MB/s eta 0:00:01\r\u001b[K     |█████████████████▋              | 808kB 8.6MB/s eta 0:00:01\r\u001b[K     |█████████████████▉              | 819kB 8.6MB/s eta 0:00:01\r\u001b[K     |██████████████████▏             | 829kB 8.6MB/s eta 0:00:01\r\u001b[K     |██████████████████▍             | 839kB 8.6MB/s eta 0:00:01\r\u001b[K     |██████████████████▋             | 849kB 8.6MB/s eta 0:00:01\r\u001b[K     |██████████████████▉             | 860kB 8.6MB/s eta 0:00:01\r\u001b[K     |███████████████████             | 870kB 8.6MB/s eta 0:00:01\r\u001b[K     |███████████████████▎            | 880kB 8.6MB/s eta 0:00:01\r\u001b[K     |███████████████████▌            | 890kB 8.6MB/s eta 0:00:01\r\u001b[K     |███████████████████▊            | 901kB 8.6MB/s eta 0:00:01\r\u001b[K     |████████████████████            | 911kB 8.6MB/s eta 0:00:01\r\u001b[K     |████████████████████▏           | 921kB 8.6MB/s eta 0:00:01\r\u001b[K     |████████████████████▍           | 931kB 8.6MB/s eta 0:00:01\r\u001b[K     |████████████████████▋           | 942kB 8.6MB/s eta 0:00:01\r\u001b[K     |████████████████████▉           | 952kB 8.6MB/s eta 0:00:01\r\u001b[K     |█████████████████████           | 962kB 8.6MB/s eta 0:00:01\r\u001b[K     |█████████████████████▎          | 972kB 8.6MB/s eta 0:00:01\r\u001b[K     |█████████████████████▌          | 983kB 8.6MB/s eta 0:00:01\r\u001b[K     |█████████████████████▊          | 993kB 8.6MB/s eta 0:00:01\r\u001b[K     |██████████████████████          | 1.0MB 8.6MB/s eta 0:00:01\r\u001b[K     |██████████████████████▏         | 1.0MB 8.6MB/s eta 0:00:01\r\u001b[K     |██████████████████████▍         | 1.0MB 8.6MB/s eta 0:00:01\r\u001b[K     |██████████████████████▋         | 1.0MB 8.6MB/s eta 0:00:01\r\u001b[K     |██████████████████████▉         | 1.0MB 8.6MB/s eta 0:00:01\r\u001b[K     |███████████████████████         | 1.1MB 8.6MB/s eta 0:00:01\r\u001b[K     |███████████████████████▎        | 1.1MB 8.6MB/s eta 0:00:01\r\u001b[K     |███████████████████████▌        | 1.1MB 8.6MB/s eta 0:00:01\r\u001b[K     |███████████████████████▊        | 1.1MB 8.6MB/s eta 0:00:01\r\u001b[K     |████████████████████████        | 1.1MB 8.6MB/s eta 0:00:01\r\u001b[K     |████████████████████████▏       | 1.1MB 8.6MB/s eta 0:00:01\r\u001b[K     |████████████████████████▍       | 1.1MB 8.6MB/s eta 0:00:01\r\u001b[K     |████████████████████████▋       | 1.1MB 8.6MB/s eta 0:00:01\r\u001b[K     |████████████████████████▉       | 1.1MB 8.6MB/s eta 0:00:01\r\u001b[K     |█████████████████████████       | 1.1MB 8.6MB/s eta 0:00:01\r\u001b[K     |█████████████████████████▎      | 1.2MB 8.6MB/s eta 0:00:01\r\u001b[K     |█████████████████████████▌      | 1.2MB 8.6MB/s eta 0:00:01\r\u001b[K     |█████████████████████████▊      | 1.2MB 8.6MB/s eta 0:00:01\r\u001b[K     |██████████████████████████      | 1.2MB 8.6MB/s eta 0:00:01\r\u001b[K     |██████████████████████████▏     | 1.2MB 8.6MB/s eta 0:00:01\r\u001b[K     |██████████████████████████▍     | 1.2MB 8.6MB/s eta 0:00:01\r\u001b[K     |██████████████████████████▋     | 1.2MB 8.6MB/s eta 0:00:01\r\u001b[K     |██████████████████████████▉     | 1.2MB 8.6MB/s eta 0:00:01\r\u001b[K     |███████████████████████████     | 1.2MB 8.6MB/s eta 0:00:01\r\u001b[K     |███████████████████████████▎    | 1.2MB 8.6MB/s eta 0:00:01\r\u001b[K     |███████████████████████████▌    | 1.3MB 8.6MB/s eta 0:00:01\r\u001b[K     |███████████████████████████▊    | 1.3MB 8.6MB/s eta 0:00:01\r\u001b[K     |████████████████████████████    | 1.3MB 8.6MB/s eta 0:00:01\r\u001b[K     |████████████████████████████▏   | 1.3MB 8.6MB/s eta 0:00:01\r\u001b[K     |████████████████████████████▍   | 1.3MB 8.6MB/s eta 0:00:01\r\u001b[K     |████████████████████████████▋   | 1.3MB 8.6MB/s eta 0:00:01\r\u001b[K     |████████████████████████████▉   | 1.3MB 8.6MB/s eta 0:00:01\r\u001b[K     |█████████████████████████████   | 1.3MB 8.6MB/s eta 0:00:01\r\u001b[K     |█████████████████████████████▎  | 1.3MB 8.6MB/s eta 0:00:01\r\u001b[K     |█████████████████████████████▌  | 1.4MB 8.6MB/s eta 0:00:01\r\u001b[K     |█████████████████████████████▊  | 1.4MB 8.6MB/s eta 0:00:01\r\u001b[K     |██████████████████████████████  | 1.4MB 8.6MB/s eta 0:00:01\r\u001b[K     |██████████████████████████████▏ | 1.4MB 8.6MB/s eta 0:00:01\r\u001b[K     |██████████████████████████████▍ | 1.4MB 8.6MB/s eta 0:00:01\r\u001b[K     |██████████████████████████████▋ | 1.4MB 8.6MB/s eta 0:00:01\r\u001b[K     |██████████████████████████████▉ | 1.4MB 8.6MB/s eta 0:00:01\r\u001b[K     |███████████████████████████████ | 1.4MB 8.6MB/s eta 0:00:01\r\u001b[K     |███████████████████████████████▎| 1.4MB 8.6MB/s eta 0:00:01\r\u001b[K     |███████████████████████████████▌| 1.4MB 8.6MB/s eta 0:00:01\r\u001b[K     |███████████████████████████████▊| 1.5MB 8.6MB/s eta 0:00:01\r\u001b[K     |████████████████████████████████| 1.5MB 8.6MB/s eta 0:00:01\r\u001b[K     |████████████████████████████████| 1.5MB 8.6MB/s \n",
            "\u001b[?25hRequirement already satisfied: numpy>=1.17.3 in /usr/local/lib/python3.6/dist-packages (from pmdarima) (1.19.5)\n",
            "Requirement already satisfied: urllib3 in /usr/local/lib/python3.6/dist-packages (from pmdarima) (1.24.3)\n",
            "Requirement already satisfied: pandas>=0.19 in /usr/local/lib/python3.6/dist-packages (from pmdarima) (1.1.5)\n",
            "Requirement already satisfied: setuptools!=50.0.0,>=38.6.0 in /usr/local/lib/python3.6/dist-packages (from pmdarima) (53.0.0)\n",
            "Requirement already satisfied: joblib>=0.11 in /usr/local/lib/python3.6/dist-packages (from pmdarima) (1.0.0)\n",
            "Collecting statsmodels!=0.12.0,>=0.11\n",
            "\u001b[?25l  Downloading https://files.pythonhosted.org/packages/0d/7b/c17815648dc31396af865b9c6627cc3f95705954e30f61106795361c39ee/statsmodels-0.12.2-cp36-cp36m-manylinux1_x86_64.whl (9.5MB)\n",
            "\u001b[K     |████████████████████████████████| 9.5MB 22.7MB/s \n",
            "\u001b[?25hRequirement already satisfied: scikit-learn>=0.22 in /usr/local/lib/python3.6/dist-packages (from pmdarima) (0.22.2.post1)\n",
            "Collecting Cython<0.29.18,>=0.29\n",
            "\u001b[?25l  Downloading https://files.pythonhosted.org/packages/e7/d7/510ddef0248f3e1e91f9cc7e31c0f35f8954d0af92c5c3fd4c853e859ebe/Cython-0.29.17-cp36-cp36m-manylinux1_x86_64.whl (2.1MB)\n",
            "\u001b[K     |████████████████████████████████| 2.1MB 59.2MB/s \n",
            "\u001b[?25hRequirement already satisfied: scipy>=1.3.2 in /usr/local/lib/python3.6/dist-packages (from pmdarima) (1.4.1)\n",
            "Requirement already satisfied: pytz>=2017.2 in /usr/local/lib/python3.6/dist-packages (from pandas>=0.19->pmdarima) (2018.9)\n",
            "Requirement already satisfied: python-dateutil>=2.7.3 in /usr/local/lib/python3.6/dist-packages (from pandas>=0.19->pmdarima) (2.8.1)\n",
            "Requirement already satisfied: patsy>=0.5 in /usr/local/lib/python3.6/dist-packages (from statsmodels!=0.12.0,>=0.11->pmdarima) (0.5.1)\n",
            "Requirement already satisfied: six>=1.5 in /usr/local/lib/python3.6/dist-packages (from python-dateutil>=2.7.3->pandas>=0.19->pmdarima) (1.15.0)\n",
            "Installing collected packages: statsmodels, Cython, pmdarima\n",
            "  Found existing installation: statsmodels 0.10.2\n",
            "    Uninstalling statsmodels-0.10.2:\n",
            "      Successfully uninstalled statsmodels-0.10.2\n",
            "  Found existing installation: Cython 0.29.21\n",
            "    Uninstalling Cython-0.29.21:\n",
            "      Successfully uninstalled Cython-0.29.21\n",
            "Successfully installed Cython-0.29.17 pmdarima-1.8.0 statsmodels-0.12.2\n"
          ],
          "name": "stdout"
        }
      ]
    },
    {
      "cell_type": "code",
      "metadata": {
        "id": "IzFYu6oULsee"
      },
      "source": [
        "import pmdarima as pm\r\n",
        "from pmdarima.arima import auto_arima\r\n",
        "import pandas as pd\r\n",
        "import numpy as np\r\n",
        "from matplotlib import pyplot as plt\r\n",
        "from sklearn.metrics import mean_squared_error"
      ],
      "execution_count": 13,
      "outputs": []
    },
    {
      "cell_type": "code",
      "metadata": {
        "id": "8VSNka2wL4tc"
      },
      "source": [
        "df = pd.read_csv(\"https://raw.githubusercontent.com/mmbs1989/DSWP-Aluno/main/dadostccdata.csv\")\r\n",
        "dfa = pd.read_csv(\"https://raw.githubusercontent.com/mmbs1989/DSWP-Aluno/main/dadostccdolar.csv\")\r\n",
        "df = df.drop(df.index[314:])\r\n",
        "dfa = dfa.drop(dfa.index[314:])\r\n",
        "df['dol'] = dfa['dol']\r\n",
        "df['dol'] = pd.to_numeric(df['dol'])\r\n",
        "df.columns = ['ds', 'y']\r\n",
        "df['ds'] = pd.to_datetime(df['ds'])\r\n",
        "df.set_index('ds', inplace=True)"
      ],
      "execution_count": 59,
      "outputs": []
    },
    {
      "cell_type": "code",
      "metadata": {
        "colab": {
          "base_uri": "https://localhost:8080/",
          "height": 296
        },
        "id": "Vq6hvpsHMIEe",
        "outputId": "95d62602-09d6-4527-bb5d-66b8ba6b55e0"
      },
      "source": [
        "df.plot()"
      ],
      "execution_count": 60,
      "outputs": [
        {
          "output_type": "execute_result",
          "data": {
            "text/plain": [
              "<matplotlib.axes._subplots.AxesSubplot at 0x7f829b29b470>"
            ]
          },
          "metadata": {
            "tags": []
          },
          "execution_count": 60
        },
        {
          "output_type": "display_data",
          "data": {
            "image/png": "[encoded data removed]",
            "text/plain": [
              "<Figure size 432x288 with 1 Axes>"
            ]
          },
          "metadata": {
            "tags": [],
            "needs_background": "light"
          }
        }
      ]
    },
    {
      "cell_type": "code",
      "metadata": {
        "colab": {
          "base_uri": "https://localhost:8080/"
        },
        "id": "WV2U2uYOMTr_",
        "outputId": "0adbcd23-f84e-4a9d-bde5-29c96a478092"
      },
      "source": [
        "from pmdarima.arima import ADFTest\r\n",
        "adf_test = ADFTest(alpha = 0.05)\r\n",
        "adf_test.should_diff(df)"
      ],
      "execution_count": 61,
      "outputs": [
        {
          "output_type": "execute_result",
          "data": {
            "text/plain": [
              "(0.6911517021582294, True)"
            ]
          },
          "metadata": {
            "tags": []
          },
          "execution_count": 61
        }
      ]
    },
    {
      "cell_type": "code",
      "metadata": {
        "colab": {
          "base_uri": "https://localhost:8080/",
          "height": 282
        },
        "id": "YHTvwG6FNHqU",
        "outputId": "490dfd7d-8203-49b1-ba55-a32433d423f9"
      },
      "source": [
        "train = df.iloc[:-12].copy()  \r\n",
        "test =  df.iloc[-12:].copy() \r\n",
        "plt.plot(train) \r\n",
        "plt.plot(test)"
      ],
      "execution_count": 62,
      "outputs": [
        {
          "output_type": "execute_result",
          "data": {
            "text/plain": [
              "[<matplotlib.lines.Line2D at 0x7f829b337d68>]"
            ]
          },
          "metadata": {
            "tags": []
          },
          "execution_count": 62
        },
        {
          "output_type": "display_data",
          "data": {
            "image/png": "[encoded data removed]",
            "text/plain": [
              "<Figure size 432x288 with 1 Axes>"
            ]
          },
          "metadata": {
            "tags": [],
            "needs_background": "light"
          }
        }
      ]
    },
    {
      "cell_type": "code",
      "metadata": {
        "colab": {
          "base_uri": "https://localhost:8080/"
        },
        "id": "X5t0l6JcNicc",
        "outputId": "513010ad-71e1-4911-d71c-bb564c9264d6"
      },
      "source": [
        "model = pm.auto_arima(train, start_p=0, d=1, start_q=0, max_p=5, max_q=5, max_d=5, start_P=0, D=1, start_Q=0, max_P=5, \r\n",
        "                      max_Q=5, max_D=5, seasonal= True, m= 12, error_action = 'warn', trace = True, supress_warnings=True, stepwise=True, \r\n",
        "                      random_state = 20, n_fits = 50)"
      ],
      "execution_count": 63,
      "outputs": [
        {
          "output_type": "stream",
          "text": [
            "Performing stepwise search to minimize aic\n",
            " ARIMA(0,1,0)(0,1,0)[12]             : AIC=-143.669, Time=0.03 sec\n",
            " ARIMA(1,1,0)(1,1,0)[12]             : AIC=-218.944, Time=0.31 sec\n",
            " ARIMA(0,1,1)(0,1,1)[12]             : AIC=inf, Time=1.08 sec\n",
            " ARIMA(1,1,0)(0,1,0)[12]             : AIC=-141.725, Time=0.04 sec\n",
            " ARIMA(1,1,0)(2,1,0)[12]             : AIC=-250.325, Time=0.82 sec\n",
            " ARIMA(1,1,0)(3,1,0)[12]             : AIC=-264.402, Time=1.69 sec\n",
            " ARIMA(1,1,0)(4,1,0)[12]             : AIC=-268.501, Time=3.31 sec\n",
            " ARIMA(1,1,0)(5,1,0)[12]             : AIC=-276.733, Time=5.90 sec\n",
            " ARIMA(1,1,0)(5,1,1)[12]             : AIC=inf, Time=17.51 sec\n",
            " ARIMA(1,1,0)(4,1,1)[12]             : AIC=inf, Time=14.18 sec\n",
            " ARIMA(0,1,0)(5,1,0)[12]             : AIC=-277.576, Time=2.72 sec\n",
            " ARIMA(0,1,0)(4,1,0)[12]             : AIC=-270.022, Time=2.39 sec\n",
            " ARIMA(0,1,0)(5,1,1)[12]             : AIC=inf, Time=15.51 sec\n",
            " ARIMA(0,1,0)(4,1,1)[12]             : AIC=inf, Time=11.12 sec\n",
            " ARIMA(0,1,1)(5,1,0)[12]             : AIC=-276.490, Time=6.03 sec\n",
            " ARIMA(1,1,1)(5,1,0)[12]             : AIC=-276.446, Time=9.54 sec\n",
            " ARIMA(0,1,0)(5,1,0)[12] intercept   : AIC=-275.593, Time=11.55 sec\n",
            "\n",
            "Best model:  ARIMA(0,1,0)(5,1,0)[12]          \n",
            "Total fit time: 103.758 seconds\n"
          ],
          "name": "stdout"
        }
      ]
    },
    {
      "cell_type": "code",
      "metadata": {
        "colab": {
          "base_uri": "https://localhost:8080/",
          "height": 486
        },
        "id": "wLOL2AygPwpk",
        "outputId": "0589e622-2150-49d8-e122-ec4877be2e08"
      },
      "source": [
        "model.summary()"
      ],
      "execution_count": 64,
      "outputs": [
        {
          "output_type": "execute_result",
          "data": {
            "text/html": [
              "<table class=\"simpletable\">\n",
              "<caption>SARIMAX Results</caption>\n",
              "<tr>\n",
              "  <th>Dep. Variable:</th>                  <td>y</td>               <th>  No. Observations:  </th>    <td>302</td>  \n",
              "</tr>\n",
              "<tr>\n",
              "  <th>Model:</th>           <td>SARIMAX(0, 1, 0)x(5, 1, 0, 12)</td> <th>  Log Likelihood     </th>  <td>144.788</td>\n",
              "</tr>\n",
              "<tr>\n",
              "  <th>Date:</th>                   <td>Tue, 02 Feb 2021</td>        <th>  AIC                </th> <td>-277.576</td>\n",
              "</tr>\n",
              "<tr>\n",
              "  <th>Time:</th>                       <td>19:21:01</td>            <th>  BIC                </th> <td>-255.577</td>\n",
              "</tr>\n",
              "<tr>\n",
              "  <th>Sample:</th>                         <td>0</td>               <th>  HQIC               </th> <td>-268.761</td>\n",
              "</tr>\n",
              "<tr>\n",
              "  <th></th>                             <td> - 302</td>             <th>                     </th>     <td> </td>   \n",
              "</tr>\n",
              "<tr>\n",
              "  <th>Covariance Type:</th>               <td>opg</td>              <th>                     </th>     <td> </td>   \n",
              "</tr>\n",
              "</table>\n",
              "<table class=\"simpletable\">\n",
              "<tr>\n",
              "      <td></td>        <th>coef</th>     <th>std err</th>      <th>z</th>      <th>P>|z|</th>  <th>[0.025</th>    <th>0.975]</th>  \n",
              "</tr>\n",
              "<tr>\n",
              "  <th>ar.S.L12</th> <td>   -0.8305</td> <td>    0.053</td> <td>  -15.597</td> <td> 0.000</td> <td>   -0.935</td> <td>   -0.726</td>\n",
              "</tr>\n",
              "<tr>\n",
              "  <th>ar.S.L24</th> <td>   -0.6726</td> <td>    0.076</td> <td>   -8.858</td> <td> 0.000</td> <td>   -0.821</td> <td>   -0.524</td>\n",
              "</tr>\n",
              "<tr>\n",
              "  <th>ar.S.L36</th> <td>   -0.4952</td> <td>    0.084</td> <td>   -5.910</td> <td> 0.000</td> <td>   -0.659</td> <td>   -0.331</td>\n",
              "</tr>\n",
              "<tr>\n",
              "  <th>ar.S.L48</th> <td>   -0.3237</td> <td>    0.073</td> <td>   -4.429</td> <td> 0.000</td> <td>   -0.467</td> <td>   -0.180</td>\n",
              "</tr>\n",
              "<tr>\n",
              "  <th>ar.S.L60</th> <td>   -0.2047</td> <td>    0.056</td> <td>   -3.660</td> <td> 0.000</td> <td>   -0.314</td> <td>   -0.095</td>\n",
              "</tr>\n",
              "<tr>\n",
              "  <th>sigma2</th>   <td>    0.0206</td> <td>    0.001</td> <td>   24.979</td> <td> 0.000</td> <td>    0.019</td> <td>    0.022</td>\n",
              "</tr>\n",
              "</table>\n",
              "<table class=\"simpletable\">\n",
              "<tr>\n",
              "  <th>Ljung-Box (L1) (Q):</th>     <td>1.19</td> <th>  Jarque-Bera (JB):  </th> <td>739.98</td>\n",
              "</tr>\n",
              "<tr>\n",
              "  <th>Prob(Q):</th>                <td>0.27</td> <th>  Prob(JB):          </th>  <td>0.00</td> \n",
              "</tr>\n",
              "<tr>\n",
              "  <th>Heteroskedasticity (H):</th> <td>0.73</td> <th>  Skew:              </th>  <td>1.01</td> \n",
              "</tr>\n",
              "<tr>\n",
              "  <th>Prob(H) (two-sided):</th>    <td>0.12</td> <th>  Kurtosis:          </th>  <td>10.58</td>\n",
              "</tr>\n",
              "</table><br/><br/>Warnings:<br/>[1] Covariance matrix calculated using the outer product of gradients (complex-step)."
            ],
            "text/plain": [
              "<class 'statsmodels.iolib.summary.Summary'>\n",
              "\"\"\"\n",
              "                                     SARIMAX Results                                      \n",
              "==========================================================================================\n",
              "Dep. Variable:                                  y   No. Observations:                  302\n",
              "Model:             SARIMAX(0, 1, 0)x(5, 1, 0, 12)   Log Likelihood                 144.788\n",
              "Date:                            Tue, 02 Feb 2021   AIC                           -277.576\n",
              "Time:                                    19:21:01   BIC                           -255.577\n",
              "Sample:                                         0   HQIC                          -268.761\n",
              "                                            - 302                                         \n",
              "Covariance Type:                              opg                                         \n",
              "==============================================================================\n",
              "                 coef    std err          z      P>|z|      [0.025      0.975]\n",
              "------------------------------------------------------------------------------\n",
              "ar.S.L12      -0.8305      0.053    -15.597      0.000      -0.935      -0.726\n",
              "ar.S.L24      -0.6726      0.076     -8.858      0.000      -0.821      -0.524\n",
              "ar.S.L36      -0.4952      0.084     -5.910      0.000      -0.659      -0.331\n",
              "ar.S.L48      -0.3237      0.073     -4.429      0.000      -0.467      -0.180\n",
              "ar.S.L60      -0.2047      0.056     -3.660      0.000      -0.314      -0.095\n",
              "sigma2         0.0206      0.001     24.979      0.000       0.019       0.022\n",
              "===================================================================================\n",
              "Ljung-Box (L1) (Q):                   1.19   Jarque-Bera (JB):               739.98\n",
              "Prob(Q):                              0.27   Prob(JB):                         0.00\n",
              "Heteroskedasticity (H):               0.73   Skew:                             1.01\n",
              "Prob(H) (two-sided):                  0.12   Kurtosis:                        10.58\n",
              "===================================================================================\n",
              "\n",
              "Warnings:\n",
              "[1] Covariance matrix calculated using the outer product of gradients (complex-step).\n",
              "\"\"\""
            ]
          },
          "metadata": {
            "tags": []
          },
          "execution_count": 64
        }
      ]
    },
    {
      "cell_type": "code",
      "metadata": {
        "colab": {
          "base_uri": "https://localhost:8080/",
          "height": 452
        },
        "id": "dpz6xyRMP_9E",
        "outputId": "1951ee39-e3cf-4150-ee34-f122fa884210"
      },
      "source": [
        "prediction = pd.DataFrame(model.predict(n_periods = 12), index = test.index)\r\n",
        "prediction"
      ],
      "execution_count": 65,
      "outputs": [
        {
          "output_type": "execute_result",
          "data": {
            "text/html": [
              "<div>\n",
              "<style scoped>\n",
              "    .dataframe tbody tr th:only-of-type {\n",
              "        vertical-align: middle;\n",
              "    }\n",
              "\n",
              "    .dataframe tbody tr th {\n",
              "        vertical-align: top;\n",
              "    }\n",
              "\n",
              "    .dataframe thead th {\n",
              "        text-align: right;\n",
              "    }\n",
              "</style>\n",
              "<table border=\"1\" class=\"dataframe\">\n",
              "  <thead>\n",
              "    <tr style=\"text-align: right;\">\n",
              "      <th></th>\n",
              "      <th>0</th>\n",
              "    </tr>\n",
              "    <tr>\n",
              "      <th>ds</th>\n",
              "      <th></th>\n",
              "    </tr>\n",
              "  </thead>\n",
              "  <tbody>\n",
              "    <tr>\n",
              "      <th>2019-03-01</th>\n",
              "      <td>3.750555</td>\n",
              "    </tr>\n",
              "    <tr>\n",
              "      <th>2019-04-01</th>\n",
              "      <td>3.724930</td>\n",
              "    </tr>\n",
              "    <tr>\n",
              "      <th>2019-05-01</th>\n",
              "      <td>3.858676</td>\n",
              "    </tr>\n",
              "    <tr>\n",
              "      <th>2019-06-01</th>\n",
              "      <td>3.828856</td>\n",
              "    </tr>\n",
              "    <tr>\n",
              "      <th>2019-07-01</th>\n",
              "      <td>3.855760</td>\n",
              "    </tr>\n",
              "    <tr>\n",
              "      <th>2019-08-01</th>\n",
              "      <td>3.959296</td>\n",
              "    </tr>\n",
              "    <tr>\n",
              "      <th>2019-09-01</th>\n",
              "      <td>4.012586</td>\n",
              "    </tr>\n",
              "    <tr>\n",
              "      <th>2019-10-01</th>\n",
              "      <td>3.955239</td>\n",
              "    </tr>\n",
              "    <tr>\n",
              "      <th>2019-11-01</th>\n",
              "      <td>4.046394</td>\n",
              "    </tr>\n",
              "    <tr>\n",
              "      <th>2019-12-01</th>\n",
              "      <td>4.064125</td>\n",
              "    </tr>\n",
              "    <tr>\n",
              "      <th>2020-01-01</th>\n",
              "      <td>4.005653</td>\n",
              "    </tr>\n",
              "    <tr>\n",
              "      <th>2020-02-01</th>\n",
              "      <td>4.032419</td>\n",
              "    </tr>\n",
              "  </tbody>\n",
              "</table>\n",
              "</div>"
            ],
            "text/plain": [
              "                   0\n",
              "ds                  \n",
              "2019-03-01  3.750555\n",
              "2019-04-01  3.724930\n",
              "2019-05-01  3.858676\n",
              "2019-06-01  3.828856\n",
              "2019-07-01  3.855760\n",
              "2019-08-01  3.959296\n",
              "2019-09-01  4.012586\n",
              "2019-10-01  3.955239\n",
              "2019-11-01  4.046394\n",
              "2019-12-01  4.064125\n",
              "2020-01-01  4.005653\n",
              "2020-02-01  4.032419"
            ]
          },
          "metadata": {
            "tags": []
          },
          "execution_count": 65
        }
      ]
    },
    {
      "cell_type": "code",
      "metadata": {
        "colab": {
          "base_uri": "https://localhost:8080/",
          "height": 320
        },
        "id": "Fn5m4dODQ6qM",
        "outputId": "4794497a-e1c6-43e3-bc58-18e37177b582"
      },
      "source": [
        "plt.figure(figsize=(15,5))\r\n",
        "plt.plot(train, label= \"Train\")\r\n",
        "plt.plot(test, label= 'Test')\r\n",
        "plt.plot(prediction, label = 'Previsão')\r\n",
        "plt.show()"
      ],
      "execution_count": 66,
      "outputs": [
        {
          "output_type": "display_data",
          "data": {
            "image/png": "[encoded data removed]",
            "text/plain": [
              "<Figure size 1080x360 with 1 Axes>"
            ]
          },
          "metadata": {
            "tags": [],
            "needs_background": "light"
          }
        }
      ]
    },
    {
      "cell_type": "code",
      "metadata": {
        "colab": {
          "base_uri": "https://localhost:8080/"
        },
        "id": "36_oqpWyRV1N",
        "outputId": "3b96a48a-2ad3-4b4e-b4f9-59475d933d66"
      },
      "source": [
        "from sklearn.metrics import r2_score\r\n",
        "test['0'] = prediction\r\n",
        "r2_score(test['y'], test['0'])"
      ],
      "execution_count": 67,
      "outputs": [
        {
          "output_type": "execute_result",
          "data": {
            "text/plain": [
              "-0.02230636449924983"
            ]
          },
          "metadata": {
            "tags": []
          },
          "execution_count": 67
        }
      ]
    },
    {
      "cell_type": "code",
      "metadata": {
        "colab": {
          "base_uri": "https://localhost:8080/",
          "height": 452
        },
        "id": "RE5Ks7TjExZQ",
        "outputId": "df90712c-f7fd-4a5e-ff25-39dbc671d7cf"
      },
      "source": [
        "test = test.drop(columns=['0'])\r\n",
        "test"
      ],
      "execution_count": 68,
      "outputs": [
        {
          "output_type": "execute_result",
          "data": {
            "text/html": [
              "<div>\n",
              "<style scoped>\n",
              "    .dataframe tbody tr th:only-of-type {\n",
              "        vertical-align: middle;\n",
              "    }\n",
              "\n",
              "    .dataframe tbody tr th {\n",
              "        vertical-align: top;\n",
              "    }\n",
              "\n",
              "    .dataframe thead th {\n",
              "        text-align: right;\n",
              "    }\n",
              "</style>\n",
              "<table border=\"1\" class=\"dataframe\">\n",
              "  <thead>\n",
              "    <tr style=\"text-align: right;\">\n",
              "      <th></th>\n",
              "      <th>y</th>\n",
              "    </tr>\n",
              "    <tr>\n",
              "      <th>ds</th>\n",
              "      <th></th>\n",
              "    </tr>\n",
              "  </thead>\n",
              "  <tbody>\n",
              "    <tr>\n",
              "      <th>2019-03-01</th>\n",
              "      <td>3.9238</td>\n",
              "    </tr>\n",
              "    <tr>\n",
              "      <th>2019-04-01</th>\n",
              "      <td>3.9207</td>\n",
              "    </tr>\n",
              "    <tr>\n",
              "      <th>2019-05-01</th>\n",
              "      <td>3.9218</td>\n",
              "    </tr>\n",
              "    <tr>\n",
              "      <th>2019-06-01</th>\n",
              "      <td>3.8518</td>\n",
              "    </tr>\n",
              "    <tr>\n",
              "      <th>2019-07-01</th>\n",
              "      <td>3.8125</td>\n",
              "    </tr>\n",
              "    <tr>\n",
              "      <th>2019-08-01</th>\n",
              "      <td>4.1445</td>\n",
              "    </tr>\n",
              "    <tr>\n",
              "      <th>2019-09-01</th>\n",
              "      <td>4.1551</td>\n",
              "    </tr>\n",
              "    <tr>\n",
              "      <th>2019-10-01</th>\n",
              "      <td>4.0174</td>\n",
              "    </tr>\n",
              "    <tr>\n",
              "      <th>2019-11-01</th>\n",
              "      <td>4.2364</td>\n",
              "    </tr>\n",
              "    <tr>\n",
              "      <th>2019-12-01</th>\n",
              "      <td>4.0190</td>\n",
              "    </tr>\n",
              "    <tr>\n",
              "      <th>2020-01-01</th>\n",
              "      <td>4.2820</td>\n",
              "    </tr>\n",
              "    <tr>\n",
              "      <th>2020-02-01</th>\n",
              "      <td>4.4733</td>\n",
              "    </tr>\n",
              "  </tbody>\n",
              "</table>\n",
              "</div>"
            ],
            "text/plain": [
              "                 y\n",
              "ds                \n",
              "2019-03-01  3.9238\n",
              "2019-04-01  3.9207\n",
              "2019-05-01  3.9218\n",
              "2019-06-01  3.8518\n",
              "2019-07-01  3.8125\n",
              "2019-08-01  4.1445\n",
              "2019-09-01  4.1551\n",
              "2019-10-01  4.0174\n",
              "2019-11-01  4.2364\n",
              "2019-12-01  4.0190\n",
              "2020-01-01  4.2820\n",
              "2020-02-01  4.4733"
            ]
          },
          "metadata": {
            "tags": []
          },
          "execution_count": 68
        }
      ]
    },
    {
      "cell_type": "code",
      "metadata": {
        "colab": {
          "base_uri": "https://localhost:8080/"
        },
        "id": "snk0Kdeo_4FA",
        "outputId": "5ef7cd3f-c773-479c-e29a-5ba8f840430f"
      },
      "source": [
        "print(f'RMSE= {mean_squared_error(test, prediction)}')"
      ],
      "execution_count": 69,
      "outputs": [
        {
          "output_type": "stream",
          "text": [
            "RMSE= 0.03683994197803564\n"
          ],
          "name": "stdout"
        }
      ]
    }
  ]
}