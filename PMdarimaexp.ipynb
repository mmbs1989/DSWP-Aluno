{
  "nbformat": 4,
  "nbformat_minor": 0,
  "metadata": {
    "colab": {
      "name": "Untitled1.ipynb",
      "provenance": [],
      "authorship_tag": "ABX9TyNz2OBI7Bpuh1eFmqQLEsSb",
      "include_colab_link": true
    },
    "kernelspec": {
      "name": "python3",
      "display_name": "Python 3"
    }
  },
  "cells": [
    {
      "cell_type": "markdown",
      "metadata": {
        "id": "view-in-github",
        "colab_type": "text"
      },
      "source": [
        "<a href=\"https://colab.research.google.com/github/mmbs1989/DSWP-Aluno/blob/main/PMdarimaexp.ipynb\" target=\"_parent\"><img src=\"https://colab.research.google.com/assets/colab-badge.svg\" alt=\"Open In Colab\"/></a>"
      ]
    },
    {
      "cell_type": "code",
      "metadata": {
        "colab": {
          "base_uri": "https://localhost:8080/"
        },
        "id": "B8ktOwRQLiGX",
        "outputId": "6743f402-43ea-4442-8b74-ffb5f3ce0d61"
      },
      "source": [
        "pip install pmdarima"
      ],
      "execution_count": 1,
      "outputs": [
        {
          "output_type": "stream",
          "text": [
            "Collecting pmdarima\n",
            "\u001b[?25l  Downloading https://files.pythonhosted.org/packages/c9/d7/61af1897449638822f97c8b43ef0c2fce2ec68a6cda9a43ebbbdd12b967c/pmdarima-1.8.0-cp36-cp36m-manylinux1_x86_64.whl (1.5MB)\n",
            "\r\u001b[K     |▎                               | 10kB 21.0MB/s eta 0:00:01\r\u001b[K     |▌                               | 20kB 14.7MB/s eta 0:00:01\r\u001b[K     |▊                               | 30kB 12.3MB/s eta 0:00:01\r\u001b[K     |█                               | 40kB 11.8MB/s eta 0:00:01\r\u001b[K     |█▏                              | 51kB 7.8MB/s eta 0:00:01\r\u001b[K     |█▍                              | 61kB 7.2MB/s eta 0:00:01\r\u001b[K     |█▋                              | 71kB 8.2MB/s eta 0:00:01\r\u001b[K     |█▉                              | 81kB 9.0MB/s eta 0:00:01\r\u001b[K     |██                              | 92kB 8.4MB/s eta 0:00:01\r\u001b[K     |██▎                             | 102kB 8.6MB/s eta 0:00:01\r\u001b[K     |██▌                             | 112kB 8.6MB/s eta 0:00:01\r\u001b[K     |██▊                             | 122kB 8.6MB/s eta 0:00:01\r\u001b[K     |███                             | 133kB 8.6MB/s eta 0:00:01\r\u001b[K     |███▏                            | 143kB 8.6MB/s eta 0:00:01\r\u001b[K     |███▍                            | 153kB 8.6MB/s eta 0:00:01\r\u001b[K     |███▋                            | 163kB 8.6MB/s eta 0:00:01\r\u001b[K     |███▉                            | 174kB 8.6MB/s eta 0:00:01\r\u001b[K     |████                            | 184kB 8.6MB/s eta 0:00:01\r\u001b[K     |████▎                           | 194kB 8.6MB/s eta 0:00:01\r\u001b[K     |████▌                           | 204kB 8.6MB/s eta 0:00:01\r\u001b[K     |████▊                           | 215kB 8.6MB/s eta 0:00:01\r\u001b[K     |█████                           | 225kB 8.6MB/s eta 0:00:01\r\u001b[K     |█████▏                          | 235kB 8.6MB/s eta 0:00:01\r\u001b[K     |█████▍                          | 245kB 8.6MB/s eta 0:00:01\r\u001b[K     |█████▋                          | 256kB 8.6MB/s eta 0:00:01\r\u001b[K     |█████▉                          | 266kB 8.6MB/s eta 0:00:01\r\u001b[K     |██████                          | 276kB 8.6MB/s eta 0:00:01\r\u001b[K     |██████▎                         | 286kB 8.6MB/s eta 0:00:01\r\u001b[K     |██████▌                         | 296kB 8.6MB/s eta 0:00:01\r\u001b[K     |██████▊                         | 307kB 8.6MB/s eta 0:00:01\r\u001b[K     |███████                         | 317kB 8.6MB/s eta 0:00:01\r\u001b[K     |███████▏                        | 327kB 8.6MB/s eta 0:00:01\r\u001b[K     |███████▍                        | 337kB 8.6MB/s eta 0:00:01\r\u001b[K     |███████▋                        | 348kB 8.6MB/s eta 0:00:01\r\u001b[K     |███████▉                        | 358kB 8.6MB/s eta 0:00:01\r\u001b[K     |████████                        | 368kB 8.6MB/s eta 0:00:01\r\u001b[K     |████████▎                       | 378kB 8.6MB/s eta 0:00:01\r\u001b[K     |████████▌                       | 389kB 8.6MB/s eta 0:00:01\r\u001b[K     |████████▊                       | 399kB 8.6MB/s eta 0:00:01\r\u001b[K     |█████████                       | 409kB 8.6MB/s eta 0:00:01\r\u001b[K     |█████████▏                      | 419kB 8.6MB/s eta 0:00:01\r\u001b[K     |█████████▍                      | 430kB 8.6MB/s eta 0:00:01\r\u001b[K     |█████████▋                      | 440kB 8.6MB/s eta 0:00:01\r\u001b[K     |█████████▉                      | 450kB 8.6MB/s eta 0:00:01\r\u001b[K     |██████████                      | 460kB 8.6MB/s eta 0:00:01\r\u001b[K     |██████████▎                     | 471kB 8.6MB/s eta 0:00:01\r\u001b[K     |██████████▌                     | 481kB 8.6MB/s eta 0:00:01\r\u001b[K     |██████████▊                     | 491kB 8.6MB/s eta 0:00:01\r\u001b[K     |███████████                     | 501kB 8.6MB/s eta 0:00:01\r\u001b[K     |███████████▏                    | 512kB 8.6MB/s eta 0:00:01\r\u001b[K     |███████████▍                    | 522kB 8.6MB/s eta 0:00:01\r\u001b[K     |███████████▋                    | 532kB 8.6MB/s eta 0:00:01\r\u001b[K     |███████████▉                    | 542kB 8.6MB/s eta 0:00:01\r\u001b[K     |████████████                    | 552kB 8.6MB/s eta 0:00:01\r\u001b[K     |████████████▎                   | 563kB 8.6MB/s eta 0:00:01\r\u001b[K     |████████████▌                   | 573kB 8.6MB/s eta 0:00:01\r\u001b[K     |████████████▊                   | 583kB 8.6MB/s eta 0:00:01\r\u001b[K     |█████████████                   | 593kB 8.6MB/s eta 0:00:01\r\u001b[K     |█████████████▏                  | 604kB 8.6MB/s eta 0:00:01\r\u001b[K     |█████████████▍                  | 614kB 8.6MB/s eta 0:00:01\r\u001b[K     |█████████████▋                  | 624kB 8.6MB/s eta 0:00:01\r\u001b[K     |█████████████▉                  | 634kB 8.6MB/s eta 0:00:01\r\u001b[K     |██████████████                  | 645kB 8.6MB/s eta 0:00:01\r\u001b[K     |██████████████▎                 | 655kB 8.6MB/s eta 0:00:01\r\u001b[K     |██████████████▌                 | 665kB 8.6MB/s eta 0:00:01\r\u001b[K     |██████████████▊                 | 675kB 8.6MB/s eta 0:00:01\r\u001b[K     |███████████████                 | 686kB 8.6MB/s eta 0:00:01\r\u001b[K     |███████████████▏                | 696kB 8.6MB/s eta 0:00:01\r\u001b[K     |███████████████▍                | 706kB 8.6MB/s eta 0:00:01\r\u001b[K     |███████████████▋                | 716kB 8.6MB/s eta 0:00:01\r\u001b[K     |███████████████▉                | 727kB 8.6MB/s eta 0:00:01\r\u001b[K     |████████████████                | 737kB 8.6MB/s eta 0:00:01\r\u001b[K     |████████████████▎               | 747kB 8.6MB/s eta 0:00:01\r\u001b[K     |████████████████▌               | 757kB 8.6MB/s eta 0:00:01\r\u001b[K     |████████████████▊               | 768kB 8.6MB/s eta 0:00:01\r\u001b[K     |█████████████████               | 778kB 8.6MB/s eta 0:00:01\r\u001b[K     |█████████████████▏              | 788kB 8.6MB/s eta 0:00:01\r\u001b[K     |█████████████████▍              | 798kB 8.6MB/s eta 0:00:01\r\u001b[K     |█████████████████▋              | 808kB 8.6MB/s eta 0:00:01\r\u001b[K     |█████████████████▉              | 819kB 8.6MB/s eta 0:00:01\r\u001b[K     |██████████████████▏             | 829kB 8.6MB/s eta 0:00:01\r\u001b[K     |██████████████████▍             | 839kB 8.6MB/s eta 0:00:01\r\u001b[K     |██████████████████▋             | 849kB 8.6MB/s eta 0:00:01\r\u001b[K     |██████████████████▉             | 860kB 8.6MB/s eta 0:00:01\r\u001b[K     |███████████████████             | 870kB 8.6MB/s eta 0:00:01\r\u001b[K     |███████████████████▎            | 880kB 8.6MB/s eta 0:00:01\r\u001b[K     |███████████████████▌            | 890kB 8.6MB/s eta 0:00:01\r\u001b[K     |███████████████████▊            | 901kB 8.6MB/s eta 0:00:01\r\u001b[K     |████████████████████            | 911kB 8.6MB/s eta 0:00:01\r\u001b[K     |████████████████████▏           | 921kB 8.6MB/s eta 0:00:01\r\u001b[K     |████████████████████▍           | 931kB 8.6MB/s eta 0:00:01\r\u001b[K     |████████████████████▋           | 942kB 8.6MB/s eta 0:00:01\r\u001b[K     |████████████████████▉           | 952kB 8.6MB/s eta 0:00:01\r\u001b[K     |█████████████████████           | 962kB 8.6MB/s eta 0:00:01\r\u001b[K     |█████████████████████▎          | 972kB 8.6MB/s eta 0:00:01\r\u001b[K     |█████████████████████▌          | 983kB 8.6MB/s eta 0:00:01\r\u001b[K     |█████████████████████▊          | 993kB 8.6MB/s eta 0:00:01\r\u001b[K     |██████████████████████          | 1.0MB 8.6MB/s eta 0:00:01\r\u001b[K     |██████████████████████▏         | 1.0MB 8.6MB/s eta 0:00:01\r\u001b[K     |██████████████████████▍         | 1.0MB 8.6MB/s eta 0:00:01\r\u001b[K     |██████████████████████▋         | 1.0MB 8.6MB/s eta 0:00:01\r\u001b[K     |██████████████████████▉         | 1.0MB 8.6MB/s eta 0:00:01\r\u001b[K     |███████████████████████         | 1.1MB 8.6MB/s eta 0:00:01\r\u001b[K     |███████████████████████▎        | 1.1MB 8.6MB/s eta 0:00:01\r\u001b[K     |███████████████████████▌        | 1.1MB 8.6MB/s eta 0:00:01\r\u001b[K     |███████████████████████▊        | 1.1MB 8.6MB/s eta 0:00:01\r\u001b[K     |████████████████████████        | 1.1MB 8.6MB/s eta 0:00:01\r\u001b[K     |████████████████████████▏       | 1.1MB 8.6MB/s eta 0:00:01\r\u001b[K     |████████████████████████▍       | 1.1MB 8.6MB/s eta 0:00:01\r\u001b[K     |████████████████████████▋       | 1.1MB 8.6MB/s eta 0:00:01\r\u001b[K     |████████████████████████▉       | 1.1MB 8.6MB/s eta 0:00:01\r\u001b[K     |█████████████████████████       | 1.1MB 8.6MB/s eta 0:00:01\r\u001b[K     |█████████████████████████▎      | 1.2MB 8.6MB/s eta 0:00:01\r\u001b[K     |█████████████████████████▌      | 1.2MB 8.6MB/s eta 0:00:01\r\u001b[K     |█████████████████████████▊      | 1.2MB 8.6MB/s eta 0:00:01\r\u001b[K     |██████████████████████████      | 1.2MB 8.6MB/s eta 0:00:01\r\u001b[K     |██████████████████████████▏     | 1.2MB 8.6MB/s eta 0:00:01\r\u001b[K     |██████████████████████████▍     | 1.2MB 8.6MB/s eta 0:00:01\r\u001b[K     |██████████████████████████▋     | 1.2MB 8.6MB/s eta 0:00:01\r\u001b[K     |██████████████████████████▉     | 1.2MB 8.6MB/s eta 0:00:01\r\u001b[K     |███████████████████████████     | 1.2MB 8.6MB/s eta 0:00:01\r\u001b[K     |███████████████████████████▎    | 1.2MB 8.6MB/s eta 0:00:01\r\u001b[K     |███████████████████████████▌    | 1.3MB 8.6MB/s eta 0:00:01\r\u001b[K     |███████████████████████████▊    | 1.3MB 8.6MB/s eta 0:00:01\r\u001b[K     |████████████████████████████    | 1.3MB 8.6MB/s eta 0:00:01\r\u001b[K     |████████████████████████████▏   | 1.3MB 8.6MB/s eta 0:00:01\r\u001b[K     |████████████████████████████▍   | 1.3MB 8.6MB/s eta 0:00:01\r\u001b[K     |████████████████████████████▋   | 1.3MB 8.6MB/s eta 0:00:01\r\u001b[K     |████████████████████████████▉   | 1.3MB 8.6MB/s eta 0:00:01\r\u001b[K     |█████████████████████████████   | 1.3MB 8.6MB/s eta 0:00:01\r\u001b[K     |█████████████████████████████▎  | 1.3MB 8.6MB/s eta 0:00:01\r\u001b[K     |█████████████████████████████▌  | 1.4MB 8.6MB/s eta 0:00:01\r\u001b[K     |█████████████████████████████▊  | 1.4MB 8.6MB/s eta 0:00:01\r\u001b[K     |██████████████████████████████  | 1.4MB 8.6MB/s eta 0:00:01\r\u001b[K     |██████████████████████████████▏ | 1.4MB 8.6MB/s eta 0:00:01\r\u001b[K     |██████████████████████████████▍ | 1.4MB 8.6MB/s eta 0:00:01\r\u001b[K     |██████████████████████████████▋ | 1.4MB 8.6MB/s eta 0:00:01\r\u001b[K     |██████████████████████████████▉ | 1.4MB 8.6MB/s eta 0:00:01\r\u001b[K     |███████████████████████████████ | 1.4MB 8.6MB/s eta 0:00:01\r\u001b[K     |███████████████████████████████▎| 1.4MB 8.6MB/s eta 0:00:01\r\u001b[K     |███████████████████████████████▌| 1.4MB 8.6MB/s eta 0:00:01\r\u001b[K     |███████████████████████████████▊| 1.5MB 8.6MB/s eta 0:00:01\r\u001b[K     |████████████████████████████████| 1.5MB 8.6MB/s eta 0:00:01\r\u001b[K     |████████████████████████████████| 1.5MB 8.6MB/s \n",
            "\u001b[?25hRequirement already satisfied: numpy>=1.17.3 in /usr/local/lib/python3.6/dist-packages (from pmdarima) (1.19.5)\n",
            "Requirement already satisfied: urllib3 in /usr/local/lib/python3.6/dist-packages (from pmdarima) (1.24.3)\n",
            "Requirement already satisfied: pandas>=0.19 in /usr/local/lib/python3.6/dist-packages (from pmdarima) (1.1.5)\n",
            "Requirement already satisfied: setuptools!=50.0.0,>=38.6.0 in /usr/local/lib/python3.6/dist-packages (from pmdarima) (53.0.0)\n",
            "Requirement already satisfied: joblib>=0.11 in /usr/local/lib/python3.6/dist-packages (from pmdarima) (1.0.0)\n",
            "Collecting statsmodels!=0.12.0,>=0.11\n",
            "\u001b[?25l  Downloading https://files.pythonhosted.org/packages/0d/7b/c17815648dc31396af865b9c6627cc3f95705954e30f61106795361c39ee/statsmodels-0.12.2-cp36-cp36m-manylinux1_x86_64.whl (9.5MB)\n",
            "\u001b[K     |████████████████████████████████| 9.5MB 22.7MB/s \n",
            "\u001b[?25hRequirement already satisfied: scikit-learn>=0.22 in /usr/local/lib/python3.6/dist-packages (from pmdarima) (0.22.2.post1)\n",
            "Collecting Cython<0.29.18,>=0.29\n",
            "\u001b[?25l  Downloading https://files.pythonhosted.org/packages/e7/d7/510ddef0248f3e1e91f9cc7e31c0f35f8954d0af92c5c3fd4c853e859ebe/Cython-0.29.17-cp36-cp36m-manylinux1_x86_64.whl (2.1MB)\n",
            "\u001b[K     |████████████████████████████████| 2.1MB 59.2MB/s \n",
            "\u001b[?25hRequirement already satisfied: scipy>=1.3.2 in /usr/local/lib/python3.6/dist-packages (from pmdarima) (1.4.1)\n",
            "Requirement already satisfied: pytz>=2017.2 in /usr/local/lib/python3.6/dist-packages (from pandas>=0.19->pmdarima) (2018.9)\n",
            "Requirement already satisfied: python-dateutil>=2.7.3 in /usr/local/lib/python3.6/dist-packages (from pandas>=0.19->pmdarima) (2.8.1)\n",
            "Requirement already satisfied: patsy>=0.5 in /usr/local/lib/python3.6/dist-packages (from statsmodels!=0.12.0,>=0.11->pmdarima) (0.5.1)\n",
            "Requirement already satisfied: six>=1.5 in /usr/local/lib/python3.6/dist-packages (from python-dateutil>=2.7.3->pandas>=0.19->pmdarima) (1.15.0)\n",
            "Installing collected packages: statsmodels, Cython, pmdarima\n",
            "  Found existing installation: statsmodels 0.10.2\n",
            "    Uninstalling statsmodels-0.10.2:\n",
            "      Successfully uninstalled statsmodels-0.10.2\n",
            "  Found existing installation: Cython 0.29.21\n",
            "    Uninstalling Cython-0.29.21:\n",
            "      Successfully uninstalled Cython-0.29.21\n",
            "Successfully installed Cython-0.29.17 pmdarima-1.8.0 statsmodels-0.12.2\n"
          ],
          "name": "stdout"
        }
      ]
    },
    {
      "cell_type": "code",
      "metadata": {
        "id": "IzFYu6oULsee"
      },
      "source": [
        "import pmdarima as pm\r\n",
        "from pmdarima.arima import auto_arima\r\n",
        "import pandas as pd\r\n",
        "import numpy as np\r\n",
        "from matplotlib import pyplot as plt\r\n",
        "from sklearn.metrics import mean_squared_error"
      ],
      "execution_count": 13,
      "outputs": []
    },
    {
      "cell_type": "code",
      "metadata": {
        "id": "8VSNka2wL4tc"
      },
      "source": [
        "df = pd.read_csv(\"https://raw.githubusercontent.com/mmbs1989/DSWP-Aluno/main/dadostccdata.csv\")\r\n",
        "dfa = pd.read_csv(\"https://raw.githubusercontent.com/mmbs1989/DSWP-Aluno/main/dadostcce.csv\")\r\n",
        "df = df.drop(df.index[314:])\r\n",
        "dfa = dfa.drop(dfa.index[314:])\r\n",
        "df['e'] = dfa['e']\r\n",
        "df['e'] = pd.to_numeric(df['e'])\r\n",
        "df.columns = ['ds', 'y']\r\n",
        "df['ds'] = pd.to_datetime(df['ds'])\r\n",
        "df.set_index('ds', inplace=True)"
      ],
      "execution_count": 39,
      "outputs": []
    },
    {
      "cell_type": "code",
      "metadata": {
        "colab": {
          "base_uri": "https://localhost:8080/",
          "height": 307
        },
        "id": "Vq6hvpsHMIEe",
        "outputId": "e41e57e1-9175-4bc3-ad89-f1a133937276"
      },
      "source": [
        "df.plot()"
      ],
      "execution_count": 40,
      "outputs": [
        {
          "output_type": "execute_result",
          "data": {
            "text/plain": [
              "<matplotlib.axes._subplots.AxesSubplot at 0x7f82ae5cd390>"
            ]
          },
          "metadata": {
            "tags": []
          },
          "execution_count": 40
        },
        {
          "output_type": "display_data",
          "data": {
            "image/png": "[encoded data removed]",
            "text/plain": [
              "<Figure size 432x288 with 1 Axes>"
            ]
          },
          "metadata": {
            "tags": [],
            "needs_background": "light"
          }
        }
      ]
    },
    {
      "cell_type": "code",
      "metadata": {
        "colab": {
          "base_uri": "https://localhost:8080/"
        },
        "id": "WV2U2uYOMTr_",
        "outputId": "65ceb6a0-b98a-492f-e26b-619e0652db08"
      },
      "source": [
        "from pmdarima.arima import ADFTest\r\n",
        "adf_test = ADFTest(alpha = 0.05)\r\n",
        "adf_test.should_diff(df)"
      ],
      "execution_count": 41,
      "outputs": [
        {
          "output_type": "execute_result",
          "data": {
            "text/plain": [
              "(0.4284342544302224, True)"
            ]
          },
          "metadata": {
            "tags": []
          },
          "execution_count": 41
        }
      ]
    },
    {
      "cell_type": "code",
      "metadata": {
        "colab": {
          "base_uri": "https://localhost:8080/",
          "height": 293
        },
        "id": "YHTvwG6FNHqU",
        "outputId": "ab71d39d-ad07-46d8-d2db-4b8a13db17f8"
      },
      "source": [
        "train = df.iloc[:-12].copy()  \r\n",
        "test =  df.iloc[-12:].copy() \r\n",
        "plt.plot(train) \r\n",
        "plt.plot(test)"
      ],
      "execution_count": 42,
      "outputs": [
        {
          "output_type": "execute_result",
          "data": {
            "text/plain": [
              "[<matplotlib.lines.Line2D at 0x7f829b7fc470>]"
            ]
          },
          "metadata": {
            "tags": []
          },
          "execution_count": 42
        },
        {
          "output_type": "display_data",
          "data": {
            "image/png": "[encoded data removed]",
            "text/plain": [
              "<Figure size 432x288 with 1 Axes>"
            ]
          },
          "metadata": {
            "tags": [],
            "needs_background": "light"
          }
        }
      ]
    },
    {
      "cell_type": "code",
      "metadata": {
        "colab": {
          "base_uri": "https://localhost:8080/"
        },
        "id": "X5t0l6JcNicc",
        "outputId": "5dac7a90-9240-4079-dc29-ac2819e03455"
      },
      "source": [
        "model = pm.auto_arima(train, start_p=0, d=1, start_q=0, max_p=5, max_q=5, max_d=5, start_P=0, D=1, start_Q=0, max_P=5, \r\n",
        "                      max_Q=5, max_D=5, seasonal= True, m= 12, error_action = 'warn', trace = True, supress_warnings=True, stepwise=True, \r\n",
        "                      random_state = 20, n_fits = 50)"
      ],
      "execution_count": 43,
      "outputs": [
        {
          "output_type": "stream",
          "text": [
            "Performing stepwise search to minimize aic\n",
            " ARIMA(0,1,0)(0,1,0)[12]             : AIC=13044.050, Time=0.02 sec\n",
            " ARIMA(1,1,0)(1,1,0)[12]             : AIC=12958.537, Time=0.24 sec\n",
            " ARIMA(0,1,1)(0,1,1)[12]             : AIC=12916.511, Time=0.31 sec\n",
            " ARIMA(0,1,1)(0,1,0)[12]             : AIC=12996.274, Time=0.08 sec\n",
            " ARIMA(0,1,1)(1,1,1)[12]             : AIC=12917.286, Time=0.48 sec\n",
            " ARIMA(0,1,1)(0,1,2)[12]             : AIC=12917.233, Time=0.89 sec\n",
            " ARIMA(0,1,1)(1,1,0)[12]             : AIC=12952.264, Time=0.23 sec\n",
            " ARIMA(0,1,1)(1,1,2)[12]             : AIC=12919.233, Time=2.03 sec\n",
            " ARIMA(0,1,0)(0,1,1)[12]             : AIC=12950.250, Time=0.16 sec\n",
            " ARIMA(1,1,1)(0,1,1)[12]             : AIC=12917.878, Time=0.44 sec\n",
            " ARIMA(0,1,2)(0,1,1)[12]             : AIC=12919.007, Time=0.36 sec\n",
            " ARIMA(1,1,0)(0,1,1)[12]             : AIC=12921.121, Time=0.26 sec\n",
            " ARIMA(1,1,2)(0,1,1)[12]             : AIC=12920.905, Time=0.76 sec\n",
            " ARIMA(0,1,1)(0,1,1)[12] intercept   : AIC=12918.493, Time=0.36 sec\n",
            "\n",
            "Best model:  ARIMA(0,1,1)(0,1,1)[12]          \n",
            "Total fit time: 6.625 seconds\n"
          ],
          "name": "stdout"
        }
      ]
    },
    {
      "cell_type": "code",
      "metadata": {
        "colab": {
          "base_uri": "https://localhost:8080/",
          "height": 440
        },
        "id": "wLOL2AygPwpk",
        "outputId": "d151b8e2-7519-4873-90cf-75da2c630fcb"
      },
      "source": [
        "model.summary()"
      ],
      "execution_count": 44,
      "outputs": [
        {
          "output_type": "execute_result",
          "data": {
            "text/html": [
              "<table class=\"simpletable\">\n",
              "<caption>SARIMAX Results</caption>\n",
              "<tr>\n",
              "  <th>Dep. Variable:</th>                  <td>y</td>               <th>  No. Observations:  </th>    <td>302</td>   \n",
              "</tr>\n",
              "<tr>\n",
              "  <th>Model:</th>           <td>SARIMAX(0, 1, 1)x(0, 1, 1, 12)</td> <th>  Log Likelihood     </th> <td>-6455.256</td>\n",
              "</tr>\n",
              "<tr>\n",
              "  <th>Date:</th>                   <td>Tue, 02 Feb 2021</td>        <th>  AIC                </th> <td>12916.511</td>\n",
              "</tr>\n",
              "<tr>\n",
              "  <th>Time:</th>                       <td>19:06:33</td>            <th>  BIC                </th> <td>12927.511</td>\n",
              "</tr>\n",
              "<tr>\n",
              "  <th>Sample:</th>                         <td>0</td>               <th>  HQIC               </th> <td>12920.919</td>\n",
              "</tr>\n",
              "<tr>\n",
              "  <th></th>                             <td> - 302</td>             <th>                     </th>     <td> </td>    \n",
              "</tr>\n",
              "<tr>\n",
              "  <th>Covariance Type:</th>               <td>opg</td>              <th>                     </th>     <td> </td>    \n",
              "</tr>\n",
              "</table>\n",
              "<table class=\"simpletable\">\n",
              "<tr>\n",
              "      <td></td>        <th>coef</th>     <th>std err</th>      <th>z</th>      <th>P>|z|</th>  <th>[0.025</th>    <th>0.975]</th>  \n",
              "</tr>\n",
              "<tr>\n",
              "  <th>ma.L1</th>    <td>   -0.3923</td> <td>    0.060</td> <td>   -6.544</td> <td> 0.000</td> <td>   -0.510</td> <td>   -0.275</td>\n",
              "</tr>\n",
              "<tr>\n",
              "  <th>ma.S.L12</th> <td>   -0.7257</td> <td>    0.054</td> <td>  -13.456</td> <td> 0.000</td> <td>   -0.831</td> <td>   -0.620</td>\n",
              "</tr>\n",
              "<tr>\n",
              "  <th>sigma2</th>   <td> 1.978e+18</td> <td>      nan</td> <td>      nan</td> <td>   nan</td> <td>      nan</td> <td>      nan</td>\n",
              "</tr>\n",
              "</table>\n",
              "<table class=\"simpletable\">\n",
              "<tr>\n",
              "  <th>Ljung-Box (L1) (Q):</th>     <td>0.07</td>  <th>  Jarque-Bera (JB):  </th> <td>60.49</td>\n",
              "</tr>\n",
              "<tr>\n",
              "  <th>Prob(Q):</th>                <td>0.79</td>  <th>  Prob(JB):          </th> <td>0.00</td> \n",
              "</tr>\n",
              "<tr>\n",
              "  <th>Heteroskedasticity (H):</th> <td>11.06</td> <th>  Skew:              </th> <td>0.12</td> \n",
              "</tr>\n",
              "<tr>\n",
              "  <th>Prob(H) (two-sided):</th>    <td>0.00</td>  <th>  Kurtosis:          </th> <td>5.23</td> \n",
              "</tr>\n",
              "</table><br/><br/>Warnings:<br/>[1] Covariance matrix calculated using the outer product of gradients (complex-step).<br/>[2] Covariance matrix is singular or near-singular, with condition number 1.19e+54. Standard errors may be unstable."
            ],
            "text/plain": [
              "<class 'statsmodels.iolib.summary.Summary'>\n",
              "\"\"\"\n",
              "                                     SARIMAX Results                                      \n",
              "==========================================================================================\n",
              "Dep. Variable:                                  y   No. Observations:                  302\n",
              "Model:             SARIMAX(0, 1, 1)x(0, 1, 1, 12)   Log Likelihood               -6455.256\n",
              "Date:                            Tue, 02 Feb 2021   AIC                          12916.511\n",
              "Time:                                    19:06:33   BIC                          12927.511\n",
              "Sample:                                         0   HQIC                         12920.919\n",
              "                                            - 302                                         \n",
              "Covariance Type:                              opg                                         \n",
              "==============================================================================\n",
              "                 coef    std err          z      P>|z|      [0.025      0.975]\n",
              "------------------------------------------------------------------------------\n",
              "ma.L1         -0.3923      0.060     -6.544      0.000      -0.510      -0.275\n",
              "ma.S.L12      -0.7257      0.054    -13.456      0.000      -0.831      -0.620\n",
              "sigma2      1.978e+18        nan        nan        nan         nan         nan\n",
              "===================================================================================\n",
              "Ljung-Box (L1) (Q):                   0.07   Jarque-Bera (JB):                60.49\n",
              "Prob(Q):                              0.79   Prob(JB):                         0.00\n",
              "Heteroskedasticity (H):              11.06   Skew:                             0.12\n",
              "Prob(H) (two-sided):                  0.00   Kurtosis:                         5.23\n",
              "===================================================================================\n",
              "\n",
              "Warnings:\n",
              "[1] Covariance matrix calculated using the outer product of gradients (complex-step).\n",
              "[2] Covariance matrix is singular or near-singular, with condition number 1.19e+54. Standard errors may be unstable.\n",
              "\"\"\""
            ]
          },
          "metadata": {
            "tags": []
          },
          "execution_count": 44
        }
      ]
    },
    {
      "cell_type": "code",
      "metadata": {
        "colab": {
          "base_uri": "https://localhost:8080/",
          "height": 452
        },
        "id": "dpz6xyRMP_9E",
        "outputId": "1c17a903-1cd6-4dd3-ba33-34ec6aaefbfd"
      },
      "source": [
        "prediction = pd.DataFrame(model.predict(n_periods = 12), index = test.index)\r\n",
        "prediction"
      ],
      "execution_count": 45,
      "outputs": [
        {
          "output_type": "execute_result",
          "data": {
            "text/html": [
              "<div>\n",
              "<style scoped>\n",
              "    .dataframe tbody tr th:only-of-type {\n",
              "        vertical-align: middle;\n",
              "    }\n",
              "\n",
              "    .dataframe tbody tr th {\n",
              "        vertical-align: top;\n",
              "    }\n",
              "\n",
              "    .dataframe thead th {\n",
              "        text-align: right;\n",
              "    }\n",
              "</style>\n",
              "<table border=\"1\" class=\"dataframe\">\n",
              "  <thead>\n",
              "    <tr style=\"text-align: right;\">\n",
              "      <th></th>\n",
              "      <th>0</th>\n",
              "    </tr>\n",
              "    <tr>\n",
              "      <th>ds</th>\n",
              "      <th></th>\n",
              "    </tr>\n",
              "  </thead>\n",
              "  <tbody>\n",
              "    <tr>\n",
              "      <th>2019-03-01</th>\n",
              "      <td>1.998883e+10</td>\n",
              "    </tr>\n",
              "    <tr>\n",
              "      <th>2019-04-01</th>\n",
              "      <td>1.929164e+10</td>\n",
              "    </tr>\n",
              "    <tr>\n",
              "      <th>2019-05-01</th>\n",
              "      <td>2.059991e+10</td>\n",
              "    </tr>\n",
              "    <tr>\n",
              "      <th>2019-06-01</th>\n",
              "      <td>2.081638e+10</td>\n",
              "    </tr>\n",
              "    <tr>\n",
              "      <th>2019-07-01</th>\n",
              "      <td>2.135732e+10</td>\n",
              "    </tr>\n",
              "    <tr>\n",
              "      <th>2019-08-01</th>\n",
              "      <td>2.104644e+10</td>\n",
              "    </tr>\n",
              "    <tr>\n",
              "      <th>2019-09-01</th>\n",
              "      <td>1.983578e+10</td>\n",
              "    </tr>\n",
              "    <tr>\n",
              "      <th>2019-10-01</th>\n",
              "      <td>2.034310e+10</td>\n",
              "    </tr>\n",
              "    <tr>\n",
              "      <th>2019-11-01</th>\n",
              "      <td>1.929775e+10</td>\n",
              "    </tr>\n",
              "    <tr>\n",
              "      <th>2019-12-01</th>\n",
              "      <td>1.952608e+10</td>\n",
              "    </tr>\n",
              "    <tr>\n",
              "      <th>2020-01-01</th>\n",
              "      <td>1.719291e+10</td>\n",
              "    </tr>\n",
              "    <tr>\n",
              "      <th>2020-02-01</th>\n",
              "      <td>1.689519e+10</td>\n",
              "    </tr>\n",
              "  </tbody>\n",
              "</table>\n",
              "</div>"
            ],
            "text/plain": [
              "                       0\n",
              "ds                      \n",
              "2019-03-01  1.998883e+10\n",
              "2019-04-01  1.929164e+10\n",
              "2019-05-01  2.059991e+10\n",
              "2019-06-01  2.081638e+10\n",
              "2019-07-01  2.135732e+10\n",
              "2019-08-01  2.104644e+10\n",
              "2019-09-01  1.983578e+10\n",
              "2019-10-01  2.034310e+10\n",
              "2019-11-01  1.929775e+10\n",
              "2019-12-01  1.952608e+10\n",
              "2020-01-01  1.719291e+10\n",
              "2020-02-01  1.689519e+10"
            ]
          },
          "metadata": {
            "tags": []
          },
          "execution_count": 45
        }
      ]
    },
    {
      "cell_type": "code",
      "metadata": {
        "colab": {
          "base_uri": "https://localhost:8080/",
          "height": 331
        },
        "id": "Fn5m4dODQ6qM",
        "outputId": "ec99006e-848e-44a4-903d-e627498332fe"
      },
      "source": [
        "plt.figure(figsize=(15,5))\r\n",
        "plt.plot(train, label= \"Train\")\r\n",
        "plt.plot(test, label= 'Test')\r\n",
        "plt.plot(prediction, label = 'Previsão')\r\n",
        "plt.show()"
      ],
      "execution_count": 46,
      "outputs": [
        {
          "output_type": "display_data",
          "data": {
            "image/png": "[encoded data removed]",
            "text/plain": [
              "<Figure size 1080x360 with 1 Axes>"
            ]
          },
          "metadata": {
            "tags": [],
            "needs_background": "light"
          }
        }
      ]
    },
    {
      "cell_type": "code",
      "metadata": {
        "colab": {
          "base_uri": "https://localhost:8080/"
        },
        "id": "36_oqpWyRV1N",
        "outputId": "5c056afa-8dfa-49de-9f8c-1399f0b72b7c"
      },
      "source": [
        "from sklearn.metrics import r2_score\r\n",
        "test['0'] = prediction\r\n",
        "r2_score(test['y'], test['0'])"
      ],
      "execution_count": 47,
      "outputs": [
        {
          "output_type": "execute_result",
          "data": {
            "text/plain": [
              "0.27058963732696095"
            ]
          },
          "metadata": {
            "tags": []
          },
          "execution_count": 47
        }
      ]
    },
    {
      "cell_type": "code",
      "metadata": {
        "colab": {
          "base_uri": "https://localhost:8080/",
          "height": 452
        },
        "id": "RE5Ks7TjExZQ",
        "outputId": "b8f3385a-da61-40f0-e438-6331324f3ee7"
      },
      "source": [
        "test = test.drop(columns=['0'])\r\n",
        "test"
      ],
      "execution_count": 37,
      "outputs": [
        {
          "output_type": "execute_result",
          "data": {
            "text/html": [
              "<div>\n",
              "<style scoped>\n",
              "    .dataframe tbody tr th:only-of-type {\n",
              "        vertical-align: middle;\n",
              "    }\n",
              "\n",
              "    .dataframe tbody tr th {\n",
              "        vertical-align: top;\n",
              "    }\n",
              "\n",
              "    .dataframe thead th {\n",
              "        text-align: right;\n",
              "    }\n",
              "</style>\n",
              "<table border=\"1\" class=\"dataframe\">\n",
              "  <thead>\n",
              "    <tr style=\"text-align: right;\">\n",
              "      <th></th>\n",
              "      <th>y</th>\n",
              "    </tr>\n",
              "    <tr>\n",
              "      <th>ds</th>\n",
              "      <th></th>\n",
              "    </tr>\n",
              "  </thead>\n",
              "  <tbody>\n",
              "    <tr>\n",
              "      <th>2019-03-01</th>\n",
              "      <td>13132998803</td>\n",
              "    </tr>\n",
              "    <tr>\n",
              "      <th>2019-04-01</th>\n",
              "      <td>13628618723</td>\n",
              "    </tr>\n",
              "    <tr>\n",
              "      <th>2019-05-01</th>\n",
              "      <td>14968051867</td>\n",
              "    </tr>\n",
              "    <tr>\n",
              "      <th>2019-06-01</th>\n",
              "      <td>13028629358</td>\n",
              "    </tr>\n",
              "    <tr>\n",
              "      <th>2019-07-01</th>\n",
              "      <td>17759476963</td>\n",
              "    </tr>\n",
              "    <tr>\n",
              "      <th>2019-08-01</th>\n",
              "      <td>15569921736</td>\n",
              "    </tr>\n",
              "    <tr>\n",
              "      <th>2019-09-01</th>\n",
              "      <td>16495171374</td>\n",
              "    </tr>\n",
              "    <tr>\n",
              "      <th>2019-10-01</th>\n",
              "      <td>17027283951</td>\n",
              "    </tr>\n",
              "    <tr>\n",
              "      <th>2019-11-01</th>\n",
              "      <td>14172102789</td>\n",
              "    </tr>\n",
              "    <tr>\n",
              "      <th>2019-12-01</th>\n",
              "      <td>12556086388</td>\n",
              "    </tr>\n",
              "    <tr>\n",
              "      <th>2020-01-01</th>\n",
              "      <td>16178224141</td>\n",
              "    </tr>\n",
              "    <tr>\n",
              "      <th>2020-02-01</th>\n",
              "      <td>13257290693</td>\n",
              "    </tr>\n",
              "  </tbody>\n",
              "</table>\n",
              "</div>"
            ],
            "text/plain": [
              "                      y\n",
              "ds                     \n",
              "2019-03-01  13132998803\n",
              "2019-04-01  13628618723\n",
              "2019-05-01  14968051867\n",
              "2019-06-01  13028629358\n",
              "2019-07-01  17759476963\n",
              "2019-08-01  15569921736\n",
              "2019-09-01  16495171374\n",
              "2019-10-01  17027283951\n",
              "2019-11-01  14172102789\n",
              "2019-12-01  12556086388\n",
              "2020-01-01  16178224141\n",
              "2020-02-01  13257290693"
            ]
          },
          "metadata": {
            "tags": []
          },
          "execution_count": 37
        }
      ]
    },
    {
      "cell_type": "code",
      "metadata": {
        "colab": {
          "base_uri": "https://localhost:8080/"
        },
        "id": "snk0Kdeo_4FA",
        "outputId": "199d3d91-03ce-45ab-905a-5eb2a22d7562"
      },
      "source": [
        "print(f'RMSE= {mean_squared_error(test, prediction)}')"
      ],
      "execution_count": 38,
      "outputs": [
        {
          "output_type": "stream",
          "text": [
            "RMSE= 1.0356092313266452e+18\n"
          ],
          "name": "stdout"
        }
      ]
    }
  ]
}