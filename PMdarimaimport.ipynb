{
  "nbformat": 4,
  "nbformat_minor": 0,
  "metadata": {
    "colab": {
      "name": "Untitled1.ipynb",
      "provenance": [],
      "authorship_tag": "ABX9TyPP+SuoQ22zFVAcdXCiFmRG",
      "include_colab_link": true
    },
    "kernelspec": {
      "name": "python3",
      "display_name": "Python 3"
    }
  },
  "cells": [
    {
      "cell_type": "markdown",
      "metadata": {
        "id": "view-in-github",
        "colab_type": "text"
      },
      "source": [
        "<a href=\"https://colab.research.google.com/github/mmbs1989/DSWP-Aluno/blob/main/PMdarimaimport.ipynb\" target=\"_parent\"><img src=\"https://colab.research.google.com/assets/colab-badge.svg\" alt=\"Open In Colab\"/></a>"
      ]
    },
    {
      "cell_type": "code",
      "metadata": {
        "colab": {
          "base_uri": "https://localhost:8080/"
        },
        "id": "B8ktOwRQLiGX",
        "outputId": "6743f402-43ea-4442-8b74-ffb5f3ce0d61"
      },
      "source": [
        "pip install pmdarima"
      ],
      "execution_count": 1,
      "outputs": [
        {
          "output_type": "stream",
          "text": [
            "Collecting pmdarima\n",
            "\u001b[?25l  Downloading https://files.pythonhosted.org/packages/c9/d7/61af1897449638822f97c8b43ef0c2fce2ec68a6cda9a43ebbbdd12b967c/pmdarima-1.8.0-cp36-cp36m-manylinux1_x86_64.whl (1.5MB)\n",
            "\r\u001b[K     |▎                               | 10kB 21.0MB/s eta 0:00:01\r\u001b[K     |▌                               | 20kB 14.7MB/s eta 0:00:01\r\u001b[K     |▊                               | 30kB 12.3MB/s eta 0:00:01\r\u001b[K     |█                               | 40kB 11.8MB/s eta 0:00:01\r\u001b[K     |█▏                              | 51kB 7.8MB/s eta 0:00:01\r\u001b[K     |█▍                              | 61kB 7.2MB/s eta 0:00:01\r\u001b[K     |█▋                              | 71kB 8.2MB/s eta 0:00:01\r\u001b[K     |█▉                              | 81kB 9.0MB/s eta 0:00:01\r\u001b[K     |██                              | 92kB 8.4MB/s eta 0:00:01\r\u001b[K     |██▎                             | 102kB 8.6MB/s eta 0:00:01\r\u001b[K     |██▌                             | 112kB 8.6MB/s eta 0:00:01\r\u001b[K     |██▊                             | 122kB 8.6MB/s eta 0:00:01\r\u001b[K     |███                             | 133kB 8.6MB/s eta 0:00:01\r\u001b[K     |███▏                            | 143kB 8.6MB/s eta 0:00:01\r\u001b[K     |███▍                            | 153kB 8.6MB/s eta 0:00:01\r\u001b[K     |███▋                            | 163kB 8.6MB/s eta 0:00:01\r\u001b[K     |███▉                            | 174kB 8.6MB/s eta 0:00:01\r\u001b[K     |████                            | 184kB 8.6MB/s eta 0:00:01\r\u001b[K     |████▎                           | 194kB 8.6MB/s eta 0:00:01\r\u001b[K     |████▌                           | 204kB 8.6MB/s eta 0:00:01\r\u001b[K     |████▊                           | 215kB 8.6MB/s eta 0:00:01\r\u001b[K     |█████                           | 225kB 8.6MB/s eta 0:00:01\r\u001b[K     |█████▏                          | 235kB 8.6MB/s eta 0:00:01\r\u001b[K     |█████▍                          | 245kB 8.6MB/s eta 0:00:01\r\u001b[K     |█████▋                          | 256kB 8.6MB/s eta 0:00:01\r\u001b[K     |█████▉                          | 266kB 8.6MB/s eta 0:00:01\r\u001b[K     |██████                          | 276kB 8.6MB/s eta 0:00:01\r\u001b[K     |██████▎                         | 286kB 8.6MB/s eta 0:00:01\r\u001b[K     |██████▌                         | 296kB 8.6MB/s eta 0:00:01\r\u001b[K     |██████▊                         | 307kB 8.6MB/s eta 0:00:01\r\u001b[K     |███████                         | 317kB 8.6MB/s eta 0:00:01\r\u001b[K     |███████▏                        | 327kB 8.6MB/s eta 0:00:01\r\u001b[K     |███████▍                        | 337kB 8.6MB/s eta 0:00:01\r\u001b[K     |███████▋                        | 348kB 8.6MB/s eta 0:00:01\r\u001b[K     |███████▉                        | 358kB 8.6MB/s eta 0:00:01\r\u001b[K     |████████                        | 368kB 8.6MB/s eta 0:00:01\r\u001b[K     |████████▎                       | 378kB 8.6MB/s eta 0:00:01\r\u001b[K     |████████▌                       | 389kB 8.6MB/s eta 0:00:01\r\u001b[K     |████████▊                       | 399kB 8.6MB/s eta 0:00:01\r\u001b[K     |█████████                       | 409kB 8.6MB/s eta 0:00:01\r\u001b[K     |█████████▏                      | 419kB 8.6MB/s eta 0:00:01\r\u001b[K     |█████████▍                      | 430kB 8.6MB/s eta 0:00:01\r\u001b[K     |█████████▋                      | 440kB 8.6MB/s eta 0:00:01\r\u001b[K     |█████████▉                      | 450kB 8.6MB/s eta 0:00:01\r\u001b[K     |██████████                      | 460kB 8.6MB/s eta 0:00:01\r\u001b[K     |██████████▎                     | 471kB 8.6MB/s eta 0:00:01\r\u001b[K     |██████████▌                     | 481kB 8.6MB/s eta 0:00:01\r\u001b[K     |██████████▊                     | 491kB 8.6MB/s eta 0:00:01\r\u001b[K     |███████████                     | 501kB 8.6MB/s eta 0:00:01\r\u001b[K     |███████████▏                    | 512kB 8.6MB/s eta 0:00:01\r\u001b[K     |███████████▍                    | 522kB 8.6MB/s eta 0:00:01\r\u001b[K     |███████████▋                    | 532kB 8.6MB/s eta 0:00:01\r\u001b[K     |███████████▉                    | 542kB 8.6MB/s eta 0:00:01\r\u001b[K     |████████████                    | 552kB 8.6MB/s eta 0:00:01\r\u001b[K     |████████████▎                   | 563kB 8.6MB/s eta 0:00:01\r\u001b[K     |████████████▌                   | 573kB 8.6MB/s eta 0:00:01\r\u001b[K     |████████████▊                   | 583kB 8.6MB/s eta 0:00:01\r\u001b[K     |█████████████                   | 593kB 8.6MB/s eta 0:00:01\r\u001b[K     |█████████████▏                  | 604kB 8.6MB/s eta 0:00:01\r\u001b[K     |█████████████▍                  | 614kB 8.6MB/s eta 0:00:01\r\u001b[K     |█████████████▋                  | 624kB 8.6MB/s eta 0:00:01\r\u001b[K     |█████████████▉                  | 634kB 8.6MB/s eta 0:00:01\r\u001b[K     |██████████████                  | 645kB 8.6MB/s eta 0:00:01\r\u001b[K     |██████████████▎                 | 655kB 8.6MB/s eta 0:00:01\r\u001b[K     |██████████████▌                 | 665kB 8.6MB/s eta 0:00:01\r\u001b[K     |██████████████▊                 | 675kB 8.6MB/s eta 0:00:01\r\u001b[K     |███████████████                 | 686kB 8.6MB/s eta 0:00:01\r\u001b[K     |███████████████▏                | 696kB 8.6MB/s eta 0:00:01\r\u001b[K     |███████████████▍                | 706kB 8.6MB/s eta 0:00:01\r\u001b[K     |███████████████▋                | 716kB 8.6MB/s eta 0:00:01\r\u001b[K     |███████████████▉                | 727kB 8.6MB/s eta 0:00:01\r\u001b[K     |████████████████                | 737kB 8.6MB/s eta 0:00:01\r\u001b[K     |████████████████▎               | 747kB 8.6MB/s eta 0:00:01\r\u001b[K     |████████████████▌               | 757kB 8.6MB/s eta 0:00:01\r\u001b[K     |████████████████▊               | 768kB 8.6MB/s eta 0:00:01\r\u001b[K     |█████████████████               | 778kB 8.6MB/s eta 0:00:01\r\u001b[K     |█████████████████▏              | 788kB 8.6MB/s eta 0:00:01\r\u001b[K     |█████████████████▍              | 798kB 8.6MB/s eta 0:00:01\r\u001b[K     |█████████████████▋              | 808kB 8.6MB/s eta 0:00:01\r\u001b[K     |█████████████████▉              | 819kB 8.6MB/s eta 0:00:01\r\u001b[K     |██████████████████▏             | 829kB 8.6MB/s eta 0:00:01\r\u001b[K     |██████████████████▍             | 839kB 8.6MB/s eta 0:00:01\r\u001b[K     |██████████████████▋             | 849kB 8.6MB/s eta 0:00:01\r\u001b[K     |██████████████████▉             | 860kB 8.6MB/s eta 0:00:01\r\u001b[K     |███████████████████             | 870kB 8.6MB/s eta 0:00:01\r\u001b[K     |███████████████████▎            | 880kB 8.6MB/s eta 0:00:01\r\u001b[K     |███████████████████▌            | 890kB 8.6MB/s eta 0:00:01\r\u001b[K     |███████████████████▊            | 901kB 8.6MB/s eta 0:00:01\r\u001b[K     |████████████████████            | 911kB 8.6MB/s eta 0:00:01\r\u001b[K     |████████████████████▏           | 921kB 8.6MB/s eta 0:00:01\r\u001b[K     |████████████████████▍           | 931kB 8.6MB/s eta 0:00:01\r\u001b[K     |████████████████████▋           | 942kB 8.6MB/s eta 0:00:01\r\u001b[K     |████████████████████▉           | 952kB 8.6MB/s eta 0:00:01\r\u001b[K     |█████████████████████           | 962kB 8.6MB/s eta 0:00:01\r\u001b[K     |█████████████████████▎          | 972kB 8.6MB/s eta 0:00:01\r\u001b[K     |█████████████████████▌          | 983kB 8.6MB/s eta 0:00:01\r\u001b[K     |█████████████████████▊          | 993kB 8.6MB/s eta 0:00:01\r\u001b[K     |██████████████████████          | 1.0MB 8.6MB/s eta 0:00:01\r\u001b[K     |██████████████████████▏         | 1.0MB 8.6MB/s eta 0:00:01\r\u001b[K     |██████████████████████▍         | 1.0MB 8.6MB/s eta 0:00:01\r\u001b[K     |██████████████████████▋         | 1.0MB 8.6MB/s eta 0:00:01\r\u001b[K     |██████████████████████▉         | 1.0MB 8.6MB/s eta 0:00:01\r\u001b[K     |███████████████████████         | 1.1MB 8.6MB/s eta 0:00:01\r\u001b[K     |███████████████████████▎        | 1.1MB 8.6MB/s eta 0:00:01\r\u001b[K     |███████████████████████▌        | 1.1MB 8.6MB/s eta 0:00:01\r\u001b[K     |███████████████████████▊        | 1.1MB 8.6MB/s eta 0:00:01\r\u001b[K     |████████████████████████        | 1.1MB 8.6MB/s eta 0:00:01\r\u001b[K     |████████████████████████▏       | 1.1MB 8.6MB/s eta 0:00:01\r\u001b[K     |████████████████████████▍       | 1.1MB 8.6MB/s eta 0:00:01\r\u001b[K     |████████████████████████▋       | 1.1MB 8.6MB/s eta 0:00:01\r\u001b[K     |████████████████████████▉       | 1.1MB 8.6MB/s eta 0:00:01\r\u001b[K     |█████████████████████████       | 1.1MB 8.6MB/s eta 0:00:01\r\u001b[K     |█████████████████████████▎      | 1.2MB 8.6MB/s eta 0:00:01\r\u001b[K     |█████████████████████████▌      | 1.2MB 8.6MB/s eta 0:00:01\r\u001b[K     |█████████████████████████▊      | 1.2MB 8.6MB/s eta 0:00:01\r\u001b[K     |██████████████████████████      | 1.2MB 8.6MB/s eta 0:00:01\r\u001b[K     |██████████████████████████▏     | 1.2MB 8.6MB/s eta 0:00:01\r\u001b[K     |██████████████████████████▍     | 1.2MB 8.6MB/s eta 0:00:01\r\u001b[K     |██████████████████████████▋     | 1.2MB 8.6MB/s eta 0:00:01\r\u001b[K     |██████████████████████████▉     | 1.2MB 8.6MB/s eta 0:00:01\r\u001b[K     |███████████████████████████     | 1.2MB 8.6MB/s eta 0:00:01\r\u001b[K     |███████████████████████████▎    | 1.2MB 8.6MB/s eta 0:00:01\r\u001b[K     |███████████████████████████▌    | 1.3MB 8.6MB/s eta 0:00:01\r\u001b[K     |███████████████████████████▊    | 1.3MB 8.6MB/s eta 0:00:01\r\u001b[K     |████████████████████████████    | 1.3MB 8.6MB/s eta 0:00:01\r\u001b[K     |████████████████████████████▏   | 1.3MB 8.6MB/s eta 0:00:01\r\u001b[K     |████████████████████████████▍   | 1.3MB 8.6MB/s eta 0:00:01\r\u001b[K     |████████████████████████████▋   | 1.3MB 8.6MB/s eta 0:00:01\r\u001b[K     |████████████████████████████▉   | 1.3MB 8.6MB/s eta 0:00:01\r\u001b[K     |█████████████████████████████   | 1.3MB 8.6MB/s eta 0:00:01\r\u001b[K     |█████████████████████████████▎  | 1.3MB 8.6MB/s eta 0:00:01\r\u001b[K     |█████████████████████████████▌  | 1.4MB 8.6MB/s eta 0:00:01\r\u001b[K     |█████████████████████████████▊  | 1.4MB 8.6MB/s eta 0:00:01\r\u001b[K     |██████████████████████████████  | 1.4MB 8.6MB/s eta 0:00:01\r\u001b[K     |██████████████████████████████▏ | 1.4MB 8.6MB/s eta 0:00:01\r\u001b[K     |██████████████████████████████▍ | 1.4MB 8.6MB/s eta 0:00:01\r\u001b[K     |██████████████████████████████▋ | 1.4MB 8.6MB/s eta 0:00:01\r\u001b[K     |██████████████████████████████▉ | 1.4MB 8.6MB/s eta 0:00:01\r\u001b[K     |███████████████████████████████ | 1.4MB 8.6MB/s eta 0:00:01\r\u001b[K     |███████████████████████████████▎| 1.4MB 8.6MB/s eta 0:00:01\r\u001b[K     |███████████████████████████████▌| 1.4MB 8.6MB/s eta 0:00:01\r\u001b[K     |███████████████████████████████▊| 1.5MB 8.6MB/s eta 0:00:01\r\u001b[K     |████████████████████████████████| 1.5MB 8.6MB/s eta 0:00:01\r\u001b[K     |████████████████████████████████| 1.5MB 8.6MB/s \n",
            "\u001b[?25hRequirement already satisfied: numpy>=1.17.3 in /usr/local/lib/python3.6/dist-packages (from pmdarima) (1.19.5)\n",
            "Requirement already satisfied: urllib3 in /usr/local/lib/python3.6/dist-packages (from pmdarima) (1.24.3)\n",
            "Requirement already satisfied: pandas>=0.19 in /usr/local/lib/python3.6/dist-packages (from pmdarima) (1.1.5)\n",
            "Requirement already satisfied: setuptools!=50.0.0,>=38.6.0 in /usr/local/lib/python3.6/dist-packages (from pmdarima) (53.0.0)\n",
            "Requirement already satisfied: joblib>=0.11 in /usr/local/lib/python3.6/dist-packages (from pmdarima) (1.0.0)\n",
            "Collecting statsmodels!=0.12.0,>=0.11\n",
            "\u001b[?25l  Downloading https://files.pythonhosted.org/packages/0d/7b/c17815648dc31396af865b9c6627cc3f95705954e30f61106795361c39ee/statsmodels-0.12.2-cp36-cp36m-manylinux1_x86_64.whl (9.5MB)\n",
            "\u001b[K     |████████████████████████████████| 9.5MB 22.7MB/s \n",
            "\u001b[?25hRequirement already satisfied: scikit-learn>=0.22 in /usr/local/lib/python3.6/dist-packages (from pmdarima) (0.22.2.post1)\n",
            "Collecting Cython<0.29.18,>=0.29\n",
            "\u001b[?25l  Downloading https://files.pythonhosted.org/packages/e7/d7/510ddef0248f3e1e91f9cc7e31c0f35f8954d0af92c5c3fd4c853e859ebe/Cython-0.29.17-cp36-cp36m-manylinux1_x86_64.whl (2.1MB)\n",
            "\u001b[K     |████████████████████████████████| 2.1MB 59.2MB/s \n",
            "\u001b[?25hRequirement already satisfied: scipy>=1.3.2 in /usr/local/lib/python3.6/dist-packages (from pmdarima) (1.4.1)\n",
            "Requirement already satisfied: pytz>=2017.2 in /usr/local/lib/python3.6/dist-packages (from pandas>=0.19->pmdarima) (2018.9)\n",
            "Requirement already satisfied: python-dateutil>=2.7.3 in /usr/local/lib/python3.6/dist-packages (from pandas>=0.19->pmdarima) (2.8.1)\n",
            "Requirement already satisfied: patsy>=0.5 in /usr/local/lib/python3.6/dist-packages (from statsmodels!=0.12.0,>=0.11->pmdarima) (0.5.1)\n",
            "Requirement already satisfied: six>=1.5 in /usr/local/lib/python3.6/dist-packages (from python-dateutil>=2.7.3->pandas>=0.19->pmdarima) (1.15.0)\n",
            "Installing collected packages: statsmodels, Cython, pmdarima\n",
            "  Found existing installation: statsmodels 0.10.2\n",
            "    Uninstalling statsmodels-0.10.2:\n",
            "      Successfully uninstalled statsmodels-0.10.2\n",
            "  Found existing installation: Cython 0.29.21\n",
            "    Uninstalling Cython-0.29.21:\n",
            "      Successfully uninstalled Cython-0.29.21\n",
            "Successfully installed Cython-0.29.17 pmdarima-1.8.0 statsmodels-0.12.2\n"
          ],
          "name": "stdout"
        }
      ]
    },
    {
      "cell_type": "code",
      "metadata": {
        "id": "IzFYu6oULsee"
      },
      "source": [
        "import pmdarima as pm\r\n",
        "from pmdarima.arima import auto_arima\r\n",
        "import pandas as pd\r\n",
        "import numpy as np\r\n",
        "from matplotlib import pyplot as plt\r\n",
        "from sklearn.metrics import mean_squared_error"
      ],
      "execution_count": 13,
      "outputs": []
    },
    {
      "cell_type": "code",
      "metadata": {
        "id": "8VSNka2wL4tc"
      },
      "source": [
        "df = pd.read_csv(\"https://raw.githubusercontent.com/mmbs1989/DSWP-Aluno/main/dadostccdata.csv\")\r\n",
        "dfa = pd.read_csv(\"https://raw.githubusercontent.com/mmbs1989/DSWP-Aluno/main/dadostcci.csv\")\r\n",
        "df = df.drop(df.index[314:])\r\n",
        "dfa = dfa.drop(dfa.index[314:])\r\n",
        "df['i'] = dfa['i']\r\n",
        "df['i'] = pd.to_numeric(df['i'])\r\n",
        "df.columns = ['ds', 'y']\r\n",
        "df['ds'] = pd.to_datetime(df['ds'])\r\n",
        "df.set_index('ds', inplace=True)"
      ],
      "execution_count": 27,
      "outputs": []
    },
    {
      "cell_type": "code",
      "metadata": {
        "colab": {
          "base_uri": "https://localhost:8080/",
          "height": 307
        },
        "id": "Vq6hvpsHMIEe",
        "outputId": "9ef189a2-7779-46c8-c66c-b6f073c21376"
      },
      "source": [
        "df.plot()"
      ],
      "execution_count": 28,
      "outputs": [
        {
          "output_type": "execute_result",
          "data": {
            "text/plain": [
              "<matplotlib.axes._subplots.AxesSubplot at 0x7f829b8f7e10>"
            ]
          },
          "metadata": {
            "tags": []
          },
          "execution_count": 28
        },
        {
          "output_type": "display_data",
          "data": {
            "image/png": "[encoded data removed]",
            "text/plain": [
              "<Figure size 432x288 with 1 Axes>"
            ]
          },
          "metadata": {
            "tags": [],
            "needs_background": "light"
          }
        }
      ]
    },
    {
      "cell_type": "code",
      "metadata": {
        "colab": {
          "base_uri": "https://localhost:8080/"
        },
        "id": "WV2U2uYOMTr_",
        "outputId": "6d587ba4-5d1f-4201-c1bb-d007799cb2fd"
      },
      "source": [
        "from pmdarima.arima import ADFTest\r\n",
        "adf_test = ADFTest(alpha = 0.05)\r\n",
        "adf_test.should_diff(df)"
      ],
      "execution_count": 29,
      "outputs": [
        {
          "output_type": "execute_result",
          "data": {
            "text/plain": [
              "(0.5801543717787687, True)"
            ]
          },
          "metadata": {
            "tags": []
          },
          "execution_count": 29
        }
      ]
    },
    {
      "cell_type": "code",
      "metadata": {
        "colab": {
          "base_uri": "https://localhost:8080/",
          "height": 293
        },
        "id": "YHTvwG6FNHqU",
        "outputId": "1c6c70eb-49c2-42a8-cade-0fbd106beeff"
      },
      "source": [
        "train = df.iloc[:-12].copy()  \r\n",
        "test =  df.iloc[-12:].copy() \r\n",
        "plt.plot(train) \r\n",
        "plt.plot(test)"
      ],
      "execution_count": 30,
      "outputs": [
        {
          "output_type": "execute_result",
          "data": {
            "text/plain": [
              "[<matplotlib.lines.Line2D at 0x7f82ae539da0>]"
            ]
          },
          "metadata": {
            "tags": []
          },
          "execution_count": 30
        },
        {
          "output_type": "display_data",
          "data": {
            "image/png": "[encoded data removed]",
            "text/plain": [
              "<Figure size 432x288 with 1 Axes>"
            ]
          },
          "metadata": {
            "tags": [],
            "needs_background": "light"
          }
        }
      ]
    },
    {
      "cell_type": "code",
      "metadata": {
        "colab": {
          "base_uri": "https://localhost:8080/"
        },
        "id": "X5t0l6JcNicc",
        "outputId": "f18a5077-af47-469b-db1f-5b6c80153031"
      },
      "source": [
        "model = pm.auto_arima(train, start_p=0, d=1, start_q=0, max_p=5, max_q=5, max_d=5, start_P=0, D=1, start_Q=0, max_P=5, \r\n",
        "                      max_Q=5, max_D=5, seasonal= True, m= 12, error_action = 'warn', trace = True, supress_warnings=True, stepwise=True, \r\n",
        "                      random_state = 20, n_fits = 50)"
      ],
      "execution_count": 31,
      "outputs": [
        {
          "output_type": "stream",
          "text": [
            "Performing stepwise search to minimize aic\n",
            " ARIMA(0,1,0)(0,1,0)[12]             : AIC=12999.515, Time=0.03 sec\n",
            " ARIMA(1,1,0)(1,1,0)[12]             : AIC=12941.472, Time=0.25 sec\n",
            " ARIMA(0,1,1)(0,1,1)[12]             : AIC=12889.653, Time=0.33 sec\n",
            " ARIMA(0,1,1)(0,1,0)[12]             : AIC=12957.940, Time=0.08 sec\n",
            " ARIMA(0,1,1)(1,1,1)[12]             : AIC=12885.910, Time=0.53 sec\n",
            " ARIMA(0,1,1)(1,1,0)[12]             : AIC=12935.619, Time=0.24 sec\n",
            " ARIMA(0,1,1)(2,1,1)[12]             : AIC=12884.825, Time=1.03 sec\n",
            " ARIMA(0,1,1)(2,1,0)[12]             : AIC=12920.167, Time=0.72 sec\n",
            " ARIMA(0,1,1)(3,1,1)[12]             : AIC=12883.370, Time=2.16 sec\n",
            " ARIMA(0,1,1)(3,1,0)[12]             : AIC=12911.279, Time=1.45 sec\n",
            " ARIMA(0,1,1)(4,1,1)[12]             : AIC=12877.499, Time=4.53 sec\n",
            " ARIMA(0,1,1)(4,1,0)[12]             : AIC=12883.802, Time=3.23 sec\n",
            " ARIMA(0,1,1)(5,1,1)[12]             : AIC=12878.604, Time=9.46 sec\n",
            " ARIMA(0,1,1)(4,1,2)[12]             : AIC=12879.279, Time=7.10 sec\n",
            " ARIMA(0,1,1)(3,1,2)[12]             : AIC=12882.842, Time=4.07 sec\n",
            " ARIMA(0,1,1)(5,1,0)[12]             : AIC=12876.677, Time=5.57 sec\n",
            " ARIMA(0,1,0)(5,1,0)[12]             : AIC=inf, Time=4.61 sec\n",
            " ARIMA(1,1,1)(5,1,0)[12]             : AIC=12877.452, Time=7.43 sec\n",
            " ARIMA(0,1,2)(5,1,0)[12]             : AIC=12877.139, Time=6.26 sec\n",
            " ARIMA(1,1,0)(5,1,0)[12]             : AIC=12877.537, Time=5.52 sec\n",
            " ARIMA(1,1,2)(5,1,0)[12]             : AIC=12877.414, Time=13.63 sec\n",
            " ARIMA(0,1,1)(5,1,0)[12] intercept   : AIC=12878.532, Time=5.95 sec\n",
            "\n",
            "Best model:  ARIMA(0,1,1)(5,1,0)[12]          \n",
            "Total fit time: 84.225 seconds\n"
          ],
          "name": "stdout"
        }
      ]
    },
    {
      "cell_type": "code",
      "metadata": {
        "colab": {
          "base_uri": "https://localhost:8080/",
          "height": 524
        },
        "id": "wLOL2AygPwpk",
        "outputId": "3067a2ec-a2c1-4c95-fd28-a54625b20e44"
      },
      "source": [
        "model.summary()"
      ],
      "execution_count": 32,
      "outputs": [
        {
          "output_type": "execute_result",
          "data": {
            "text/html": [
              "<table class=\"simpletable\">\n",
              "<caption>SARIMAX Results</caption>\n",
              "<tr>\n",
              "  <th>Dep. Variable:</th>                  <td>y</td>                <th>  No. Observations:  </th>    <td>302</td>   \n",
              "</tr>\n",
              "<tr>\n",
              "  <th>Model:</th>           <td>SARIMAX(0, 1, 1)x(5, 1, [], 12)</td> <th>  Log Likelihood     </th> <td>-6431.338</td>\n",
              "</tr>\n",
              "<tr>\n",
              "  <th>Date:</th>                   <td>Tue, 02 Feb 2021</td>         <th>  AIC                </th> <td>12876.677</td>\n",
              "</tr>\n",
              "<tr>\n",
              "  <th>Time:</th>                       <td>18:58:03</td>             <th>  BIC                </th> <td>12902.342</td>\n",
              "</tr>\n",
              "<tr>\n",
              "  <th>Sample:</th>                         <td>0</td>                <th>  HQIC               </th> <td>12886.960</td>\n",
              "</tr>\n",
              "<tr>\n",
              "  <th></th>                             <td> - 302</td>              <th>                     </th>     <td> </td>    \n",
              "</tr>\n",
              "<tr>\n",
              "  <th>Covariance Type:</th>               <td>opg</td>               <th>                     </th>     <td> </td>    \n",
              "</tr>\n",
              "</table>\n",
              "<table class=\"simpletable\">\n",
              "<tr>\n",
              "      <td></td>        <th>coef</th>     <th>std err</th>      <th>z</th>      <th>P>|z|</th>  <th>[0.025</th>    <th>0.975]</th>  \n",
              "</tr>\n",
              "<tr>\n",
              "  <th>ma.L1</th>    <td>   -0.3166</td> <td>    0.065</td> <td>   -4.877</td> <td> 0.000</td> <td>   -0.444</td> <td>   -0.189</td>\n",
              "</tr>\n",
              "<tr>\n",
              "  <th>ar.S.L12</th> <td>   -0.6445</td> <td>    0.095</td> <td>   -6.780</td> <td> 0.000</td> <td>   -0.831</td> <td>   -0.458</td>\n",
              "</tr>\n",
              "<tr>\n",
              "  <th>ar.S.L24</th> <td>   -0.6089</td> <td>    0.089</td> <td>   -6.836</td> <td> 0.000</td> <td>   -0.783</td> <td>   -0.434</td>\n",
              "</tr>\n",
              "<tr>\n",
              "  <th>ar.S.L36</th> <td>   -0.5530</td> <td>    0.109</td> <td>   -5.094</td> <td> 0.000</td> <td>   -0.766</td> <td>   -0.340</td>\n",
              "</tr>\n",
              "<tr>\n",
              "  <th>ar.S.L48</th> <td>   -0.5246</td> <td>    0.101</td> <td>   -5.194</td> <td> 0.000</td> <td>   -0.723</td> <td>   -0.327</td>\n",
              "</tr>\n",
              "<tr>\n",
              "  <th>ar.S.L60</th> <td>   -0.2458</td> <td>    0.099</td> <td>   -2.476</td> <td> 0.013</td> <td>   -0.440</td> <td>   -0.051</td>\n",
              "</tr>\n",
              "<tr>\n",
              "  <th>sigma2</th>   <td> 1.765e+18</td> <td>      nan</td> <td>      nan</td> <td>   nan</td> <td>      nan</td> <td>      nan</td>\n",
              "</tr>\n",
              "</table>\n",
              "<table class=\"simpletable\">\n",
              "<tr>\n",
              "  <th>Ljung-Box (L1) (Q):</th>     <td>0.04</td> <th>  Jarque-Bera (JB):  </th> <td>26.42</td>\n",
              "</tr>\n",
              "<tr>\n",
              "  <th>Prob(Q):</th>                <td>0.84</td> <th>  Prob(JB):          </th> <td>0.00</td> \n",
              "</tr>\n",
              "<tr>\n",
              "  <th>Heteroskedasticity (H):</th> <td>6.01</td> <th>  Skew:              </th> <td>-0.23</td>\n",
              "</tr>\n",
              "<tr>\n",
              "  <th>Prob(H) (two-sided):</th>    <td>0.00</td> <th>  Kurtosis:          </th> <td>4.41</td> \n",
              "</tr>\n",
              "</table><br/><br/>Warnings:<br/>[1] Covariance matrix calculated using the outer product of gradients (complex-step).<br/>[2] Covariance matrix is singular or near-singular, with condition number 3.66e+52. Standard errors may be unstable."
            ],
            "text/plain": [
              "<class 'statsmodels.iolib.summary.Summary'>\n",
              "\"\"\"\n",
              "                                      SARIMAX Results                                      \n",
              "===========================================================================================\n",
              "Dep. Variable:                                   y   No. Observations:                  302\n",
              "Model:             SARIMAX(0, 1, 1)x(5, 1, [], 12)   Log Likelihood               -6431.338\n",
              "Date:                             Tue, 02 Feb 2021   AIC                          12876.677\n",
              "Time:                                     18:58:03   BIC                          12902.342\n",
              "Sample:                                          0   HQIC                         12886.960\n",
              "                                             - 302                                         \n",
              "Covariance Type:                               opg                                         \n",
              "==============================================================================\n",
              "                 coef    std err          z      P>|z|      [0.025      0.975]\n",
              "------------------------------------------------------------------------------\n",
              "ma.L1         -0.3166      0.065     -4.877      0.000      -0.444      -0.189\n",
              "ar.S.L12      -0.6445      0.095     -6.780      0.000      -0.831      -0.458\n",
              "ar.S.L24      -0.6089      0.089     -6.836      0.000      -0.783      -0.434\n",
              "ar.S.L36      -0.5530      0.109     -5.094      0.000      -0.766      -0.340\n",
              "ar.S.L48      -0.5246      0.101     -5.194      0.000      -0.723      -0.327\n",
              "ar.S.L60      -0.2458      0.099     -2.476      0.013      -0.440      -0.051\n",
              "sigma2      1.765e+18        nan        nan        nan         nan         nan\n",
              "===================================================================================\n",
              "Ljung-Box (L1) (Q):                   0.04   Jarque-Bera (JB):                26.42\n",
              "Prob(Q):                              0.84   Prob(JB):                         0.00\n",
              "Heteroskedasticity (H):               6.01   Skew:                            -0.23\n",
              "Prob(H) (two-sided):                  0.00   Kurtosis:                         4.41\n",
              "===================================================================================\n",
              "\n",
              "Warnings:\n",
              "[1] Covariance matrix calculated using the outer product of gradients (complex-step).\n",
              "[2] Covariance matrix is singular or near-singular, with condition number 3.66e+52. Standard errors may be unstable.\n",
              "\"\"\""
            ]
          },
          "metadata": {
            "tags": []
          },
          "execution_count": 32
        }
      ]
    },
    {
      "cell_type": "code",
      "metadata": {
        "colab": {
          "base_uri": "https://localhost:8080/",
          "height": 452
        },
        "id": "dpz6xyRMP_9E",
        "outputId": "6586c4dd-0cfb-4480-850e-fc7e5239951f"
      },
      "source": [
        "prediction = pd.DataFrame(model.predict(n_periods = 12), index = test.index)\r\n",
        "prediction"
      ],
      "execution_count": 33,
      "outputs": [
        {
          "output_type": "execute_result",
          "data": {
            "text/html": [
              "<div>\n",
              "<style scoped>\n",
              "    .dataframe tbody tr th:only-of-type {\n",
              "        vertical-align: middle;\n",
              "    }\n",
              "\n",
              "    .dataframe tbody tr th {\n",
              "        vertical-align: top;\n",
              "    }\n",
              "\n",
              "    .dataframe thead th {\n",
              "        text-align: right;\n",
              "    }\n",
              "</style>\n",
              "<table border=\"1\" class=\"dataframe\">\n",
              "  <thead>\n",
              "    <tr style=\"text-align: right;\">\n",
              "      <th></th>\n",
              "      <th>0</th>\n",
              "    </tr>\n",
              "    <tr>\n",
              "      <th>ds</th>\n",
              "      <th></th>\n",
              "    </tr>\n",
              "  </thead>\n",
              "  <tbody>\n",
              "    <tr>\n",
              "      <th>2019-03-01</th>\n",
              "      <td>1.365209e+10</td>\n",
              "    </tr>\n",
              "    <tr>\n",
              "      <th>2019-04-01</th>\n",
              "      <td>1.454336e+10</td>\n",
              "    </tr>\n",
              "    <tr>\n",
              "      <th>2019-05-01</th>\n",
              "      <td>1.450923e+10</td>\n",
              "    </tr>\n",
              "    <tr>\n",
              "      <th>2019-06-01</th>\n",
              "      <td>1.394539e+10</td>\n",
              "    </tr>\n",
              "    <tr>\n",
              "      <th>2019-07-01</th>\n",
              "      <td>1.733680e+10</td>\n",
              "    </tr>\n",
              "    <tr>\n",
              "      <th>2019-08-01</th>\n",
              "      <td>1.618166e+10</td>\n",
              "    </tr>\n",
              "    <tr>\n",
              "      <th>2019-09-01</th>\n",
              "      <td>1.449847e+10</td>\n",
              "    </tr>\n",
              "    <tr>\n",
              "      <th>2019-10-01</th>\n",
              "      <td>1.593427e+10</td>\n",
              "    </tr>\n",
              "    <tr>\n",
              "      <th>2019-11-01</th>\n",
              "      <td>1.478355e+10</td>\n",
              "    </tr>\n",
              "    <tr>\n",
              "      <th>2019-12-01</th>\n",
              "      <td>1.283431e+10</td>\n",
              "    </tr>\n",
              "    <tr>\n",
              "      <th>2020-01-01</th>\n",
              "      <td>1.453020e+10</td>\n",
              "    </tr>\n",
              "    <tr>\n",
              "      <th>2020-02-01</th>\n",
              "      <td>1.208746e+10</td>\n",
              "    </tr>\n",
              "  </tbody>\n",
              "</table>\n",
              "</div>"
            ],
            "text/plain": [
              "                       0\n",
              "ds                      \n",
              "2019-03-01  1.365209e+10\n",
              "2019-04-01  1.454336e+10\n",
              "2019-05-01  1.450923e+10\n",
              "2019-06-01  1.394539e+10\n",
              "2019-07-01  1.733680e+10\n",
              "2019-08-01  1.618166e+10\n",
              "2019-09-01  1.449847e+10\n",
              "2019-10-01  1.593427e+10\n",
              "2019-11-01  1.478355e+10\n",
              "2019-12-01  1.283431e+10\n",
              "2020-01-01  1.453020e+10\n",
              "2020-02-01  1.208746e+10"
            ]
          },
          "metadata": {
            "tags": []
          },
          "execution_count": 33
        }
      ]
    },
    {
      "cell_type": "code",
      "metadata": {
        "colab": {
          "base_uri": "https://localhost:8080/",
          "height": 331
        },
        "id": "Fn5m4dODQ6qM",
        "outputId": "93768e25-3065-4ca4-a1fc-17f223b655b6"
      },
      "source": [
        "plt.figure(figsize=(15,5))\r\n",
        "plt.plot(train, label= \"Train\")\r\n",
        "plt.plot(test, label= 'Test')\r\n",
        "plt.plot(prediction, label = 'Previsão')\r\n",
        "plt.show()"
      ],
      "execution_count": 34,
      "outputs": [
        {
          "output_type": "display_data",
          "data": {
            "image/png": "[encoded data removed]",
            "text/plain": [
              "<Figure size 1080x360 with 1 Axes>"
            ]
          },
          "metadata": {
            "tags": [],
            "needs_background": "light"
          }
        }
      ]
    },
    {
      "cell_type": "code",
      "metadata": {
        "colab": {
          "base_uri": "https://localhost:8080/"
        },
        "id": "36_oqpWyRV1N",
        "outputId": "1be6d669-5721-4743-e467-5b9c755fe144"
      },
      "source": [
        "from sklearn.metrics import r2_score\r\n",
        "test['0'] = prediction\r\n",
        "r2_score(test['y'], test['0'])"
      ],
      "execution_count": 35,
      "outputs": [
        {
          "output_type": "execute_result",
          "data": {
            "text/plain": [
              "0.6367244036968529"
            ]
          },
          "metadata": {
            "tags": []
          },
          "execution_count": 35
        }
      ]
    },
    {
      "cell_type": "code",
      "metadata": {
        "colab": {
          "base_uri": "https://localhost:8080/",
          "height": 452
        },
        "id": "RE5Ks7TjExZQ",
        "outputId": "b8f3385a-da61-40f0-e438-6331324f3ee7"
      },
      "source": [
        "test = test.drop(columns=['0'])\r\n",
        "test"
      ],
      "execution_count": 37,
      "outputs": [
        {
          "output_type": "execute_result",
          "data": {
            "text/html": [
              "<div>\n",
              "<style scoped>\n",
              "    .dataframe tbody tr th:only-of-type {\n",
              "        vertical-align: middle;\n",
              "    }\n",
              "\n",
              "    .dataframe tbody tr th {\n",
              "        vertical-align: top;\n",
              "    }\n",
              "\n",
              "    .dataframe thead th {\n",
              "        text-align: right;\n",
              "    }\n",
              "</style>\n",
              "<table border=\"1\" class=\"dataframe\">\n",
              "  <thead>\n",
              "    <tr style=\"text-align: right;\">\n",
              "      <th></th>\n",
              "      <th>y</th>\n",
              "    </tr>\n",
              "    <tr>\n",
              "      <th>ds</th>\n",
              "      <th></th>\n",
              "    </tr>\n",
              "  </thead>\n",
              "  <tbody>\n",
              "    <tr>\n",
              "      <th>2019-03-01</th>\n",
              "      <td>13132998803</td>\n",
              "    </tr>\n",
              "    <tr>\n",
              "      <th>2019-04-01</th>\n",
              "      <td>13628618723</td>\n",
              "    </tr>\n",
              "    <tr>\n",
              "      <th>2019-05-01</th>\n",
              "      <td>14968051867</td>\n",
              "    </tr>\n",
              "    <tr>\n",
              "      <th>2019-06-01</th>\n",
              "      <td>13028629358</td>\n",
              "    </tr>\n",
              "    <tr>\n",
              "      <th>2019-07-01</th>\n",
              "      <td>17759476963</td>\n",
              "    </tr>\n",
              "    <tr>\n",
              "      <th>2019-08-01</th>\n",
              "      <td>15569921736</td>\n",
              "    </tr>\n",
              "    <tr>\n",
              "      <th>2019-09-01</th>\n",
              "      <td>16495171374</td>\n",
              "    </tr>\n",
              "    <tr>\n",
              "      <th>2019-10-01</th>\n",
              "      <td>17027283951</td>\n",
              "    </tr>\n",
              "    <tr>\n",
              "      <th>2019-11-01</th>\n",
              "      <td>14172102789</td>\n",
              "    </tr>\n",
              "    <tr>\n",
              "      <th>2019-12-01</th>\n",
              "      <td>12556086388</td>\n",
              "    </tr>\n",
              "    <tr>\n",
              "      <th>2020-01-01</th>\n",
              "      <td>16178224141</td>\n",
              "    </tr>\n",
              "    <tr>\n",
              "      <th>2020-02-01</th>\n",
              "      <td>13257290693</td>\n",
              "    </tr>\n",
              "  </tbody>\n",
              "</table>\n",
              "</div>"
            ],
            "text/plain": [
              "                      y\n",
              "ds                     \n",
              "2019-03-01  13132998803\n",
              "2019-04-01  13628618723\n",
              "2019-05-01  14968051867\n",
              "2019-06-01  13028629358\n",
              "2019-07-01  17759476963\n",
              "2019-08-01  15569921736\n",
              "2019-09-01  16495171374\n",
              "2019-10-01  17027283951\n",
              "2019-11-01  14172102789\n",
              "2019-12-01  12556086388\n",
              "2020-01-01  16178224141\n",
              "2020-02-01  13257290693"
            ]
          },
          "metadata": {
            "tags": []
          },
          "execution_count": 37
        }
      ]
    },
    {
      "cell_type": "code",
      "metadata": {
        "colab": {
          "base_uri": "https://localhost:8080/"
        },
        "id": "snk0Kdeo_4FA",
        "outputId": "199d3d91-03ce-45ab-905a-5eb2a22d7562"
      },
      "source": [
        "print(f'RMSE= {mean_squared_error(test, prediction)}')"
      ],
      "execution_count": 38,
      "outputs": [
        {
          "output_type": "stream",
          "text": [
            "RMSE= 1.0356092313266452e+18\n"
          ],
          "name": "stdout"
        }
      ]
    }
  ]
}